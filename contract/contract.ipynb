{
 "cells": [
  {
   "cell_type": "code",
   "execution_count": 4,
   "id": "75a968b6-d364-41fd-b3bd-a14efe519793",
   "metadata": {},
   "outputs": [],
   "source": [
    "import json\n",
    "from web3 import Web3\n",
    "from solcx import compile_standard, install_solc\n",
    "import os\n",
    "from dotenv import load_dotenv"
   ]
  },
  {
   "cell_type": "code",
   "execution_count": 5,
   "id": "49aa4149-9348-45f1-befd-333c5be1dfd1",
   "metadata": {},
   "outputs": [
    {
     "data": {
      "text/plain": [
       "False"
      ]
     },
     "execution_count": 5,
     "metadata": {},
     "output_type": "execute_result"
    }
   ],
   "source": [
    "load_dotenv()"
   ]
  },
  {
   "cell_type": "code",
   "execution_count": 34,
   "id": "3b699213-0e36-49c0-9f19-7c336af877a3",
   "metadata": {},
   "outputs": [],
   "source": [
    "with open(\n",
    "    \"/home/sahilarora/capstone-19BCE1366-2023/contract/SimpleStorageContract.sol\",\n",
    "    \"r\",\n",
    ") as file:\n",
    "    simple_storage_file = file.read()"
   ]
  },
  {
   "cell_type": "code",
   "execution_count": 35,
   "id": "98d61d79-609b-4768-bf47-efc6b7e3b00a",
   "metadata": {},
   "outputs": [
    {
     "data": {
      "text/plain": [
       "Version('0.6.0')"
      ]
     },
     "execution_count": 35,
     "metadata": {},
     "output_type": "execute_result"
    }
   ],
   "source": [
    "install_solc(\"0.6.0\")"
   ]
  },
  {
   "cell_type": "code",
   "execution_count": 36,
   "id": "e5fa45ec-fff7-496a-b2ca-32c0db2f4d6a",
   "metadata": {},
   "outputs": [],
   "source": [
    "compiled_sol = compile_standard(\n",
    "    {\n",
    "        \"language\": \"Solidity\",\n",
    "        \"sources\": {\"SimpleStorageContract.sol\": {\"content\": simple_storage_file}},\n",
    "        \"settings\": {\n",
    "            \"outputSelection\": {\n",
    "                \"*\": {\n",
    "                    \"*\": [\"abi\", \"metadata\", \"evm.bytecode\", \"evm.bytecode.sourceMap\"]\n",
    "                }\n",
    "            }\n",
    "        },\n",
    "    },\n",
    "    solc_version=\"0.6.0\",\n",
    ")\n",
    "\n",
    "with open(\"compiled_code.json\", \"w\") as file:\n",
    "    json.dump(compiled_sol, file)\n",
    "\n"
   ]
  },
  {
   "cell_type": "code",
   "execution_count": 37,
   "id": "8661a215-b7ad-49e6-b0c0-3ab54a106052",
   "metadata": {},
   "outputs": [],
   "source": [
    "bytecode = compiled_sol[\"contracts\"][\"SimpleStorageContract.sol\"][\"SimpleStorage\"][\n",
    "    \"evm\"\n",
    "][\"bytecode\"][\"object\"]"
   ]
  },
  {
   "cell_type": "code",
   "execution_count": 38,
   "id": "2d7b98ab-048e-4c41-bb9c-f334cb79ea2d",
   "metadata": {},
   "outputs": [],
   "source": [
    "abi = json.loads(\n",
    "    compiled_sol[\"contracts\"][\"SimpleStorageContract.sol\"][\"SimpleStorage\"][\"metadata\"]\n",
    ")[\"output\"][\"abi\"]"
   ]
  },
  {
   "cell_type": "code",
   "execution_count": 45,
   "id": "530d37a8-c11f-4b32-a677-cbfd74b180d8",
   "metadata": {},
   "outputs": [],
   "source": [
    "w3 = Web3(Web3.HTTPProvider(\"HTTP://127.0.0.1:8545\"))"
   ]
  },
  {
   "cell_type": "code",
   "execution_count": 46,
   "id": "3ba8b151-7d5d-477d-81f7-bb9d3771369c",
   "metadata": {},
   "outputs": [],
   "source": [
    "chain_id = 1337\n",
    "my_address = \"0x6A426eBA773251ab38293dF600966B4d0680B9b5\"\n",
    "# private_key = os.getenv(\"PRIVATE_KEY\")\n",
    "private_key = \"0xb28074e5a10e4e7353aafa1deb4593df4c0dcf49848c3c4b275c0b37ee8aa184\""
   ]
  },
  {
   "cell_type": "code",
   "execution_count": 60,
   "id": "59b53706-444c-4019-9c2a-67f2f16d1458",
   "metadata": {},
   "outputs": [],
   "source": [
    "SimpleStorage = w3.eth.contract(abi=abi, bytecode=bytecode)"
   ]
  },
  {
   "cell_type": "code",
   "execution_count": 61,
   "id": "6663c484-638f-4ccc-a273-bece7e256557",
   "metadata": {},
   "outputs": [],
   "source": [
    "nonce = w3.eth.getTransactionCount(my_address)"
   ]
  },
  {
   "cell_type": "code",
   "execution_count": 62,
   "id": "d350c580-b3b4-470e-914a-cb4181ab3715",
   "metadata": {},
   "outputs": [],
   "source": [
    "tx = SimpleStorage.constructor().buildTransaction(\n",
    "    {\n",
    "        \"chainId\": chain_id,\n",
    "        \"gasPrice\": w3.eth.gas_price,\n",
    "        \"from\": my_address,\n",
    "        \"nonce\": nonce,\n",
    "    }\n",
    ")"
   ]
  },
  {
   "cell_type": "code",
   "execution_count": 63,
   "id": "3a70c58b-064e-4dc5-9bbb-99fc9172c766",
   "metadata": {},
   "outputs": [],
   "source": [
    "signed_tx = w3.eth.account.signTransaction(tx, private_key=private_key)"
   ]
  },
  {
   "cell_type": "code",
   "execution_count": 64,
   "id": "cf4f0c8f-c07e-4234-ac1f-16f7534d6940",
   "metadata": {},
   "outputs": [],
   "source": [
    "tx_hash = w3.eth.send_raw_transaction(signed_tx.rawTransaction)\n",
    "tx_receipt = w3.eth.wait_for_transaction_receipt(tx_hash)"
   ]
  },
  {
   "cell_type": "code",
   "execution_count": 65,
   "id": "3c88d931-711b-4cac-a40d-09a457540fa6",
   "metadata": {},
   "outputs": [
    {
     "name": "stdout",
     "output_type": "stream",
     "text": [
      "Contract deployed to 0x695FcFCf4F3877A1272a81ed160acDFAFE756962\n"
     ]
    }
   ],
   "source": [
    "print(f\"Contract deployed to {tx_receipt.contractAddress}\")"
   ]
  },
  {
   "cell_type": "code",
   "execution_count": 66,
   "id": "89430d83-31d9-45d2-add7-5eedf2cdc008",
   "metadata": {},
   "outputs": [],
   "source": [
    "simple_storage = w3.eth.contract(address=tx_receipt.contractAddress, abi=abi)"
   ]
  },
  {
   "cell_type": "code",
   "execution_count": 67,
   "id": "e64c72c2-80bc-4a69-a573-08b721a251a7",
   "metadata": {},
   "outputs": [
    {
     "name": "stdout",
     "output_type": "stream",
     "text": [
      "Initial stored value at Retrieve 0\n"
     ]
    }
   ],
   "source": [
    "print(f\"Initial stored value at Retrieve {simple_storage.functions.retrieve().call()}\")"
   ]
  },
  {
   "cell_type": "code",
   "execution_count": 68,
   "id": "44194ea7-b474-40f3-9695-298c2adc4d82",
   "metadata": {},
   "outputs": [],
   "source": [
    "new_transaction = simple_storage.functions.store(25).buildTransaction(\n",
    "    {\n",
    "        \"chainId\": chain_id,\n",
    "        \"gasPrice\": w3.eth.gas_price,\n",
    "        \"from\": my_address,\n",
    "        \"nonce\": nonce + 1,\n",
    "    }\n",
    ")"
   ]
  },
  {
   "cell_type": "code",
   "execution_count": 69,
   "id": "613c1e4e-785a-41c3-9e5b-e9a8c7266ce2",
   "metadata": {},
   "outputs": [],
   "source": [
    "signed_new_txn = w3.eth.account.sign_transaction(\n",
    "    new_transaction, private_key=private_key\n",
    ")"
   ]
  },
  {
   "cell_type": "code",
   "execution_count": 73,
   "id": "09907ed8-90a0-407f-b239-cb9c3093c9c6",
   "metadata": {},
   "outputs": [
    {
     "ename": "ValueError",
     "evalue": "{'message': \"the tx doesn't have the correct nonce. account has nonce of: 4 tx has nonce of: 3\", 'stack': \"Error: the tx doesn't have the correct nonce. account has nonce of: 4 tx has nonce of: 3\\n    at TransactionPool.prepareTransaction (/usr/lib/node_modules/ganache/dist/node/1.js:2:166240)\", 'code': -32000}",
     "output_type": "error",
     "traceback": [
      "\u001b[0;31m---------------------------------------------------------------------------\u001b[0m",
      "\u001b[0;31mValueError\u001b[0m                                Traceback (most recent call last)",
      "Input \u001b[0;32mIn [73]\u001b[0m, in \u001b[0;36m<cell line: 1>\u001b[0;34m()\u001b[0m\n\u001b[0;32m----> 1\u001b[0m tx_new_hash \u001b[38;5;241m=\u001b[39m \u001b[43mw3\u001b[49m\u001b[38;5;241;43m.\u001b[39;49m\u001b[43meth\u001b[49m\u001b[38;5;241;43m.\u001b[39;49m\u001b[43msend_raw_transaction\u001b[49m\u001b[43m(\u001b[49m\u001b[43msigned_new_txn\u001b[49m\u001b[38;5;241;43m.\u001b[39;49m\u001b[43mrawTransaction\u001b[49m\u001b[43m)\u001b[49m\n\u001b[1;32m      2\u001b[0m \u001b[38;5;28mprint\u001b[39m(\u001b[38;5;124m\"\u001b[39m\u001b[38;5;124mSending new transaction...\u001b[39m\u001b[38;5;124m\"\u001b[39m)\n\u001b[1;32m      3\u001b[0m tx_new_receipt \u001b[38;5;241m=\u001b[39m w3\u001b[38;5;241m.\u001b[39meth\u001b[38;5;241m.\u001b[39mwait_for_transaction_receipt(tx_new_hash)\n",
      "File \u001b[0;32m~/anaconda3/lib/python3.9/site-packages/web3/eth.py:831\u001b[0m, in \u001b[0;36mEth.send_raw_transaction\u001b[0;34m(self, transaction)\u001b[0m\n\u001b[1;32m    830\u001b[0m \u001b[38;5;28;01mdef\u001b[39;00m \u001b[38;5;21msend_raw_transaction\u001b[39m(\u001b[38;5;28mself\u001b[39m, transaction: Union[HexStr, \u001b[38;5;28mbytes\u001b[39m]) \u001b[38;5;241m-\u001b[39m\u001b[38;5;241m>\u001b[39m HexBytes:\n\u001b[0;32m--> 831\u001b[0m     \u001b[38;5;28;01mreturn\u001b[39;00m \u001b[38;5;28;43mself\u001b[39;49m\u001b[38;5;241;43m.\u001b[39;49m\u001b[43m_send_raw_transaction\u001b[49m\u001b[43m(\u001b[49m\u001b[43mtransaction\u001b[49m\u001b[43m)\u001b[49m\n",
      "File \u001b[0;32m~/anaconda3/lib/python3.9/site-packages/web3/module.py:57\u001b[0m, in \u001b[0;36mretrieve_blocking_method_call_fn.<locals>.caller\u001b[0;34m(*args, **kwargs)\u001b[0m\n\u001b[1;32m     55\u001b[0m     \u001b[38;5;28;01mreturn\u001b[39;00m LogFilter(eth_module\u001b[38;5;241m=\u001b[39mmodule, filter_id\u001b[38;5;241m=\u001b[39merr\u001b[38;5;241m.\u001b[39mfilter_id)\n\u001b[1;32m     56\u001b[0m result_formatters, error_formatters, null_result_formatters \u001b[38;5;241m=\u001b[39m response_formatters\n\u001b[0;32m---> 57\u001b[0m result \u001b[38;5;241m=\u001b[39m \u001b[43mw3\u001b[49m\u001b[38;5;241;43m.\u001b[39;49m\u001b[43mmanager\u001b[49m\u001b[38;5;241;43m.\u001b[39;49m\u001b[43mrequest_blocking\u001b[49m\u001b[43m(\u001b[49m\u001b[43mmethod_str\u001b[49m\u001b[43m,\u001b[49m\n\u001b[1;32m     58\u001b[0m \u001b[43m                                     \u001b[49m\u001b[43mparams\u001b[49m\u001b[43m,\u001b[49m\n\u001b[1;32m     59\u001b[0m \u001b[43m                                     \u001b[49m\u001b[43merror_formatters\u001b[49m\u001b[43m,\u001b[49m\n\u001b[1;32m     60\u001b[0m \u001b[43m                                     \u001b[49m\u001b[43mnull_result_formatters\u001b[49m\u001b[43m)\u001b[49m\n\u001b[1;32m     61\u001b[0m \u001b[38;5;28;01mreturn\u001b[39;00m apply_result_formatters(result_formatters, result)\n",
      "File \u001b[0;32m~/anaconda3/lib/python3.9/site-packages/web3/manager.py:198\u001b[0m, in \u001b[0;36mRequestManager.request_blocking\u001b[0;34m(self, method, params, error_formatters, null_result_formatters)\u001b[0m\n\u001b[1;32m    194\u001b[0m \u001b[38;5;124;03m\"\"\"\u001b[39;00m\n\u001b[1;32m    195\u001b[0m \u001b[38;5;124;03mMake a synchronous request using the provider\u001b[39;00m\n\u001b[1;32m    196\u001b[0m \u001b[38;5;124;03m\"\"\"\u001b[39;00m\n\u001b[1;32m    197\u001b[0m response \u001b[38;5;241m=\u001b[39m \u001b[38;5;28mself\u001b[39m\u001b[38;5;241m.\u001b[39m_make_request(method, params)\n\u001b[0;32m--> 198\u001b[0m \u001b[38;5;28;01mreturn\u001b[39;00m \u001b[38;5;28;43mself\u001b[39;49m\u001b[38;5;241;43m.\u001b[39;49m\u001b[43mformatted_response\u001b[49m\u001b[43m(\u001b[49m\u001b[43mresponse\u001b[49m\u001b[43m,\u001b[49m\n\u001b[1;32m    199\u001b[0m \u001b[43m                               \u001b[49m\u001b[43mparams\u001b[49m\u001b[43m,\u001b[49m\n\u001b[1;32m    200\u001b[0m \u001b[43m                               \u001b[49m\u001b[43merror_formatters\u001b[49m\u001b[43m,\u001b[49m\n\u001b[1;32m    201\u001b[0m \u001b[43m                               \u001b[49m\u001b[43mnull_result_formatters\u001b[49m\u001b[43m)\u001b[49m\n",
      "File \u001b[0;32m~/anaconda3/lib/python3.9/site-packages/web3/manager.py:171\u001b[0m, in \u001b[0;36mRequestManager.formatted_response\u001b[0;34m(response, params, error_formatters, null_result_formatters)\u001b[0m\n\u001b[1;32m    169\u001b[0m \u001b[38;5;28;01mif\u001b[39;00m \u001b[38;5;124m\"\u001b[39m\u001b[38;5;124merror\u001b[39m\u001b[38;5;124m\"\u001b[39m \u001b[38;5;129;01min\u001b[39;00m response:\n\u001b[1;32m    170\u001b[0m     apply_error_formatters(error_formatters, response)\n\u001b[0;32m--> 171\u001b[0m     \u001b[38;5;28;01mraise\u001b[39;00m \u001b[38;5;167;01mValueError\u001b[39;00m(response[\u001b[38;5;124m\"\u001b[39m\u001b[38;5;124merror\u001b[39m\u001b[38;5;124m\"\u001b[39m])\n\u001b[1;32m    172\u001b[0m \u001b[38;5;66;03m# NULL_RESPONSES includes None, so return False here as the default\u001b[39;00m\n\u001b[1;32m    173\u001b[0m \u001b[38;5;66;03m# so we don't apply the null_result_formatters if there is no 'result' key\u001b[39;00m\n\u001b[1;32m    174\u001b[0m \u001b[38;5;28;01melif\u001b[39;00m response\u001b[38;5;241m.\u001b[39mget(\u001b[38;5;124m'\u001b[39m\u001b[38;5;124mresult\u001b[39m\u001b[38;5;124m'\u001b[39m, \u001b[38;5;28;01mFalse\u001b[39;00m) \u001b[38;5;129;01min\u001b[39;00m NULL_RESPONSES:\n\u001b[1;32m    175\u001b[0m     \u001b[38;5;66;03m# null_result_formatters raise either a BlockNotFound\u001b[39;00m\n\u001b[1;32m    176\u001b[0m     \u001b[38;5;66;03m# or a TransactionNotFound error, depending on the method called\u001b[39;00m\n",
      "\u001b[0;31mValueError\u001b[0m: {'message': \"the tx doesn't have the correct nonce. account has nonce of: 4 tx has nonce of: 3\", 'stack': \"Error: the tx doesn't have the correct nonce. account has nonce of: 4 tx has nonce of: 3\\n    at TransactionPool.prepareTransaction (/usr/lib/node_modules/ganache/dist/node/1.js:2:166240)\", 'code': -32000}"
     ]
    }
   ],
   "source": [
    "tx_new_hash = w3.eth.send_raw_transaction(signed_new_txn.rawTransaction)\n",
    "print(\"Sending new transaction...\")\n",
    "tx_new_receipt = w3.eth.wait_for_transaction_receipt(tx_new_hash)"
   ]
  },
  {
   "cell_type": "code",
   "execution_count": 72,
   "id": "dc05c26d-eed1-477f-b55f-0b655b9f143e",
   "metadata": {},
   "outputs": [
    {
     "name": "stdout",
     "output_type": "stream",
     "text": [
      "New stored value at Retrieve 25\n"
     ]
    }
   ],
   "source": [
    "print(f\"New stored value at Retrieve {simple_storage.functions.retrieve().call()}\")"
   ]
  },
  {
   "cell_type": "code",
   "execution_count": null,
   "id": "5888a86e-f2c4-44bb-9f90-e38d5bb5b576",
   "metadata": {},
   "outputs": [],
   "source": []
  }
 ],
 "metadata": {
  "kernelspec": {
   "display_name": "Python 3 (ipykernel)",
   "language": "python",
   "name": "python3"
  },
  "language_info": {
   "codemirror_mode": {
    "name": "ipython",
    "version": 3
   },
   "file_extension": ".py",
   "mimetype": "text/x-python",
   "name": "python",
   "nbconvert_exporter": "python",
   "pygments_lexer": "ipython3",
   "version": "3.9.12"
  }
 },
 "nbformat": 4,
 "nbformat_minor": 5
}
