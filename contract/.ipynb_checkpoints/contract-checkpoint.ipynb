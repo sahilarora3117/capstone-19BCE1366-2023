{
 "cells": [
  {
   "cell_type": "code",
   "execution_count": 1,
   "id": "75a968b6-d364-41fd-b3bd-a14efe519793",
   "metadata": {},
   "outputs": [
    {
     "name": "stderr",
     "output_type": "stream",
     "text": [
      "which: no solc in (/home/sahilarora/anaconda3/bin:/home/sahilarora/anaconda3/condabin:/home/sahilarora/.cargo/bin:/usr/local/sbin:/usr/local/bin:/usr/bin:/home/sahilarora/.dotnet/tools:/usr/lib/jvm/default/bin:/usr/bin/site_perl:/usr/bin/vendor_perl:/usr/bin/core_perl)\n"
     ]
    }
   ],
   "source": [
    "import json\n",
    "from web3 import Web3\n",
    "from solcx import compile_standard, install_solc\n",
    "import os\n",
    "from dotenv import load_dotenv"
   ]
  },
  {
   "cell_type": "code",
   "execution_count": 2,
   "id": "49aa4149-9348-45f1-befd-333c5be1dfd1",
   "metadata": {},
   "outputs": [
    {
     "data": {
      "text/plain": [
       "False"
      ]
     },
     "execution_count": 2,
     "metadata": {},
     "output_type": "execute_result"
    }
   ],
   "source": [
    "load_dotenv()"
   ]
  },
  {
   "cell_type": "code",
   "execution_count": 3,
   "id": "3b699213-0e36-49c0-9f19-7c336af877a3",
   "metadata": {},
   "outputs": [],
   "source": [
    "with open(\n",
    "    \"/home/sahilarora/capstone-19BCE1366-2023/contract/SimpleStorageContract.sol\",\n",
    "    \"r\",\n",
    ") as file:\n",
    "    simple_storage_file = file.read()"
   ]
  },
  {
   "cell_type": "code",
   "execution_count": 4,
   "id": "98d61d79-609b-4768-bf47-efc6b7e3b00a",
   "metadata": {},
   "outputs": [
    {
     "data": {
      "text/plain": [
       "Version('0.6.0')"
      ]
     },
     "execution_count": 4,
     "metadata": {},
     "output_type": "execute_result"
    }
   ],
   "source": [
    "install_solc(\"0.6.0\")"
   ]
  },
  {
   "cell_type": "code",
   "execution_count": 5,
   "id": "e5fa45ec-fff7-496a-b2ca-32c0db2f4d6a",
   "metadata": {},
   "outputs": [],
   "source": [
    "compiled_sol = compile_standard(\n",
    "    {\n",
    "        \"language\": \"Solidity\",\n",
    "        \"sources\": {\"SimpleStorageContract.sol\": {\"content\": simple_storage_file}},\n",
    "        \"settings\": {\n",
    "            \"outputSelection\": {\n",
    "                \"*\": {\n",
    "                    \"*\": [\"abi\", \"metadata\", \"evm.bytecode\", \"evm.bytecode.sourceMap\"]\n",
    "                }\n",
    "            }\n",
    "        },\n",
    "    },\n",
    "    solc_version=\"0.6.0\",\n",
    ")\n",
    "\n",
    "with open(\"compiled_code.json\", \"w\") as file:\n",
    "    json.dump(compiled_sol, file)\n",
    "\n"
   ]
  },
  {
   "cell_type": "code",
   "execution_count": 6,
   "id": "8661a215-b7ad-49e6-b0c0-3ab54a106052",
   "metadata": {},
   "outputs": [],
   "source": [
    "bytecode = compiled_sol[\"contracts\"][\"SimpleStorageContract.sol\"][\"SimpleStorage\"][\n",
    "    \"evm\"\n",
    "][\"bytecode\"][\"object\"]"
   ]
  },
  {
   "cell_type": "code",
   "execution_count": 7,
   "id": "2d7b98ab-048e-4c41-bb9c-f334cb79ea2d",
   "metadata": {},
   "outputs": [],
   "source": [
    "abi = json.loads(\n",
    "    compiled_sol[\"contracts\"][\"SimpleStorageContract.sol\"][\"SimpleStorage\"][\"metadata\"]\n",
    ")[\"output\"][\"abi\"]"
   ]
  },
  {
   "cell_type": "code",
   "execution_count": 8,
   "id": "530d37a8-c11f-4b32-a677-cbfd74b180d8",
   "metadata": {},
   "outputs": [],
   "source": [
    "w3 = Web3(Web3.HTTPProvider(\"HTTP://127.0.0.1:8545\"))"
   ]
  },
  {
   "cell_type": "code",
   "execution_count": 9,
   "id": "3ba8b151-7d5d-477d-81f7-bb9d3771369c",
   "metadata": {},
   "outputs": [],
   "source": [
    "chain_id = 1337\n",
    "my_address = \"0x7d549df611cdf4261befa03D9530c848a808D0a2\"\n",
    "# private_key = os.getenv(\"PRIVATE_KEY\")\n",
    "private_key = \"0xf5804f4f4a7e51ec9a9566862e6d0129d3724fbb325acb38367abd328f6fc856\""
   ]
  },
  {
   "cell_type": "code",
   "execution_count": 10,
   "id": "59b53706-444c-4019-9c2a-67f2f16d1458",
   "metadata": {},
   "outputs": [],
   "source": [
    "SimpleStorage = w3.eth.contract(abi=abi, bytecode=bytecode)"
   ]
  },
  {
   "cell_type": "code",
   "execution_count": 11,
   "id": "6663c484-638f-4ccc-a273-bece7e256557",
   "metadata": {},
   "outputs": [
    {
     "data": {
      "text/plain": [
       "0"
      ]
     },
     "execution_count": 11,
     "metadata": {},
     "output_type": "execute_result"
    }
   ],
   "source": [
    "nonce = w3.eth.getTransactionCount(my_address)\n",
    "nonce"
   ]
  },
  {
   "cell_type": "code",
   "execution_count": 40,
   "id": "d350c580-b3b4-470e-914a-cb4181ab3715",
   "metadata": {},
   "outputs": [],
   "source": [
    "tx = SimpleStorage.constructor().buildTransaction(\n",
    "    {\n",
    "        \"chainId\": chain_id,\n",
    "        \"gasPrice\": w3.eth.gas_price,\n",
    "        \"from\": my_address,\n",
    "        \"nonce\": w3.eth.getTransactionCount(my_address),\n",
    "    }\n",
    ")"
   ]
  },
  {
   "cell_type": "code",
   "execution_count": 41,
   "id": "3a70c58b-064e-4dc5-9bbb-99fc9172c766",
   "metadata": {},
   "outputs": [],
   "source": [
    "signed_tx = w3.eth.account.signTransaction(tx, private_key=private_key)"
   ]
  },
  {
   "cell_type": "code",
   "execution_count": 42,
   "id": "cf4f0c8f-c07e-4234-ac1f-16f7534d6940",
   "metadata": {},
   "outputs": [],
   "source": [
    "tx_hash = w3.eth.send_raw_transaction(signed_tx.rawTransaction)\n",
    "tx_receipt = w3.eth.wait_for_transaction_receipt(tx_hash)"
   ]
  },
  {
   "cell_type": "code",
   "execution_count": 43,
   "id": "3c88d931-711b-4cac-a40d-09a457540fa6",
   "metadata": {},
   "outputs": [
    {
     "name": "stdout",
     "output_type": "stream",
     "text": [
      "Contract deployed to 0x4966dD92072Ed0e86F32F4097fd5d838d0f1AF11\n"
     ]
    }
   ],
   "source": [
    "print(f\"Contract deployed to {tx_receipt.contractAddress}\")"
   ]
  },
  {
   "cell_type": "code",
   "execution_count": 44,
   "id": "89430d83-31d9-45d2-add7-5eedf2cdc008",
   "metadata": {},
   "outputs": [],
   "source": [
    "simple_storage = w3.eth.contract(address=tx_receipt.contractAddress, abi=abi)"
   ]
  },
  {
   "cell_type": "code",
   "execution_count": 45,
   "id": "e64c72c2-80bc-4a69-a573-08b721a251a7",
   "metadata": {},
   "outputs": [
    {
     "name": "stdout",
     "output_type": "stream",
     "text": [
      "Initial stored value at Retrieve 0\n"
     ]
    }
   ],
   "source": [
    "print(f\"Initial stored value at Retrieve {simple_storage.functions.retrieve_logCount().call()}\")"
   ]
  },
  {
   "cell_type": "code",
   "execution_count": 54,
   "id": "d4e57ba2",
   "metadata": {},
   "outputs": [],
   "source": [
    "\n",
    "new_transaction = simple_storage.functions.create_store_event(101, \"item1\", \"DLI\", 2).buildTransaction(\n",
    "    {\n",
    "        \"chainId\": chain_id,\n",
    "        \"gasPrice\": w3.eth.gas_price,\n",
    "        \"from\": my_address,\n",
    "        \"nonce\": w3.eth.getTransactionCount(my_address),\n",
    "    }\n",
    ")"
   ]
  },
  {
   "cell_type": "code",
   "execution_count": 55,
   "id": "714e9261",
   "metadata": {},
   "outputs": [],
   "source": [
    "signed_new_txn = w3.eth.account.sign_transaction(\n",
    "    new_transaction, private_key=private_key\n",
    ")"
   ]
  },
  {
   "cell_type": "code",
   "execution_count": 56,
   "id": "4d2d847d",
   "metadata": {},
   "outputs": [
    {
     "name": "stdout",
     "output_type": "stream",
     "text": [
      "Sending new transaction...\n"
     ]
    }
   ],
   "source": [
    "tx_new_hash = w3.eth.send_raw_transaction(signed_new_txn.rawTransaction)\n",
    "print(\"Sending new transaction...\")\n",
    "tx_new_receipt = w3.eth.wait_for_transaction_receipt(tx_new_hash)"
   ]
  },
  {
   "cell_type": "code",
   "execution_count": 57,
   "id": "b9a06598",
   "metadata": {},
   "outputs": [
    {
     "name": "stdout",
     "output_type": "stream",
     "text": [
      "New stored value at Retrieve [(101, 'item1', 'LDI', 2), (101, 'item1', 'LDI', 2), (101, 'item1', 'DLI', 2)]\n"
     ]
    }
   ],
   "source": [
    "print(f\"New stored value at Retrieve {simple_storage.functions.retrieveLog().call()}\")"
   ]
  },
  {
   "cell_type": "code",
   "execution_count": 35,
   "id": "14b58e13-7ce5-4b7d-9cf5-8b4a15d559b9",
   "metadata": {},
   "outputs": [],
   "source": [
    "nonce = w3.eth.getTransactionCount(my_address)\n",
    "nonce += 1"
   ]
  },
  {
   "cell_type": "code",
   "execution_count": 68,
   "id": "44194ea7-b474-40f3-9695-298c2adc4d82",
   "metadata": {},
   "outputs": [],
   "source": [
    "# new_transaction = simple_storage.functions.store(25).buildTransaction(\n",
    "#     {\n",
    "#         \"chainId\": chain_id,\n",
    "#         \"gasPrice\": w3.eth.gas_price,\n",
    "#         \"from\": my_address,\n",
    "#         \"nonce\": nonce + 1,\n",
    "#     }\n",
    "# )"
   ]
  },
  {
   "cell_type": "code",
   "execution_count": 69,
   "id": "613c1e4e-785a-41c3-9e5b-e9a8c7266ce2",
   "metadata": {},
   "outputs": [],
   "source": [
    "# signed_new_txn = w3.eth.account.sign_transaction(\n",
    "#     new_transaction, private_key=private_key\n",
    "# )"
   ]
  },
  {
   "cell_type": "code",
   "execution_count": 55,
   "id": "09907ed8-90a0-407f-b239-cb9c3093c9c6",
   "metadata": {},
   "outputs": [],
   "source": [
    "# tx_new_hash = w3.eth.send_raw_transaction(signed_new_txn.rawTransaction)\n",
    "# print(\"Sending new transaction...\")\n",
    "# tx_new_receipt = w3.eth.wait_for_transaction_receipt(tx_new_hash)"
   ]
  },
  {
   "cell_type": "code",
   "execution_count": 72,
   "id": "dc05c26d-eed1-477f-b55f-0b655b9f143e",
   "metadata": {},
   "outputs": [
    {
     "name": "stdout",
     "output_type": "stream",
     "text": [
      "New stored value at Retrieve 25\n"
     ]
    }
   ],
   "source": [
    "# print(f\"New stored value at Retrieve {simple_storage.functions.retrieve().call()}\")"
   ]
  },
  {
   "cell_type": "code",
   "execution_count": 26,
   "id": "5888a86e-f2c4-44bb-9f90-e38d5bb5b576",
   "metadata": {},
   "outputs": [],
   "source": [
    "abi = json.loads(\n",
    "    compiled_sol[\"contracts\"][\"SimpleStorageContract.sol\"][\"SimpleStorage\"][\"metadata\"]\n",
    ")[\"output\"][\"abi\"]"
   ]
  },
  {
   "cell_type": "code",
   "execution_count": 27,
   "id": "0aa6bbaa",
   "metadata": {},
   "outputs": [
    {
     "data": {
      "text/plain": [
       "[{'inputs': [{'internalType': 'string', 'name': '_name', 'type': 'string'},\n",
       "   {'internalType': 'uint256', 'name': '_favoriteNumber', 'type': 'uint256'}],\n",
       "  'name': 'addPerson',\n",
       "  'outputs': [],\n",
       "  'stateMutability': 'nonpayable',\n",
       "  'type': 'function'},\n",
       " {'inputs': [{'internalType': 'uint256', 'name': '_itemID', 'type': 'uint256'},\n",
       "   {'internalType': 'string', 'name': '_itemName', 'type': 'string'},\n",
       "   {'internalType': 'string', 'name': '_itemICAO', 'type': 'string'},\n",
       "   {'internalType': 'uint256', 'name': '_stepID', 'type': 'uint256'}],\n",
       "  'name': 'create_store_event',\n",
       "  'outputs': [],\n",
       "  'stateMutability': 'nonpayable',\n",
       "  'type': 'function'},\n",
       " {'inputs': [],\n",
       "  'name': 'logCount',\n",
       "  'outputs': [{'internalType': 'uint256', 'name': '', 'type': 'uint256'}],\n",
       "  'stateMutability': 'view',\n",
       "  'type': 'function'},\n",
       " {'inputs': [{'internalType': 'uint256', 'name': '', 'type': 'uint256'}],\n",
       "  'name': 'logisticlog',\n",
       "  'outputs': [{'internalType': 'uint256', 'name': 'itemID', 'type': 'uint256'},\n",
       "   {'internalType': 'string', 'name': 'itemName', 'type': 'string'},\n",
       "   {'internalType': 'string', 'name': 'itemICAO', 'type': 'string'},\n",
       "   {'internalType': 'uint256', 'name': 'stepID', 'type': 'uint256'}],\n",
       "  'stateMutability': 'view',\n",
       "  'type': 'function'},\n",
       " {'inputs': [{'internalType': 'uint256', 'name': '', 'type': 'uint256'}],\n",
       "  'name': 'logisticlogger',\n",
       "  'outputs': [{'internalType': 'uint256', 'name': 'itemID', 'type': 'uint256'},\n",
       "   {'internalType': 'string', 'name': 'itemName', 'type': 'string'},\n",
       "   {'internalType': 'string', 'name': 'itemICAO', 'type': 'string'},\n",
       "   {'internalType': 'uint256', 'name': 'stepID', 'type': 'uint256'}],\n",
       "  'stateMutability': 'view',\n",
       "  'type': 'function'},\n",
       " {'inputs': [{'internalType': 'string', 'name': '', 'type': 'string'}],\n",
       "  'name': 'nameToFavoriteNumber',\n",
       "  'outputs': [{'internalType': 'uint256', 'name': '', 'type': 'uint256'}],\n",
       "  'stateMutability': 'view',\n",
       "  'type': 'function'},\n",
       " {'inputs': [{'internalType': 'uint256', 'name': '', 'type': 'uint256'}],\n",
       "  'name': 'people',\n",
       "  'outputs': [{'internalType': 'uint256',\n",
       "    'name': 'favoriteNumber',\n",
       "    'type': 'uint256'},\n",
       "   {'internalType': 'string', 'name': 'name', 'type': 'string'}],\n",
       "  'stateMutability': 'view',\n",
       "  'type': 'function'},\n",
       " {'inputs': [],\n",
       "  'name': 'retrieve',\n",
       "  'outputs': [{'internalType': 'uint256', 'name': '', 'type': 'uint256'}],\n",
       "  'stateMutability': 'view',\n",
       "  'type': 'function'},\n",
       " {'inputs': [{'internalType': 'uint256',\n",
       "    'name': '_favoriteNumber',\n",
       "    'type': 'uint256'}],\n",
       "  'name': 'store',\n",
       "  'outputs': [],\n",
       "  'stateMutability': 'nonpayable',\n",
       "  'type': 'function'}]"
      ]
     },
     "execution_count": 27,
     "metadata": {},
     "output_type": "execute_result"
    }
   ],
   "source": [
    "abi"
   ]
  }
 ],
 "metadata": {
  "kernelspec": {
   "display_name": "Python 3 (ipykernel)",
   "language": "python",
   "name": "python3"
  },
  "language_info": {
   "codemirror_mode": {
    "name": "ipython",
    "version": 3
   },
   "file_extension": ".py",
   "mimetype": "text/x-python",
   "name": "python",
   "nbconvert_exporter": "python",
   "pygments_lexer": "ipython3",
   "version": "3.9.12"
  }
 },
 "nbformat": 4,
 "nbformat_minor": 5
}
