{
 "cells": [
  {
   "cell_type": "code",
   "execution_count": 4,
   "id": "75a968b6-d364-41fd-b3bd-a14efe519793",
   "metadata": {},
   "outputs": [],
   "source": [
    "import json\n",
    "from web3 import Web3\n",
    "from solcx import compile_standard, install_solc\n",
    "import os\n",
    "from dotenv import load_dotenv"
   ]
  },
  {
   "cell_type": "code",
   "execution_count": 5,
   "id": "49aa4149-9348-45f1-befd-333c5be1dfd1",
   "metadata": {},
   "outputs": [
    {
     "data": {
      "text/plain": [
       "False"
      ]
     },
     "execution_count": 5,
     "metadata": {},
     "output_type": "execute_result"
    }
   ],
   "source": [
    "load_dotenv()"
   ]
  },
  {
   "cell_type": "code",
   "execution_count": 18,
   "id": "3b699213-0e36-49c0-9f19-7c336af877a3",
   "metadata": {},
   "outputs": [],
   "source": [
    "with open(\n",
    "    \"/home/sahilarora/capstone-19BCE1366-2023/contract/contract.sol\",\n",
    "    \"r\",\n",
    ") as file:\n",
    "    simple_storage_file = file.read()"
   ]
  },
  {
   "cell_type": "code",
   "execution_count": 9,
   "id": "98d61d79-609b-4768-bf47-efc6b7e3b00a",
   "metadata": {},
   "outputs": [
    {
     "data": {
      "text/plain": [
       "Version('0.8.0')"
      ]
     },
     "execution_count": 9,
     "metadata": {},
     "output_type": "execute_result"
    }
   ],
   "source": [
    "install_solc(\"0.8.0\")"
   ]
  },
  {
   "cell_type": "code",
   "execution_count": 19,
   "id": "e5fa45ec-fff7-496a-b2ca-32c0db2f4d6a",
   "metadata": {},
   "outputs": [
    {
     "ename": "SolcError",
     "evalue": "ParserError: Expected '(' but got identifier\n  --> contract.sol:22:14:\n   |\n22 |     function store(uint256 _favoriteNumber) public {\n   |              ^^^^^\n\n\n> command: `/home/sahilarora/.solcx/solc-v0.8.0 --standard-json`\n> return code: `0`\n> stdout:\n{\"errors\":[{\"component\":\"general\",\"errorCode\":\"2314\",\"formattedMessage\":\"ParserError: Expected '(' but got identifier\\n  --> contract.sol:22:14:\\n   |\\n22 |     function store(uint256 _favoriteNumber) public {\\n   |              ^^^^^\\n\\n\",\"message\":\"Expected '(' but got identifier\",\"severity\":\"error\",\"sourceLocation\":{\"end\":656,\"file\":\"contract.sol\",\"start\":651},\"type\":\"ParserError\"}],\"sources\":{}}\n\n> stderr:",
     "output_type": "error",
     "traceback": [
      "\u001b[0;31m---------------------------------------------------------------------------\u001b[0m",
      "\u001b[0;31mSolcError\u001b[0m                                 Traceback (most recent call last)",
      "Input \u001b[0;32mIn [19]\u001b[0m, in \u001b[0;36m<cell line: 1>\u001b[0;34m()\u001b[0m\n\u001b[0;32m----> 1\u001b[0m compiled_sol \u001b[38;5;241m=\u001b[39m \u001b[43mcompile_standard\u001b[49m\u001b[43m(\u001b[49m\n\u001b[1;32m      2\u001b[0m \u001b[43m    \u001b[49m\u001b[43m{\u001b[49m\n\u001b[1;32m      3\u001b[0m \u001b[43m        \u001b[49m\u001b[38;5;124;43m\"\u001b[39;49m\u001b[38;5;124;43mlanguage\u001b[39;49m\u001b[38;5;124;43m\"\u001b[39;49m\u001b[43m:\u001b[49m\u001b[43m \u001b[49m\u001b[38;5;124;43m\"\u001b[39;49m\u001b[38;5;124;43mSolidity\u001b[39;49m\u001b[38;5;124;43m\"\u001b[39;49m\u001b[43m,\u001b[49m\n\u001b[1;32m      4\u001b[0m \u001b[43m        \u001b[49m\u001b[38;5;124;43m\"\u001b[39;49m\u001b[38;5;124;43msources\u001b[39;49m\u001b[38;5;124;43m\"\u001b[39;49m\u001b[43m:\u001b[49m\u001b[43m \u001b[49m\u001b[43m{\u001b[49m\u001b[38;5;124;43m\"\u001b[39;49m\u001b[38;5;124;43mcontract.sol\u001b[39;49m\u001b[38;5;124;43m\"\u001b[39;49m\u001b[43m:\u001b[49m\u001b[43m \u001b[49m\u001b[43m{\u001b[49m\u001b[38;5;124;43m\"\u001b[39;49m\u001b[38;5;124;43mcontent\u001b[39;49m\u001b[38;5;124;43m\"\u001b[39;49m\u001b[43m:\u001b[49m\u001b[43m \u001b[49m\u001b[43msimple_storage_file\u001b[49m\u001b[43m}\u001b[49m\u001b[43m}\u001b[49m\u001b[43m,\u001b[49m\n\u001b[1;32m      5\u001b[0m \u001b[43m        \u001b[49m\u001b[38;5;124;43m\"\u001b[39;49m\u001b[38;5;124;43msettings\u001b[39;49m\u001b[38;5;124;43m\"\u001b[39;49m\u001b[43m:\u001b[49m\u001b[43m \u001b[49m\u001b[43m{\u001b[49m\n\u001b[1;32m      6\u001b[0m \u001b[43m            \u001b[49m\u001b[38;5;124;43m\"\u001b[39;49m\u001b[38;5;124;43moutputSelection\u001b[39;49m\u001b[38;5;124;43m\"\u001b[39;49m\u001b[43m:\u001b[49m\u001b[43m \u001b[49m\u001b[43m{\u001b[49m\n\u001b[1;32m      7\u001b[0m \u001b[43m                \u001b[49m\u001b[38;5;124;43m\"\u001b[39;49m\u001b[38;5;124;43m*\u001b[39;49m\u001b[38;5;124;43m\"\u001b[39;49m\u001b[43m:\u001b[49m\u001b[43m \u001b[49m\u001b[43m{\u001b[49m\n\u001b[1;32m      8\u001b[0m \u001b[43m                    \u001b[49m\u001b[38;5;124;43m\"\u001b[39;49m\u001b[38;5;124;43m*\u001b[39;49m\u001b[38;5;124;43m\"\u001b[39;49m\u001b[43m:\u001b[49m\u001b[43m \u001b[49m\u001b[43m[\u001b[49m\u001b[38;5;124;43m\"\u001b[39;49m\u001b[38;5;124;43mabi\u001b[39;49m\u001b[38;5;124;43m\"\u001b[39;49m\u001b[43m,\u001b[49m\u001b[43m \u001b[49m\u001b[38;5;124;43m\"\u001b[39;49m\u001b[38;5;124;43mmetadata\u001b[39;49m\u001b[38;5;124;43m\"\u001b[39;49m\u001b[43m,\u001b[49m\u001b[43m \u001b[49m\u001b[38;5;124;43m\"\u001b[39;49m\u001b[38;5;124;43mevm.bytecode\u001b[39;49m\u001b[38;5;124;43m\"\u001b[39;49m\u001b[43m,\u001b[49m\u001b[43m \u001b[49m\u001b[38;5;124;43m\"\u001b[39;49m\u001b[38;5;124;43mevm.bytecode.sourceMap\u001b[39;49m\u001b[38;5;124;43m\"\u001b[39;49m\u001b[43m]\u001b[49m\n\u001b[1;32m      9\u001b[0m \u001b[43m                \u001b[49m\u001b[43m}\u001b[49m\n\u001b[1;32m     10\u001b[0m \u001b[43m            \u001b[49m\u001b[43m}\u001b[49m\n\u001b[1;32m     11\u001b[0m \u001b[43m        \u001b[49m\u001b[43m}\u001b[49m\u001b[43m,\u001b[49m\n\u001b[1;32m     12\u001b[0m \u001b[43m    \u001b[49m\u001b[43m}\u001b[49m\u001b[43m,\u001b[49m\n\u001b[1;32m     13\u001b[0m \u001b[43m    \u001b[49m\u001b[43msolc_version\u001b[49m\u001b[38;5;241;43m=\u001b[39;49m\u001b[38;5;124;43m\"\u001b[39;49m\u001b[38;5;124;43m0.8.0\u001b[39;49m\u001b[38;5;124;43m\"\u001b[39;49m\u001b[43m,\u001b[49m\n\u001b[1;32m     14\u001b[0m \u001b[43m)\u001b[49m\n\u001b[1;32m     16\u001b[0m \u001b[38;5;28;01mwith\u001b[39;00m \u001b[38;5;28mopen\u001b[39m(\u001b[38;5;124m\"\u001b[39m\u001b[38;5;124mcompiled_code.json\u001b[39m\u001b[38;5;124m\"\u001b[39m, \u001b[38;5;124m\"\u001b[39m\u001b[38;5;124mw\u001b[39m\u001b[38;5;124m\"\u001b[39m) \u001b[38;5;28;01mas\u001b[39;00m file:\n\u001b[1;32m     17\u001b[0m     json\u001b[38;5;241m.\u001b[39mdump(compiled_sol, file)\n",
      "File \u001b[0;32m~/anaconda3/lib/python3.9/site-packages/solcx/main.py:394\u001b[0m, in \u001b[0;36mcompile_standard\u001b[0;34m(input_data, base_path, allow_paths, output_dir, overwrite, solc_binary, solc_version, allow_empty)\u001b[0m\n\u001b[1;32m    386\u001b[0m     \u001b[38;5;28;01mif\u001b[39;00m has_errors:\n\u001b[1;32m    387\u001b[0m         error_message \u001b[38;5;241m=\u001b[39m \u001b[38;5;124m\"\u001b[39m\u001b[38;5;130;01m\\n\u001b[39;00m\u001b[38;5;124m\"\u001b[39m\u001b[38;5;241m.\u001b[39mjoin(\n\u001b[1;32m    388\u001b[0m             \u001b[38;5;28mtuple\u001b[39m(\n\u001b[1;32m    389\u001b[0m                 error[\u001b[38;5;124m\"\u001b[39m\u001b[38;5;124mformattedMessage\u001b[39m\u001b[38;5;124m\"\u001b[39m]\n\u001b[0;32m   (...)\u001b[0m\n\u001b[1;32m    392\u001b[0m             )\n\u001b[1;32m    393\u001b[0m         )\n\u001b[0;32m--> 394\u001b[0m         \u001b[38;5;28;01mraise\u001b[39;00m SolcError(\n\u001b[1;32m    395\u001b[0m             error_message,\n\u001b[1;32m    396\u001b[0m             command\u001b[38;5;241m=\u001b[39mcommand,\n\u001b[1;32m    397\u001b[0m             return_code\u001b[38;5;241m=\u001b[39mproc\u001b[38;5;241m.\u001b[39mreturncode,\n\u001b[1;32m    398\u001b[0m             stdin_data\u001b[38;5;241m=\u001b[39mjson\u001b[38;5;241m.\u001b[39mdumps(input_data),\n\u001b[1;32m    399\u001b[0m             stdout_data\u001b[38;5;241m=\u001b[39mstdoutdata,\n\u001b[1;32m    400\u001b[0m             stderr_data\u001b[38;5;241m=\u001b[39mstderrdata,\n\u001b[1;32m    401\u001b[0m             error_dict\u001b[38;5;241m=\u001b[39mcompiler_output[\u001b[38;5;124m\"\u001b[39m\u001b[38;5;124merrors\u001b[39m\u001b[38;5;124m\"\u001b[39m],\n\u001b[1;32m    402\u001b[0m         )\n\u001b[1;32m    403\u001b[0m \u001b[38;5;28;01mreturn\u001b[39;00m compiler_output\n",
      "\u001b[0;31mSolcError\u001b[0m: ParserError: Expected '(' but got identifier\n  --> contract.sol:22:14:\n   |\n22 |     function store(uint256 _favoriteNumber) public {\n   |              ^^^^^\n\n\n> command: `/home/sahilarora/.solcx/solc-v0.8.0 --standard-json`\n> return code: `0`\n> stdout:\n{\"errors\":[{\"component\":\"general\",\"errorCode\":\"2314\",\"formattedMessage\":\"ParserError: Expected '(' but got identifier\\n  --> contract.sol:22:14:\\n   |\\n22 |     function store(uint256 _favoriteNumber) public {\\n   |              ^^^^^\\n\\n\",\"message\":\"Expected '(' but got identifier\",\"severity\":\"error\",\"sourceLocation\":{\"end\":656,\"file\":\"contract.sol\",\"start\":651},\"type\":\"ParserError\"}],\"sources\":{}}\n\n> stderr:"
     ]
    }
   ],
   "source": [
    "compiled_sol = compile_standard(\n",
    "    {\n",
    "        \"language\": \"Solidity\",\n",
    "        \"sources\": {\"SimpleStorageContract.sol\": {\"content\": simple_storage_file}},\n",
    "        \"settings\": {\n",
    "            \"outputSelection\": {\n",
    "                \"*\": {\n",
    "                    \"*\": [\"abi\", \"metadata\", \"evm.bytecode\", \"evm.bytecode.sourceMap\"]\n",
    "                }\n",
    "            }\n",
    "        },\n",
    "    },\n",
    "    solc_version=\"0.8.0\",\n",
    ")\n",
    "\n",
    "with open(\"compiled_code.json\", \"w\") as file:\n",
    "    json.dump(compiled_sol, file)\n",
    "\n"
   ]
  },
  {
   "cell_type": "code",
   "execution_count": null,
   "id": "8661a215-b7ad-49e6-b0c0-3ab54a106052",
   "metadata": {},
   "outputs": [],
   "source": []
  }
 ],
 "metadata": {
  "kernelspec": {
   "display_name": "Python 3 (ipykernel)",
   "language": "python",
   "name": "python3"
  },
  "language_info": {
   "codemirror_mode": {
    "name": "ipython",
    "version": 3
   },
   "file_extension": ".py",
   "mimetype": "text/x-python",
   "name": "python",
   "nbconvert_exporter": "python",
   "pygments_lexer": "ipython3",
   "version": "3.9.12"
  }
 },
 "nbformat": 4,
 "nbformat_minor": 5
}
