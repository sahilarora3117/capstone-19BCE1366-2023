{
 "cells": [
  {
   "cell_type": "code",
   "execution_count": 1,
   "id": "677eff08-0cfd-4f90-acc9-ee88afed41e3",
   "metadata": {},
   "outputs": [
    {
     "name": "stderr",
     "output_type": "stream",
     "text": [
      "which: no solc in (/home/sahilarora/anaconda3/bin:/home/sahilarora/anaconda3/condabin:/home/sahilarora/.cargo/bin:/usr/local/sbin:/usr/local/bin:/usr/bin:/opt/android-sdk/platform-tools:/home/sahilarora/.dotnet/tools:/var/lib/flatpak/exports/bin:/usr/lib/jvm/default/bin:/usr/bin/site_perl:/usr/bin/vendor_perl:/usr/bin/core_perl)\n"
     ]
    }
   ],
   "source": [
    "from graphdatascience import GraphDataScience\n",
    "import emblaze\n",
    "import numpy as np\n",
    "import pandas as pd\n",
    "import json\n",
    "from web3 import Web3\n",
    "from solcx import compile_standard, install_solc\n",
    "import os\n",
    "from dotenv import load_dotenv\n",
    "import calendar\n",
    "import time"
   ]
  },
  {
   "cell_type": "code",
   "execution_count": 2,
   "id": "cbceb0d6-2ed8-4ccc-a9c5-d8017b01d763",
   "metadata": {},
   "outputs": [
    {
     "name": "stdout",
     "output_type": "stream",
     "text": [
      "2.0.3\n"
     ]
    }
   ],
   "source": [
    "gds = GraphDataScience(\"bolt://localhost:11003\", auth=(\"neo4j\", \"1234567890\"), database=\"neo4j\")\n",
    "print(gds.version())\n",
    "assert gds.version()\n",
    "using_enterprise = gds.is_licensed()"
   ]
  },
  {
   "cell_type": "code",
   "execution_count": 3,
   "id": "3d4abea4-de4f-42cc-a275-68e2fec47df6",
   "metadata": {},
   "outputs": [],
   "source": [
    "def setup_graph():\n",
    "    gds.run_cypher(\"\"\"\n",
    "match (:Airport)-[r:HAS_ROUTE]->(:Airport)\n",
    "with collect(r) as routes, max(r.distance) as maxDistance\n",
    "foreach(route in routes | set route.weight = maxDistance + 1 - route.distance)\n",
    "\"\"\")\n",
    "    gds.run_cypher(\"\"\"\n",
    "match (n:Airport)\n",
    "with collect(n) as airports\n",
    "foreach(airport in airports | set airport.longitude = airport.location.x)\n",
    "\"\"\")\n",
    "    gds.run_cypher(\"\"\"\n",
    "match (n:Airport)\n",
    "with collect(n) as airports\n",
    "foreach(airport in airports | set airport.latitude = airport.location.y)\n",
    "\"\"\")\n",
    "    gds.run_cypher(\"\"\"\n",
    "match (p:Airport)-[r:HAS_ROUTE]->(q:Airport)\n",
    "SET r.avgPageRank = p.pagerank + q.pagerank\n",
    "\"\"\")\n",
    "    gds.run_cypher(\"\"\"\n",
    "match (:Airport)-[r:HAS_ROUTE]->(:Airport)\n",
    "with collect(r) as routes, max(r.avgPageRank) as maxRank\n",
    "foreach(route in routes | set route.weightedRank = maxRank + 1 - route.avgPageRank)\n",
    "\"\"\")"
   ]
  },
  {
   "cell_type": "code",
   "execution_count": 4,
   "id": "cdb55d89-1c61-49dc-86b8-b48d0b085dae",
   "metadata": {},
   "outputs": [],
   "source": [
    "\n",
    "\n",
    "G_routes, result = gds.graph.project(\n",
    "   \"air-routes\", \n",
    "   \"Airport\",                                   \n",
    "   {\"HAS_ROUTE\":\n",
    "      {\"orientation\":\"UNDIRECTED\", \n",
    "      \"aggregation\":\"MAX\"}\n",
    "   }, \n",
    "   relationshipProperties = [\"weight\", \"distance\", \"weightedRank\"],\n",
    "    nodeProperties = [\"latitude\", \"longitude\"]\n",
    ")\n",
    "\n",
    "routes_wcc = gds.wcc.stats(G_routes)\n",
    "routes_wcc['componentDistribution']\n",
    "\n",
    "gds.wcc.mutate(G_routes, mutateProperty = 'componentId')\n",
    "\n",
    "gds.graph.writeNodeProperties(G_routes, ['componentId'])\n",
    "\n",
    "gds.run_cypher(\"MATCH (a:Airport) RETURN a.componentId as componentId, count(*) as nodeCount ORDER BY count(*) DESC limit 1\")\n",
    "\n",
    "G_connected_airports, result = gds.beta.graph.project.subgraph(\"connected-airports\", G_routes, \"n.componentId = 0\", \"*\")"
   ]
  },
  {
   "cell_type": "code",
   "execution_count": 3,
   "id": "892af719-36f3-46a9-80a1-b340699bfeee",
   "metadata": {},
   "outputs": [],
   "source": [
    "def dijkstra_distance(source, destination):\n",
    "    return gds.run_cypher(\"\"\"\n",
    "MATCH (p1:Airport {iata:'\"\"\" + source +\"\"\"'}), (p2:Airport {iata:'\"\"\" + destination + \"\"\"'})\n",
    "\n",
    "CALL gds.shortestPath.dijkstra.stream('air-routes',{\n",
    "    sourceNode: p1,\n",
    "    targetNode: p2,\n",
    "    relationshipWeightProperty: 'distance'\n",
    "})\n",
    "YIELD index, sourceNode, targetNode, totalCost, nodeIds, costs, path\n",
    "RETURN\n",
    "    index,\n",
    "    gds.util.asNode(sourceNode).city AS sourceNodeName,\n",
    "    gds.util.asNode(targetNode).city AS targetNodeName,\n",
    "    totalCost,\n",
    "    [nodeId IN nodeIds | gds.util.asNode(nodeId).city] AS nodeNames,\n",
    "    [nodeId IN nodeIds | gds.util.asNode(nodeId).iata] AS nodeIATA,\n",
    "    costs,\n",
    "    nodes(path) as path\n",
    "ORDER BY index\n",
    "\"\"\")\n",
    "def astar_distance(source, destination):\n",
    "    return gds.run_cypher(\"\"\"\n",
    "MATCH (p1:Airport {iata:'\"\"\" + source + \"\"\"'}), (p2:Airport {iata:'\"\"\" + destination + \"\"\"'})\n",
    "\n",
    "CALL gds.shortestPath.astar.stream('air-routes',{\n",
    "    sourceNode: p1,\n",
    "    targetNode: p2,\n",
    "    latitudeProperty: 'latitude',\n",
    "    longitudeProperty: 'longitude',\n",
    "    relationshipWeightProperty: 'distance'\n",
    "})\n",
    "YIELD index, sourceNode, targetNode, totalCost, nodeIds, costs, path\n",
    "RETURN\n",
    "    index,\n",
    "    gds.util.asNode(sourceNode).city AS sourceNodeName,\n",
    "    gds.util.asNode(targetNode).city AS targetNodeName,\n",
    "    totalCost,\n",
    "    [nodeId IN nodeIds | gds.util.asNode(nodeId).city] AS nodeNames,\n",
    "    [nodeId IN nodeIds | gds.util.asNode(nodeId).iata] AS nodeIATA,\n",
    "    costs,\n",
    "    nodes(path) as path\n",
    "ORDER BY index\n",
    "\"\"\")\n",
    "def dijkstra_rank(source, destination):\n",
    "    return gds.run_cypher(\"\"\"\n",
    "MATCH (p1:Airport {iata:'\"\"\" + source + \"\"\"'}), (p2:Airport {iata:'\"\"\" + destination + \"\"\"'})\n",
    "\n",
    "CALL gds.shortestPath.dijkstra.stream('air-routes',{\n",
    "    sourceNode: p1,\n",
    "    targetNode: p2,\n",
    "    relationshipWeightProperty: 'weightedRank'\n",
    "})\n",
    "YIELD index, sourceNode, targetNode, totalCost, nodeIds, costs, path\n",
    "RETURN\n",
    "    index,\n",
    "    gds.util.asNode(sourceNode).city AS sourceNodeName,\n",
    "    gds.util.asNode(targetNode).city AS targetNodeName,\n",
    "    totalCost,\n",
    "    [nodeId IN nodeIds | gds.util.asNode(nodeId).city] AS nodeNames,\n",
    "    [nodeId IN nodeIds | gds.util.asNode(nodeId).iata] AS nodeIATA,\n",
    "    costs,\n",
    "    nodes(path) as path\n",
    "ORDER BY index\n",
    "\"\"\")"
   ]
  },
  {
   "cell_type": "code",
   "execution_count": 4,
   "id": "4d0ac454-1411-4676-88c7-ea9e0e1c99ae",
   "metadata": {},
   "outputs": [],
   "source": [
    "def setupContract():\n",
    "    nonce = w3.eth.getTransactionCount(my_address)\n",
    "    tx = SimpleStorage.constructor().buildTransaction(\n",
    "    {\n",
    "        \"chainId\": chain_id,\n",
    "        \"gasPrice\": w3.eth.gas_price,\n",
    "        \"from\": my_address,\n",
    "        \"nonce\": w3.eth.getTransactionCount(my_address),\n",
    "    }\n",
    "    )\n",
    "    signed_tx = w3.eth.account.signTransaction(tx, private_key=private_key)\n",
    "    tx_hash = w3.eth.send_raw_transaction(signed_tx.rawTransaction)\n",
    "    tx_receipt = w3.eth.wait_for_transaction_receipt(tx_hash)\n",
    "    print(f\"Contract deployed to {tx_receipt.contractAddress}\")\n",
    "    return tx_receipt.contractAddress"
   ]
  },
  {
   "cell_type": "code",
   "execution_count": 5,
   "id": "cc2614e2-3a0f-4158-a70b-c671d0bfc832",
   "metadata": {},
   "outputs": [],
   "source": [
    "def createSupplyNodeTransaction(itemID, itemName, itemICAO, stepID):\n",
    "    simple_storage = w3.eth.contract(address=contractAddress, abi=abi)\n",
    "    new_transaction = simple_storage.functions.create_store_event(itemID, itemName, itemICAO, stepID).buildTransaction(\n",
    "    {\n",
    "        \"chainId\": chain_id,\n",
    "        \"gasPrice\": w3.eth.gas_price,\n",
    "        \"from\": my_address,\n",
    "        \"nonce\": w3.eth.getTransactionCount(my_address),\n",
    "    }\n",
    "    )\n",
    "    signed_new_txn = w3.eth.account.sign_transaction(\n",
    "    new_transaction, private_key=private_key\n",
    "    )\n",
    "    tx_new_hash = w3.eth.send_raw_transaction(signed_new_txn.rawTransaction)\n",
    "    print(\"Creating a supply transaction for consignment ID: \" + str(itemID) + \", location: \" + itemICAO)\n",
    "    tx_new_receipt = w3.eth.wait_for_transaction_receipt(tx_new_hash)\n",
    "    print(tx_new_receipt)\n",
    "    \n",
    "    "
   ]
  },
  {
   "cell_type": "code",
   "execution_count": 6,
   "id": "19f8a688-8ffb-45f6-8556-4d47280b2380",
   "metadata": {},
   "outputs": [],
   "source": [
    "def printAllContractData():\n",
    "    simple_storage = w3.eth.contract(address=contractAddress, abi=abi)\n",
    "    list_el = simple_storage.functions.retrieveLog().call()\n",
    "    row = \"{name1:^20}|{name2:^20}|{name3:^20}|{name4:^20}\".format\n",
    "    print(row(name1=\"Consignment ID\", name2=\"Consignment Name\", name3=\"Location\", name4=\"PathID\"))\n",
    "\n",
    "    for tup in list_el:\n",
    "        print(row(name1=tup[0], name2=tup[1], name3=tup[2], name4=tup[3]))\n",
    "def printbyIDContractData(itemID):\n",
    "    simple_storage = w3.eth.contract(address=contractAddress, abi=abi)\n",
    "    list_el = simple_storage.functions.retrieveLog().call()\n",
    "    list_el_filtered = []\n",
    "    addresses = []\n",
    "    for i in list_el:\n",
    "        if i[0] == itemID:\n",
    "            addresses.append(i[2])\n",
    "            list_el_filtered.append(i)\n",
    "    row = \"{name1:^20}|{name2:^20}|{name3:^20}|{name4:^20}\".format\n",
    "    print(*addresses, sep=\" -----> \")\n",
    "    \n",
    "    print(row(name1=\"Consignment ID\", name2=\"Consignment Name\", name3=\"Location\", name4=\"PathID\"))\n",
    "\n",
    "    for tup in list_el_filtered:\n",
    "        print(row(name1=tup[0], name2=tup[1], name3=tup[2], name4=tup[3]))"
   ]
  },
  {
   "cell_type": "code",
   "execution_count": 7,
   "id": "b5348f59-7fbe-4096-b6f4-f81d7df1fe61",
   "metadata": {},
   "outputs": [],
   "source": [
    "with open(\n",
    "    \"/home/sahilarora/capstone-19BCE1366-2023/contract/SimpleStorageContract.sol\",\n",
    "    \"r\",\n",
    ") as file:\n",
    "    simple_storage_file = file.read()\n",
    "install_solc(\"0.6.0\")\n",
    "compiled_sol = compile_standard(\n",
    "    {\n",
    "        \"language\": \"Solidity\",\n",
    "        \"sources\": {\"SimpleStorageContract.sol\": {\"content\": simple_storage_file}},\n",
    "        \"settings\": {\n",
    "            \"outputSelection\": {\n",
    "                \"*\": {\n",
    "                    \"*\": [\"abi\", \"metadata\", \"evm.bytecode\", \"evm.bytecode.sourceMap\"]\n",
    "                }\n",
    "            }\n",
    "        },\n",
    "    },\n",
    "    solc_version=\"0.6.0\",\n",
    ")\n",
    "\n",
    "with open(\"compiled_code.json\", \"w\") as file:\n",
    "    json.dump(compiled_sol, file)\n",
    "    \n",
    "bytecode = compiled_sol[\"contracts\"][\"SimpleStorageContract.sol\"][\"SimpleStorage\"][\n",
    "    \"evm\"\n",
    "][\"bytecode\"][\"object\"]\n",
    "abi = json.loads(\n",
    "    compiled_sol[\"contracts\"][\"SimpleStorageContract.sol\"][\"SimpleStorage\"][\"metadata\"]\n",
    ")[\"output\"][\"abi\"]\n",
    "\n",
    "w3 = Web3(Web3.HTTPProvider(\"HTTP://127.0.0.1:8545\"))"
   ]
  },
  {
   "cell_type": "code",
   "execution_count": 8,
   "id": "5c7334e8-3a2d-4529-85ab-566465cd59f6",
   "metadata": {},
   "outputs": [],
   "source": [
    "chain_id = 1337\n",
    "my_address = \"0x67cC7D1dcAE9b1C23Fc4ef2027d6c1B0981E9B32\"\n",
    "# private_key = os.getenv(\"PRIVATE_KEY\")\n",
    "private_key = \"0x12d8bd1785a48823297579bfa4773015bc7d4de689330fb003338eaf9a707b9f\""
   ]
  },
  {
   "cell_type": "code",
   "execution_count": 9,
   "id": "b5301dba-5165-4149-b7f7-8e69db64443e",
   "metadata": {},
   "outputs": [],
   "source": [
    "SimpleStorage = w3.eth.contract(abi=abi, bytecode=bytecode)"
   ]
  },
  {
   "cell_type": "code",
   "execution_count": 10,
   "id": "a6bdfb1f-f3fe-448e-b41f-6ac5c20f242d",
   "metadata": {},
   "outputs": [
    {
     "name": "stdout",
     "output_type": "stream",
     "text": [
      "Contract deployed to 0xeb4e81A5a117344C483c67AEc767CE268FF1216C\n"
     ]
    }
   ],
   "source": [
    "contractAddress = setupContract()"
   ]
  },
  {
   "cell_type": "code",
   "execution_count": 11,
   "id": "396f68c9-b62c-4367-b1d2-266700ef7fc3",
   "metadata": {},
   "outputs": [],
   "source": [
    "def create_supply_route(source, destination, distance_algo, consignment_name):\n",
    "    ts = calendar.timegm(time.gmtime())\n",
    "    print(\"Consignment_id: \" + str(ts))\n",
    "    route = []\n",
    "    if distance_algo == \"d_distance\":\n",
    "        route = dijkstra_distance(source, destination)\n",
    "    elif distance_algo == \"a_distance\":\n",
    "        route = astar_distance(source, destination)\n",
    "    else:\n",
    "        route = dijkstra_rank(source, destination)\n",
    "    IATAroute = route[\"nodeIATA\"][0]\n",
    "    \n",
    "    for i in range(len(IATAroute)):\n",
    "        createSupplyNodeTransaction(ts, consignment_name, IATAroute[i] , i+1)\n",
    "    "
   ]
  },
  {
   "cell_type": "code",
   "execution_count": 19,
   "id": "a9f0f33c-88f4-4dc7-8fa4-191c4f615613",
   "metadata": {},
   "outputs": [
    {
     "name": "stdout",
     "output_type": "stream",
     "text": [
      "Consignment_id: 1671698219\n",
      "Creating a supply transaction for consignment ID: 1671698219, location: DEL\n",
      "AttributeDict({'transactionHash': HexBytes('0x71fd1a9046de21bafe03a04fd5b9eed73a2deaf8e4284a6e2ebbe69f17778a34'), 'transactionIndex': 0, 'blockNumber': 4, 'blockHash': HexBytes('0xc704b7f36d8c866529cdbd325c685e910b6373fed5edbdc5b61b4d484a42b828'), 'from': '0x67cC7D1dcAE9b1C23Fc4ef2027d6c1B0981E9B32', 'to': '0xeb4e81A5a117344C483c67AEc767CE268FF1216C', 'cumulativeGasUsed': 135395, 'gasUsed': 135395, 'contractAddress': None, 'logs': [], 'logsBloom': HexBytes('0x00000000000000000000000000000000000000000000000000000000000000000000000000000000000000000000000000000000000000000000000000000000000000000000000000000000000000000000000000000000000000000000000000000000000000000000000000000000000000000000000000000000000000000000000000000000000000000000000000000000000000000000000000000000000000000000000000000000000000000000000000000000000000000000000000000000000000000000000000000000000000000000000000000000000000000000000000000000000000000000000000000000000000000000000000000000'), 'status': 1, 'effectiveGasPrice': 2000000000, 'type': '0x0'})\n",
      "Creating a supply transaction for consignment ID: 1671698219, location: KEF\n",
      "AttributeDict({'transactionHash': HexBytes('0x0fd76697a05b9e26906d26e1d996f83ecb47483972c6ec30c5e5fb497affd5d0'), 'transactionIndex': 0, 'blockNumber': 5, 'blockHash': HexBytes('0x50ede05ede90699c7c32a61465fd9437327dd6ec0ecb7128b18bdb181628cb23'), 'from': '0x67cC7D1dcAE9b1C23Fc4ef2027d6c1B0981E9B32', 'to': '0xeb4e81A5a117344C483c67AEc767CE268FF1216C', 'cumulativeGasUsed': 118295, 'gasUsed': 118295, 'contractAddress': None, 'logs': [], 'logsBloom': HexBytes('0x00000000000000000000000000000000000000000000000000000000000000000000000000000000000000000000000000000000000000000000000000000000000000000000000000000000000000000000000000000000000000000000000000000000000000000000000000000000000000000000000000000000000000000000000000000000000000000000000000000000000000000000000000000000000000000000000000000000000000000000000000000000000000000000000000000000000000000000000000000000000000000000000000000000000000000000000000000000000000000000000000000000000000000000000000000000'), 'status': 1, 'effectiveGasPrice': 2000000000, 'type': '0x0'})\n",
      "Creating a supply transaction for consignment ID: 1671698219, location: BOS\n",
      "AttributeDict({'transactionHash': HexBytes('0x08daa8450463f785a71cddfff63a5803d1a26a8d9169fc239b55755be5c757a7'), 'transactionIndex': 0, 'blockNumber': 6, 'blockHash': HexBytes('0x588eb1f35d952684a980fb138f032ded319cc56950096debecf61e04fd7efb39'), 'from': '0x67cC7D1dcAE9b1C23Fc4ef2027d6c1B0981E9B32', 'to': '0xeb4e81A5a117344C483c67AEc767CE268FF1216C', 'cumulativeGasUsed': 118295, 'gasUsed': 118295, 'contractAddress': None, 'logs': [], 'logsBloom': HexBytes('0x00000000000000000000000000000000000000000000000000000000000000000000000000000000000000000000000000000000000000000000000000000000000000000000000000000000000000000000000000000000000000000000000000000000000000000000000000000000000000000000000000000000000000000000000000000000000000000000000000000000000000000000000000000000000000000000000000000000000000000000000000000000000000000000000000000000000000000000000000000000000000000000000000000000000000000000000000000000000000000000000000000000000000000000000000000000'), 'status': 1, 'effectiveGasPrice': 2000000000, 'type': '0x0'})\n",
      "Creating a supply transaction for consignment ID: 1671698219, location: HPN\n",
      "AttributeDict({'transactionHash': HexBytes('0xa5d399ca9ec31ac90c21e4503b95cd8cc987202f117c3231754ead96ae8bec0a'), 'transactionIndex': 0, 'blockNumber': 7, 'blockHash': HexBytes('0xc1a5042b22484563fad0175633ab71ac33ea6e92f0bae58b080f9de3a176eaed'), 'from': '0x67cC7D1dcAE9b1C23Fc4ef2027d6c1B0981E9B32', 'to': '0xeb4e81A5a117344C483c67AEc767CE268FF1216C', 'cumulativeGasUsed': 118295, 'gasUsed': 118295, 'contractAddress': None, 'logs': [], 'logsBloom': HexBytes('0x00000000000000000000000000000000000000000000000000000000000000000000000000000000000000000000000000000000000000000000000000000000000000000000000000000000000000000000000000000000000000000000000000000000000000000000000000000000000000000000000000000000000000000000000000000000000000000000000000000000000000000000000000000000000000000000000000000000000000000000000000000000000000000000000000000000000000000000000000000000000000000000000000000000000000000000000000000000000000000000000000000000000000000000000000000000'), 'status': 1, 'effectiveGasPrice': 2000000000, 'type': '0x0'})\n"
     ]
    }
   ],
   "source": [
    "create_supply_route(\"DEL\", \"HPN\", \"d_distance\", \"p1\")"
   ]
  },
  {
   "cell_type": "code",
   "execution_count": 65,
   "id": "fa66a1cf-e164-4501-bb4d-fa83ccd34efc",
   "metadata": {},
   "outputs": [
    {
     "name": "stdout",
     "output_type": "stream",
     "text": [
      "Consignment_id: 1670994512\n",
      "Creating a supply transaction for consignment ID: 1670994512, location: DEL\n",
      "AttributeDict({'transactionHash': HexBytes('0x46d5cd5d4020dc3be2ecec513664caa02bc27bc75fa64a8c5a60f912ad9b97ea'), 'transactionIndex': 0, 'blockNumber': 49, 'blockHash': HexBytes('0x1f8be9da65bca2eec4b0f6cdbd21cca424f8077edcb820c851cdf141ffb1cc95'), 'from': '0x944336C4b424450A20Bc12E529Fc4999395E88E3', 'to': '0xdD178159eAb4DcBf017AB7A4b52FBb14D8c2cA14', 'cumulativeGasUsed': 118295, 'gasUsed': 118295, 'contractAddress': None, 'logs': [], 'logsBloom': HexBytes('0x00000000000000000000000000000000000000000000000000000000000000000000000000000000000000000000000000000000000000000000000000000000000000000000000000000000000000000000000000000000000000000000000000000000000000000000000000000000000000000000000000000000000000000000000000000000000000000000000000000000000000000000000000000000000000000000000000000000000000000000000000000000000000000000000000000000000000000000000000000000000000000000000000000000000000000000000000000000000000000000000000000000000000000000000000000000'), 'status': 1, 'effectiveGasPrice': 2000000000, 'type': '0x0'})\n",
      "Creating a supply transaction for consignment ID: 1670994512, location: ORD\n",
      "AttributeDict({'transactionHash': HexBytes('0x432d1fca3a0e8a9d800f79fbc21fce5b24f8db585ab756cb040828a43261a5e5'), 'transactionIndex': 0, 'blockNumber': 50, 'blockHash': HexBytes('0x5ad5818247640c3b8d49b4ec2e738fdf5ba1ad8ef6318bcd051a26591662656f'), 'from': '0x944336C4b424450A20Bc12E529Fc4999395E88E3', 'to': '0xdD178159eAb4DcBf017AB7A4b52FBb14D8c2cA14', 'cumulativeGasUsed': 118295, 'gasUsed': 118295, 'contractAddress': None, 'logs': [], 'logsBloom': HexBytes('0x00000000000000000000000000000000000000000000000000000000000000000000000000000000000000000000000000000000000000000000000000000000000000000000000000000000000000000000000000000000000000000000000000000000000000000000000000000000000000000000000000000000000000000000000000000000000000000000000000000000000000000000000000000000000000000000000000000000000000000000000000000000000000000000000000000000000000000000000000000000000000000000000000000000000000000000000000000000000000000000000000000000000000000000000000000000'), 'status': 1, 'effectiveGasPrice': 2000000000, 'type': '0x0'})\n",
      "Creating a supply transaction for consignment ID: 1670994512, location: HPN\n",
      "AttributeDict({'transactionHash': HexBytes('0x1286c7f35d4e6b50b1113dd0cffdfe0fce13e9db1b1de7eeccb482f5a19b4839'), 'transactionIndex': 0, 'blockNumber': 51, 'blockHash': HexBytes('0xcac4bfa5946b6355c1fe75f8e99f6f3a25ab068dce253908586d1b26d683af97'), 'from': '0x944336C4b424450A20Bc12E529Fc4999395E88E3', 'to': '0xdD178159eAb4DcBf017AB7A4b52FBb14D8c2cA14', 'cumulativeGasUsed': 118295, 'gasUsed': 118295, 'contractAddress': None, 'logs': [], 'logsBloom': HexBytes('0x00000000000000000000000000000000000000000000000000000000000000000000000000000000000000000000000000000000000000000000000000000000000000000000000000000000000000000000000000000000000000000000000000000000000000000000000000000000000000000000000000000000000000000000000000000000000000000000000000000000000000000000000000000000000000000000000000000000000000000000000000000000000000000000000000000000000000000000000000000000000000000000000000000000000000000000000000000000000000000000000000000000000000000000000000000000'), 'status': 1, 'effectiveGasPrice': 2000000000, 'type': '0x0'})\n"
     ]
    }
   ],
   "source": [
    "create_supply_route(\"DEL\", \"HPN\", \"djikstra_rank\", \"p1\")"
   ]
  },
  {
   "cell_type": "code",
   "execution_count": 20,
   "id": "b09bfdb9-5191-4290-9e2f-32a7819790a7",
   "metadata": {},
   "outputs": [
    {
     "name": "stdout",
     "output_type": "stream",
     "text": [
      "   Consignment ID   |  Consignment Name  |      Location      |       PathID       \n",
      "     1671698219     |         p1         |        DEL         |         1          \n",
      "     1671698219     |         p1         |        KEF         |         2          \n",
      "     1671698219     |         p1         |        BOS         |         3          \n",
      "     1671698219     |         p1         |        HPN         |         4          \n"
     ]
    }
   ],
   "source": [
    "printAllContractData()"
   ]
  },
  {
   "cell_type": "code",
   "execution_count": 21,
   "id": "f5d23ace-5320-4cd6-bc9e-f468f80bce4b",
   "metadata": {},
   "outputs": [
    {
     "name": "stdout",
     "output_type": "stream",
     "text": [
      "DEL -----> KEF -----> BOS -----> HPN\n",
      "   Consignment ID   |  Consignment Name  |      Location      |       PathID       \n",
      "     1671698219     |         p1         |        DEL         |         1          \n",
      "     1671698219     |         p1         |        KEF         |         2          \n",
      "     1671698219     |         p1         |        BOS         |         3          \n",
      "     1671698219     |         p1         |        HPN         |         4          \n"
     ]
    }
   ],
   "source": [
    "printbyIDContractData(1671698219)"
   ]
  }
 ],
 "metadata": {
  "kernelspec": {
   "display_name": "Python 3 (ipykernel)",
   "language": "python",
   "name": "python3"
  },
  "language_info": {
   "codemirror_mode": {
    "name": "ipython",
    "version": 3
   },
   "file_extension": ".py",
   "mimetype": "text/x-python",
   "name": "python",
   "nbconvert_exporter": "python",
   "pygments_lexer": "ipython3",
   "version": "3.7.15"
  }
 },
 "nbformat": 4,
 "nbformat_minor": 5
}
