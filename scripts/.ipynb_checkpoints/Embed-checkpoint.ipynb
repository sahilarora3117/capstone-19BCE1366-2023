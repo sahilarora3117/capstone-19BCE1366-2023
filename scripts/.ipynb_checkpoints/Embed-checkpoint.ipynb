{
 "cells": [
  {
   "cell_type": "code",
   "execution_count": 1,
   "id": "c9fa05b6",
   "metadata": {},
   "outputs": [],
   "source": [
    "from graphdatascience import GraphDataScience"
   ]
  },
  {
   "cell_type": "code",
   "execution_count": 2,
   "id": "a81d6167",
   "metadata": {},
   "outputs": [],
   "source": [
    "gds = GraphDataScience(\"neo4j://localhost:7687\", auth=(\"neo4j\", \"1234567890\"), database=\"neo4j\")"
   ]
  },
  {
   "cell_type": "code",
   "execution_count": 3,
   "id": "49ffe544",
   "metadata": {},
   "outputs": [
    {
     "name": "stdout",
     "output_type": "stream",
     "text": [
      "2.0.3\n"
     ]
    }
   ],
   "source": [
    "print(gds.version())\n",
    "assert gds.version()"
   ]
  },
  {
   "cell_type": "code",
   "execution_count": 4,
   "id": "aa3bf30d",
   "metadata": {},
   "outputs": [],
   "source": [
    "using_enterprise = gds.is_licensed()"
   ]
  },
  {
   "cell_type": "code",
   "execution_count": 5,
   "id": "4fc08cb4",
   "metadata": {},
   "outputs": [
    {
     "data": {
      "text/html": [
       "<div>\n",
       "<style scoped>\n",
       "    .dataframe tbody tr th:only-of-type {\n",
       "        vertical-align: middle;\n",
       "    }\n",
       "\n",
       "    .dataframe tbody tr th {\n",
       "        vertical-align: top;\n",
       "    }\n",
       "\n",
       "    .dataframe thead th {\n",
       "        text-align: right;\n",
       "    }\n",
       "</style>\n",
       "<table border=\"1\" class=\"dataframe\">\n",
       "  <thead>\n",
       "    <tr style=\"text-align: right;\">\n",
       "      <th></th>\n",
       "    </tr>\n",
       "  </thead>\n",
       "  <tbody>\n",
       "  </tbody>\n",
       "</table>\n",
       "</div>"
      ],
      "text/plain": [
       "Empty DataFrame\n",
       "Columns: []\n",
       "Index: []"
      ]
     },
     "execution_count": 5,
     "metadata": {},
     "output_type": "execute_result"
    }
   ],
   "source": [
    "gds.run_cypher(\"\"\"\n",
    "match (:Airport)-[r:HAS_ROUTE]->(:Airport)\n",
    "with collect(r) as routes, max(r.distance) as maxDistance\n",
    "foreach(route in routes | set route.weight = maxDistance + 1 - route.distance)\n",
    "\"\"\")"
   ]
  },
  {
   "cell_type": "code",
   "execution_count": 6,
   "id": "a46bf9ab",
   "metadata": {},
   "outputs": [],
   "source": [
    "G_routes, result = gds.graph.project(\n",
    "   \"air-routes\", \n",
    "   \"Airport\",                                   \n",
    "   {\"HAS_ROUTE\":\n",
    "      {\"orientation\":\"UNDIRECTED\", \n",
    "      \"aggregation\":\"MAX\"}\n",
    "   }, \n",
    "   relationshipProperties = \"weight\")"
   ]
  },
  {
   "cell_type": "code",
   "execution_count": 7,
   "id": "acecf690",
   "metadata": {},
   "outputs": [
    {
     "data": {
      "text/plain": [
       "{'p99': 1,\n",
       " 'min': 1,\n",
       " 'max': 3292,\n",
       " 'mean': 16.52358490566038,\n",
       " 'p90': 1,\n",
       " 'p50': 1,\n",
       " 'p999': 3292,\n",
       " 'p95': 1,\n",
       " 'p75': 1}"
      ]
     },
     "execution_count": 7,
     "metadata": {},
     "output_type": "execute_result"
    }
   ],
   "source": [
    "routes_wcc = gds.wcc.stats(G_routes)\n",
    "routes_wcc['componentDistribution']"
   ]
  },
  {
   "cell_type": "code",
   "execution_count": 8,
   "id": "005c0764",
   "metadata": {},
   "outputs": [
    {
     "data": {
      "text/plain": [
       "mutateMillis                                                             1\n",
       "nodePropertiesWritten                                                 3503\n",
       "componentCount                                                         212\n",
       "componentDistribution    {'p99': 1, 'min': 1, 'max': 3292, 'mean': 16.5...\n",
       "postProcessingMillis                                                     7\n",
       "preProcessingMillis                                                      0\n",
       "computeMillis                                                            5\n",
       "configuration            {'seedProperty': None, 'consecutiveIds': False...\n",
       "Name: 0, dtype: object"
      ]
     },
     "execution_count": 8,
     "metadata": {},
     "output_type": "execute_result"
    }
   ],
   "source": [
    "gds.wcc.mutate(G_routes, mutateProperty = 'componentId')"
   ]
  },
  {
   "cell_type": "code",
   "execution_count": null,
   "id": "1f062297",
   "metadata": {},
   "outputs": [],
   "source": []
  }
 ],
 "metadata": {
  "kernelspec": {
   "display_name": "Python 3 (ipykernel)",
   "language": "python",
   "name": "python3"
  },
  "language_info": {
   "codemirror_mode": {
    "name": "ipython",
    "version": 3
   },
   "file_extension": ".py",
   "mimetype": "text/x-python",
   "name": "python",
   "nbconvert_exporter": "python",
   "pygments_lexer": "ipython3",
   "version": "3.9.12"
  }
 },
 "nbformat": 4,
 "nbformat_minor": 5
}
