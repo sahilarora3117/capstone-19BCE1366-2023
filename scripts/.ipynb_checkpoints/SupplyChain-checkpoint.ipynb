{
 "cells": [
  {
   "cell_type": "code",
   "execution_count": 1,
   "id": "5b8c8895-74a3-4900-a7ed-83c59a6e0b6e",
   "metadata": {},
   "outputs": [
    {
     "name": "stderr",
     "output_type": "stream",
     "text": [
      "which: no solc in (/home/sahilarora/anaconda3/bin:/home/sahilarora/anaconda3/condabin:/home/sahilarora/.cargo/bin:/usr/local/sbin:/usr/local/bin:/usr/bin:/home/sahilarora/.dotnet/tools:/usr/lib/jvm/default/bin:/usr/bin/site_perl:/usr/bin/vendor_perl:/usr/bin/core_perl)\n"
     ]
    }
   ],
   "source": [
    "import json\n",
    "from web3 import Web3\n",
    "from solcx import compile_standard, install_solc\n",
    "import os\n",
    "from dotenv import load_dotenv"
   ]
  },
  {
   "cell_type": "code",
   "execution_count": 2,
   "id": "7bb54d6a-0436-4bcf-b16b-77ddc4d1c7a1",
   "metadata": {},
   "outputs": [],
   "source": [
    "with open(\n",
    "    \"/home/sahilarora/capstone-19BCE1366-2023/contract/SimpleStorageContract.sol\",\n",
    "    \"r\",\n",
    ") as file:\n",
    "    simple_storage_file = file.read()"
   ]
  },
  {
   "cell_type": "code",
   "execution_count": 3,
   "id": "dd581efc-3a4d-4bee-9f58-776df089e8cd",
   "metadata": {},
   "outputs": [
    {
     "data": {
      "text/plain": [
       "Version('0.6.0')"
      ]
     },
     "execution_count": 3,
     "metadata": {},
     "output_type": "execute_result"
    }
   ],
   "source": [
    "install_solc(\"0.6.0\")"
   ]
  },
  {
   "cell_type": "code",
   "execution_count": 4,
   "id": "76b37df0-d34f-490a-97d4-35f5f19cfd0d",
   "metadata": {},
   "outputs": [],
   "source": [
    "compiled_sol = compile_standard(\n",
    "    {\n",
    "        \"language\": \"Solidity\",\n",
    "        \"sources\": {\"SimpleStorageContract.sol\": {\"content\": simple_storage_file}},\n",
    "        \"settings\": {\n",
    "            \"outputSelection\": {\n",
    "                \"*\": {\n",
    "                    \"*\": [\"abi\", \"metadata\", \"evm.bytecode\", \"evm.bytecode.sourceMap\"]\n",
    "                }\n",
    "            }\n",
    "        },\n",
    "    },\n",
    "    solc_version=\"0.6.0\",\n",
    ")\n",
    "\n",
    "with open(\"compiled_code.json\", \"w\") as file:\n",
    "    json.dump(compiled_sol, file)\n"
   ]
  },
  {
   "cell_type": "code",
   "execution_count": 5,
   "id": "81b6e067-4c7c-485a-83e5-b1ecb729520a",
   "metadata": {},
   "outputs": [],
   "source": [
    "bytecode = compiled_sol[\"contracts\"][\"SimpleStorageContract.sol\"][\"SimpleStorage\"][\n",
    "    \"evm\"\n",
    "][\"bytecode\"][\"object\"]\n",
    "abi = json.loads(\n",
    "    compiled_sol[\"contracts\"][\"SimpleStorageContract.sol\"][\"SimpleStorage\"][\"metadata\"]\n",
    ")[\"output\"][\"abi\"]"
   ]
  },
  {
   "cell_type": "code",
   "execution_count": 6,
   "id": "b5a0068d-5cba-4616-a26f-dd524ac353b7",
   "metadata": {},
   "outputs": [],
   "source": [
    "w3 = Web3(Web3.HTTPProvider(\"HTTP://127.0.0.1:8545\"))"
   ]
  },
  {
   "cell_type": "code",
   "execution_count": 10,
   "id": "035304df-9bce-4b06-bbb1-d6aa64ce3c71",
   "metadata": {},
   "outputs": [],
   "source": [
    "chain_id = 1337\n",
    "my_address = \"0x82eA9Eb87CF88B53F11Ebe0ba4734905e48B738a\"\n",
    "# private_key = os.getenv(\"PRIVATE_KEY\")\n",
    "private_key = \"0xe50d0c4fe0e65b0ab746ef7d13d4cf934c34378efaa2a5ca4c0fce846f5396b8\""
   ]
  },
  {
   "cell_type": "code",
   "execution_count": 8,
   "id": "02718966-b31c-4cd4-bd8e-49642ebbb1a0",
   "metadata": {},
   "outputs": [],
   "source": [
    "SimpleStorage = w3.eth.contract(abi=abi, bytecode=bytecode)"
   ]
  },
  {
   "cell_type": "code",
   "execution_count": 9,
   "id": "63e34836-41ed-4b52-8ab5-f2299cb83e79",
   "metadata": {},
   "outputs": [],
   "source": [
    "def setupContract():\n",
    "    nonce = w3.eth.getTransactionCount(my_address)\n",
    "    tx = SimpleStorage.constructor().buildTransaction(\n",
    "    {\n",
    "        \"chainId\": chain_id,\n",
    "        \"gasPrice\": w3.eth.gas_price,\n",
    "        \"from\": my_address,\n",
    "        \"nonce\": w3.eth.getTransactionCount(my_address),\n",
    "    }\n",
    "    )\n",
    "    signed_tx = w3.eth.account.signTransaction(tx, private_key=private_key)\n",
    "    tx_hash = w3.eth.send_raw_transaction(signed_tx.rawTransaction)\n",
    "    tx_receipt = w3.eth.wait_for_transaction_receipt(tx_hash)\n",
    "    print(f\"Contract deployed to {tx_receipt.contractAddress}\")\n",
    "    return tx_receipt.contractAddress"
   ]
  },
  {
   "cell_type": "code",
   "execution_count": 11,
   "id": "33dac562-599e-4efe-bc7f-11487f9c7d52",
   "metadata": {},
   "outputs": [
    {
     "name": "stdout",
     "output_type": "stream",
     "text": [
      "Contract deployed to 0x3dAE0708ccCcaEFACcFEbC00B1F2D53A0191B6CB\n"
     ]
    }
   ],
   "source": [
    "contractAddress = setupContract()"
   ]
  },
  {
   "cell_type": "code",
   "execution_count": 12,
   "id": "18badc52-26ea-4a2d-a5ff-f856fc1ec6f5",
   "metadata": {},
   "outputs": [],
   "source": [
    "def createSupplyNodeTransaction(itemID, itemName, itemICAO, stepID):\n",
    "    simple_storage = w3.eth.contract(address=contractAddress, abi=abi)\n",
    "    new_transaction = simple_storage.functions.create_store_event(itemID, itemName, itemICAO, stepID).buildTransaction(\n",
    "    {\n",
    "        \"chainId\": chain_id,\n",
    "        \"gasPrice\": w3.eth.gas_price,\n",
    "        \"from\": my_address,\n",
    "        \"nonce\": w3.eth.getTransactionCount(my_address),\n",
    "    }\n",
    "    )\n",
    "    signed_new_txn = w3.eth.account.sign_transaction(\n",
    "    new_transaction, private_key=private_key\n",
    "    )\n",
    "    tx_new_hash = w3.eth.send_raw_transaction(signed_new_txn.rawTransaction)\n",
    "    print(\"Sending new transaction...\")\n",
    "    tx_new_receipt = w3.eth.wait_for_transaction_receipt(tx_new_hash)\n",
    "    print(tx_new_receipt)\n",
    "    \n",
    "    "
   ]
  },
  {
   "cell_type": "code",
   "execution_count": 25,
   "id": "0a45e913-697e-4ad2-8e6f-df783cf17ece",
   "metadata": {},
   "outputs": [
    {
     "name": "stdout",
     "output_type": "stream",
     "text": [
      "Sending new transaction...\n",
      "AttributeDict({'transactionHash': HexBytes('0xd9da0a53164c9635c6c15b47a81abad89331d4f23590ab6582c247598e8cd71c'), 'transactionIndex': 0, 'blockNumber': 9, 'blockHash': HexBytes('0xda397693ad392bf23b4b2fce313372f73fd19e336ad14549a3f4a7e422371159'), 'from': '0xcb42A6202292d2854BfAd3B0fD4a6F124ff09113', 'to': '0x3dAE0708ccCcaEFACcFEbC00B1F2D53A0191B6CB', 'cumulativeGasUsed': 118281, 'gasUsed': 118281, 'contractAddress': None, 'logs': [], 'logsBloom': HexBytes('0x00000000000000000000000000000000000000000000000000000000000000000000000000000000000000000000000000000000000000000000000000000000000000000000000000000000000000000000000000000000000000000000000000000000000000000000000000000000000000000000000000000000000000000000000000000000000000000000000000000000000000000000000000000000000000000000000000000000000000000000000000000000000000000000000000000000000000000000000000000000000000000000000000000000000000000000000000000000000000000000000000000000000000000000000000000000'), 'status': 1, 'effectiveGasPrice': 2000000000, 'type': '0x0'})\n"
     ]
    }
   ],
   "source": [
    "createSupplyNodeTransaction(1, \"n1\", \"DLI\", 1)"
   ]
  },
  {
   "cell_type": "code",
   "execution_count": 16,
   "id": "216a9847-45f0-4c52-9da4-ae4465004df4",
   "metadata": {},
   "outputs": [],
   "source": [
    "def printAllContractData():\n",
    "    simple_storage = w3.eth.contract(address=contractAddress, abi=abi)\n",
    "    print(f\"New stored value at Retrieve {simple_storage.functions.retrieveLog().call()}\")"
   ]
  },
  {
   "cell_type": "code",
   "execution_count": 26,
   "id": "cedfcf01-d507-4c44-a534-eca5d7b5413b",
   "metadata": {},
   "outputs": [
    {
     "name": "stdout",
     "output_type": "stream",
     "text": [
      "New stored value at Retrieve [(1, 'n1', 'DLI', 1), (1, 'n1', 'DLI', 1), (1, 'n1', 'DLI', 1), (1, 'n1', 'DLI', 1), (1, 'n1', 'DLI', 1), (1, 'n1', 'DLI', 1), (1, 'n1', 'DLI', 1), (1, 'n1', 'DLI', 1)]\n"
     ]
    }
   ],
   "source": [
    "printAllContractData()"
   ]
  }
 ],
 "metadata": {
  "kernelspec": {
   "display_name": "Python 3 (ipykernel)",
   "language": "python",
   "name": "python3"
  },
  "language_info": {
   "codemirror_mode": {
    "name": "ipython",
    "version": 3
   },
   "file_extension": ".py",
   "mimetype": "text/x-python",
   "name": "python",
   "nbconvert_exporter": "python",
   "pygments_lexer": "ipython3",
   "version": "3.9.12"
  }
 },
 "nbformat": 4,
 "nbformat_minor": 5
}
