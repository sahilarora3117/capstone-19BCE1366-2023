{
 "cells": [
  {
   "cell_type": "code",
   "execution_count": 5,
   "id": "677eff08-0cfd-4f90-acc9-ee88afed41e3",
   "metadata": {},
   "outputs": [],
   "source": [
    "from graphdatascience import GraphDataScience\n",
    "import emblaze\n",
    "import numpy as np\n",
    "import pandas as pd\n",
    "import json\n",
    "from web3 import Web3\n",
    "from solcx import compile_standard, install_solc\n",
    "import os\n",
    "from dotenv import load_dotenv\n",
    "import calendar\n",
    "import time"
   ]
  },
  {
   "cell_type": "code",
   "execution_count": 6,
   "id": "cbceb0d6-2ed8-4ccc-a9c5-d8017b01d763",
   "metadata": {},
   "outputs": [
    {
     "name": "stdout",
     "output_type": "stream",
     "text": [
      "2.0.3\n"
     ]
    }
   ],
   "source": [
    "gds = GraphDataScience(\"bolt://localhost:11003\", auth=(\"neo4j\", \"1234567890\"), database=\"neo4j\")\n",
    "print(gds.version())\n",
    "assert gds.version()\n",
    "using_enterprise = gds.is_licensed()"
   ]
  },
  {
   "cell_type": "code",
   "execution_count": 7,
   "id": "3d4abea4-de4f-42cc-a275-68e2fec47df6",
   "metadata": {},
   "outputs": [],
   "source": [
    "def setup_graph():\n",
    "    gds.run_cypher(\"\"\"\n",
    "match (:Airport)-[r:HAS_ROUTE]->(:Airport)\n",
    "with collect(r) as routes, max(r.distance) as maxDistance\n",
    "foreach(route in routes | set route.weight = maxDistance + 1 - route.distance)\n",
    "\"\"\")\n",
    "    gds.run_cypher(\"\"\"\n",
    "match (n:Airport)\n",
    "with collect(n) as airports\n",
    "foreach(airport in airports | set airport.longitude = airport.location.x)\n",
    "\"\"\")\n",
    "    gds.run_cypher(\"\"\"\n",
    "match (n:Airport)\n",
    "with collect(n) as airports\n",
    "foreach(airport in airports | set airport.latitude = airport.location.y)\n",
    "\"\"\")\n",
    "    gds.run_cypher(\"\"\"\n",
    "match (p:Airport)-[r:HAS_ROUTE]->(q:Airport)\n",
    "SET r.avgPageRank = p.pagerank + q.pagerank\n",
    "\"\"\")\n",
    "    gds.run_cypher(\"\"\"\n",
    "match (:Airport)-[r:HAS_ROUTE]->(:Airport)\n",
    "with collect(r) as routes, max(r.avgPageRank) as maxRank\n",
    "foreach(route in routes | set route.weightedRank = maxRank + 1 - route.avgPageRank)\n",
    "\"\"\")"
   ]
  },
  {
   "cell_type": "code",
   "execution_count": 9,
   "id": "cdb55d89-1c61-49dc-86b8-b48d0b085dae",
   "metadata": {},
   "outputs": [
    {
     "ename": "ClientError",
     "evalue": "{code: Neo.ClientError.Procedure.ProcedureCallFailed} {message: Failed to invoke procedure `gds.graph.project`: Caused by: java.lang.IllegalArgumentException: A graph with name 'air-routes' already exists.}",
     "output_type": "error",
     "traceback": [
      "\u001b[0;31m---------------------------------------------------------------------------\u001b[0m",
      "\u001b[0;31mClientError\u001b[0m                               Traceback (most recent call last)",
      "Input \u001b[0;32mIn [9]\u001b[0m, in \u001b[0;36m<cell line: 1>\u001b[0;34m()\u001b[0m\n\u001b[0;32m----> 1\u001b[0m G_routes, result \u001b[38;5;241m=\u001b[39m \u001b[43mgds\u001b[49m\u001b[38;5;241;43m.\u001b[39;49m\u001b[43mgraph\u001b[49m\u001b[38;5;241;43m.\u001b[39;49m\u001b[43mproject\u001b[49m\u001b[43m(\u001b[49m\n\u001b[1;32m      2\u001b[0m \u001b[43m   \u001b[49m\u001b[38;5;124;43m\"\u001b[39;49m\u001b[38;5;124;43mair-routes\u001b[39;49m\u001b[38;5;124;43m\"\u001b[39;49m\u001b[43m,\u001b[49m\u001b[43m \u001b[49m\n\u001b[1;32m      3\u001b[0m \u001b[43m   \u001b[49m\u001b[38;5;124;43m\"\u001b[39;49m\u001b[38;5;124;43mAirport\u001b[39;49m\u001b[38;5;124;43m\"\u001b[39;49m\u001b[43m,\u001b[49m\u001b[43m                                   \u001b[49m\n\u001b[1;32m      4\u001b[0m \u001b[43m   \u001b[49m\u001b[43m{\u001b[49m\u001b[38;5;124;43m\"\u001b[39;49m\u001b[38;5;124;43mHAS_ROUTE\u001b[39;49m\u001b[38;5;124;43m\"\u001b[39;49m\u001b[43m:\u001b[49m\n\u001b[1;32m      5\u001b[0m \u001b[43m      \u001b[49m\u001b[43m{\u001b[49m\u001b[38;5;124;43m\"\u001b[39;49m\u001b[38;5;124;43morientation\u001b[39;49m\u001b[38;5;124;43m\"\u001b[39;49m\u001b[43m:\u001b[49m\u001b[38;5;124;43m\"\u001b[39;49m\u001b[38;5;124;43mUNDIRECTED\u001b[39;49m\u001b[38;5;124;43m\"\u001b[39;49m\u001b[43m,\u001b[49m\u001b[43m \u001b[49m\n\u001b[1;32m      6\u001b[0m \u001b[43m      \u001b[49m\u001b[38;5;124;43m\"\u001b[39;49m\u001b[38;5;124;43maggregation\u001b[39;49m\u001b[38;5;124;43m\"\u001b[39;49m\u001b[43m:\u001b[49m\u001b[38;5;124;43m\"\u001b[39;49m\u001b[38;5;124;43mMAX\u001b[39;49m\u001b[38;5;124;43m\"\u001b[39;49m\u001b[43m}\u001b[49m\n\u001b[1;32m      7\u001b[0m \u001b[43m   \u001b[49m\u001b[43m}\u001b[49m\u001b[43m,\u001b[49m\u001b[43m \u001b[49m\n\u001b[1;32m      8\u001b[0m \u001b[43m   \u001b[49m\u001b[43mrelationshipProperties\u001b[49m\u001b[43m \u001b[49m\u001b[38;5;241;43m=\u001b[39;49m\u001b[43m \u001b[49m\u001b[43m[\u001b[49m\u001b[38;5;124;43m\"\u001b[39;49m\u001b[38;5;124;43mweight\u001b[39;49m\u001b[38;5;124;43m\"\u001b[39;49m\u001b[43m,\u001b[49m\u001b[43m \u001b[49m\u001b[38;5;124;43m\"\u001b[39;49m\u001b[38;5;124;43mdistance\u001b[39;49m\u001b[38;5;124;43m\"\u001b[39;49m\u001b[43m,\u001b[49m\u001b[43m \u001b[49m\u001b[38;5;124;43m\"\u001b[39;49m\u001b[38;5;124;43mweightedRank\u001b[39;49m\u001b[38;5;124;43m\"\u001b[39;49m\u001b[43m]\u001b[49m\u001b[43m,\u001b[49m\n\u001b[1;32m      9\u001b[0m \u001b[43m    \u001b[49m\u001b[43mnodeProperties\u001b[49m\u001b[43m \u001b[49m\u001b[38;5;241;43m=\u001b[39;49m\u001b[43m \u001b[49m\u001b[43m[\u001b[49m\u001b[38;5;124;43m\"\u001b[39;49m\u001b[38;5;124;43mlatitude\u001b[39;49m\u001b[38;5;124;43m\"\u001b[39;49m\u001b[43m,\u001b[49m\u001b[43m \u001b[49m\u001b[38;5;124;43m\"\u001b[39;49m\u001b[38;5;124;43mlongitude\u001b[39;49m\u001b[38;5;124;43m\"\u001b[39;49m\u001b[43m]\u001b[49m\n\u001b[1;32m     10\u001b[0m \u001b[43m)\u001b[49m\n\u001b[1;32m     12\u001b[0m routes_wcc \u001b[38;5;241m=\u001b[39m gds\u001b[38;5;241m.\u001b[39mwcc\u001b[38;5;241m.\u001b[39mstats(G_routes)\n\u001b[1;32m     13\u001b[0m routes_wcc[\u001b[38;5;124m'\u001b[39m\u001b[38;5;124mcomponentDistribution\u001b[39m\u001b[38;5;124m'\u001b[39m]\n",
      "File \u001b[0;32m~/anaconda3/lib/python3.9/site-packages/graphdatascience/graph/graph_project_runner.py:15\u001b[0m, in \u001b[0;36mGraphProjectRunner.__call__\u001b[0;34m(self, graph_name, node_spec, relationship_spec, **config)\u001b[0m\n\u001b[1;32m     12\u001b[0m \u001b[38;5;28;01mdef\u001b[39;00m \u001b[38;5;21m__call__\u001b[39m(\n\u001b[1;32m     13\u001b[0m     \u001b[38;5;28mself\u001b[39m, graph_name: \u001b[38;5;28mstr\u001b[39m, node_spec: Any, relationship_spec: Any, \u001b[38;5;241m*\u001b[39m\u001b[38;5;241m*\u001b[39mconfig: Any\n\u001b[1;32m     14\u001b[0m ) \u001b[38;5;241m-\u001b[39m\u001b[38;5;241m>\u001b[39m Tuple[Graph, \u001b[38;5;124m\"\u001b[39m\u001b[38;5;124mSeries[Any]\u001b[39m\u001b[38;5;124m\"\u001b[39m]:\n\u001b[0;32m---> 15\u001b[0m     result \u001b[38;5;241m=\u001b[39m \u001b[38;5;28;43mself\u001b[39;49m\u001b[38;5;241;43m.\u001b[39;49m\u001b[43m_query_runner\u001b[49m\u001b[38;5;241;43m.\u001b[39;49m\u001b[43mrun_query_with_logging\u001b[49m\u001b[43m(\u001b[49m\n\u001b[1;32m     16\u001b[0m \u001b[43m        \u001b[49m\u001b[38;5;124;43mf\u001b[39;49m\u001b[38;5;124;43m\"\u001b[39;49m\u001b[38;5;124;43mCALL \u001b[39;49m\u001b[38;5;132;43;01m{\u001b[39;49;00m\u001b[38;5;28;43mself\u001b[39;49m\u001b[38;5;241;43m.\u001b[39;49m\u001b[43m_namespace\u001b[49m\u001b[38;5;132;43;01m}\u001b[39;49;00m\u001b[38;5;124;43m($graph_name, $node_spec, $relationship_spec, $config)\u001b[39;49m\u001b[38;5;124;43m\"\u001b[39;49m\u001b[43m,\u001b[49m\n\u001b[1;32m     17\u001b[0m \u001b[43m        \u001b[49m\u001b[43m{\u001b[49m\n\u001b[1;32m     18\u001b[0m \u001b[43m            \u001b[49m\u001b[38;5;124;43m\"\u001b[39;49m\u001b[38;5;124;43mgraph_name\u001b[39;49m\u001b[38;5;124;43m\"\u001b[39;49m\u001b[43m:\u001b[49m\u001b[43m \u001b[49m\u001b[43mgraph_name\u001b[49m\u001b[43m,\u001b[49m\n\u001b[1;32m     19\u001b[0m \u001b[43m            \u001b[49m\u001b[38;5;124;43m\"\u001b[39;49m\u001b[38;5;124;43mnode_spec\u001b[39;49m\u001b[38;5;124;43m\"\u001b[39;49m\u001b[43m:\u001b[49m\u001b[43m \u001b[49m\u001b[43mnode_spec\u001b[49m\u001b[43m,\u001b[49m\n\u001b[1;32m     20\u001b[0m \u001b[43m            \u001b[49m\u001b[38;5;124;43m\"\u001b[39;49m\u001b[38;5;124;43mrelationship_spec\u001b[39;49m\u001b[38;5;124;43m\"\u001b[39;49m\u001b[43m:\u001b[49m\u001b[43m \u001b[49m\u001b[43mrelationship_spec\u001b[49m\u001b[43m,\u001b[49m\n\u001b[1;32m     21\u001b[0m \u001b[43m            \u001b[49m\u001b[38;5;124;43m\"\u001b[39;49m\u001b[38;5;124;43mconfig\u001b[39;49m\u001b[38;5;124;43m\"\u001b[39;49m\u001b[43m:\u001b[49m\u001b[43m \u001b[49m\u001b[43mconfig\u001b[49m\u001b[43m,\u001b[49m\n\u001b[1;32m     22\u001b[0m \u001b[43m        \u001b[49m\u001b[43m}\u001b[49m\u001b[43m,\u001b[49m\n\u001b[1;32m     23\u001b[0m \u001b[43m    \u001b[49m\u001b[43m)\u001b[49m\u001b[38;5;241m.\u001b[39msqueeze()\n\u001b[1;32m     25\u001b[0m     \u001b[38;5;28;01mreturn\u001b[39;00m Graph(graph_name, \u001b[38;5;28mself\u001b[39m\u001b[38;5;241m.\u001b[39m_query_runner, \u001b[38;5;28mself\u001b[39m\u001b[38;5;241m.\u001b[39m_server_version), result\n",
      "File \u001b[0;32m~/anaconda3/lib/python3.9/site-packages/graphdatascience/query_runner/neo4j_query_runner.py:67\u001b[0m, in \u001b[0;36mNeo4jQueryRunner.run_query_with_logging\u001b[0;34m(self, query, params, database)\u001b[0m\n\u001b[1;32m     64\u001b[0m     params \u001b[38;5;241m=\u001b[39m {}\n\u001b[1;32m     66\u001b[0m \u001b[38;5;28;01mif\u001b[39;00m \u001b[38;5;28mself\u001b[39m\u001b[38;5;241m.\u001b[39m_server_version \u001b[38;5;241m<\u001b[39m ServerVersion(\u001b[38;5;241m2\u001b[39m, \u001b[38;5;241m1\u001b[39m, \u001b[38;5;241m0\u001b[39m):\n\u001b[0;32m---> 67\u001b[0m     \u001b[38;5;28;01mreturn\u001b[39;00m \u001b[38;5;28;43mself\u001b[39;49m\u001b[38;5;241;43m.\u001b[39;49m\u001b[43mrun_query\u001b[49m\u001b[43m(\u001b[49m\u001b[43mquery\u001b[49m\u001b[43m,\u001b[49m\u001b[43m \u001b[49m\u001b[43mparams\u001b[49m\u001b[43m,\u001b[49m\u001b[43m \u001b[49m\u001b[43mdatabase\u001b[49m\u001b[43m)\u001b[49m\n\u001b[1;32m     69\u001b[0m \u001b[38;5;28;01mif\u001b[39;00m \u001b[38;5;124m\"\u001b[39m\u001b[38;5;124mconfig\u001b[39m\u001b[38;5;124m\"\u001b[39m \u001b[38;5;129;01min\u001b[39;00m params:\n\u001b[1;32m     70\u001b[0m     \u001b[38;5;28;01mif\u001b[39;00m \u001b[38;5;124m\"\u001b[39m\u001b[38;5;124mjobId\u001b[39m\u001b[38;5;124m\"\u001b[39m \u001b[38;5;129;01min\u001b[39;00m params[\u001b[38;5;124m\"\u001b[39m\u001b[38;5;124mconfig\u001b[39m\u001b[38;5;124m\"\u001b[39m]:\n",
      "File \u001b[0;32m~/anaconda3/lib/python3.9/site-packages/graphdatascience/query_runner/neo4j_query_runner.py:58\u001b[0m, in \u001b[0;36mNeo4jQueryRunner.run_query\u001b[0;34m(self, query, params, database)\u001b[0m\n\u001b[1;32m     51\u001b[0m \u001b[38;5;66;03m# Though pandas support may be experimental in the `neo4j` package, it should always\u001b[39;00m\n\u001b[1;32m     52\u001b[0m \u001b[38;5;66;03m# be supported in the `graphdatascience` package.\u001b[39;00m\n\u001b[1;32m     53\u001b[0m warnings\u001b[38;5;241m.\u001b[39mfilterwarnings(\n\u001b[1;32m     54\u001b[0m     \u001b[38;5;124m\"\u001b[39m\u001b[38;5;124mignore\u001b[39m\u001b[38;5;124m\"\u001b[39m,\n\u001b[1;32m     55\u001b[0m     message\u001b[38;5;241m=\u001b[39m\u001b[38;5;124mr\u001b[39m\u001b[38;5;124m\"\u001b[39m\u001b[38;5;124m^pandas support is experimental and might be changed or removed in future versions$\u001b[39m\u001b[38;5;124m\"\u001b[39m,\n\u001b[1;32m     56\u001b[0m )\n\u001b[0;32m---> 58\u001b[0m \u001b[38;5;28;01mreturn\u001b[39;00m \u001b[43mresult\u001b[49m\u001b[38;5;241;43m.\u001b[39;49m\u001b[43mto_df\u001b[49m\u001b[43m(\u001b[49m\u001b[43m)\u001b[49m\n",
      "File \u001b[0;32m~/anaconda3/lib/python3.9/site-packages/neo4j/_sync/work/result.py:677\u001b[0m, in \u001b[0;36mResult.to_df\u001b[0;34m(self, expand, parse_dates)\u001b[0m\n\u001b[1;32m    674\u001b[0m \u001b[38;5;28;01mimport\u001b[39;00m \u001b[38;5;21;01mpandas\u001b[39;00m \u001b[38;5;28;01mas\u001b[39;00m \u001b[38;5;21;01mpd\u001b[39;00m  \u001b[38;5;66;03m# type: ignore[import]\u001b[39;00m\n\u001b[1;32m    676\u001b[0m \u001b[38;5;28;01mif\u001b[39;00m \u001b[38;5;129;01mnot\u001b[39;00m expand:\n\u001b[0;32m--> 677\u001b[0m     df \u001b[38;5;241m=\u001b[39m pd\u001b[38;5;241m.\u001b[39mDataFrame(\u001b[38;5;28;43mself\u001b[39;49m\u001b[38;5;241;43m.\u001b[39;49m\u001b[43mvalues\u001b[49m\u001b[43m(\u001b[49m\u001b[43m)\u001b[49m, columns\u001b[38;5;241m=\u001b[39m\u001b[38;5;28mself\u001b[39m\u001b[38;5;241m.\u001b[39m_keys)\n\u001b[1;32m    678\u001b[0m \u001b[38;5;28;01melse\u001b[39;00m:\n\u001b[1;32m    679\u001b[0m     df_keys \u001b[38;5;241m=\u001b[39m \u001b[38;5;28;01mNone\u001b[39;00m\n",
      "File \u001b[0;32m~/anaconda3/lib/python3.9/site-packages/neo4j/_sync/work/result.py:563\u001b[0m, in \u001b[0;36mResult.values\u001b[0;34m(self, *keys)\u001b[0m\n\u001b[1;32m    545\u001b[0m \u001b[38;5;28;01mdef\u001b[39;00m \u001b[38;5;21mvalues\u001b[39m(\n\u001b[1;32m    546\u001b[0m     \u001b[38;5;28mself\u001b[39m, \u001b[38;5;241m*\u001b[39mkeys: _T_ResultKey\n\u001b[1;32m    547\u001b[0m ) \u001b[38;5;241m-\u001b[39m\u001b[38;5;241m>\u001b[39m t\u001b[38;5;241m.\u001b[39mList[t\u001b[38;5;241m.\u001b[39mList[t\u001b[38;5;241m.\u001b[39mAny]]:\n\u001b[1;32m    548\u001b[0m     \u001b[38;5;124;03m\"\"\"Helper function that return the remainder of the result as a list of values lists.\u001b[39;00m\n\u001b[1;32m    549\u001b[0m \n\u001b[1;32m    550\u001b[0m \u001b[38;5;124;03m    See :class:`neo4j.Record.values`\u001b[39;00m\n\u001b[0;32m   (...)\u001b[0m\n\u001b[1;32m    561\u001b[0m \u001b[38;5;124;03m        Can raise :exc:`ResultConsumedError`.\u001b[39;00m\n\u001b[1;32m    562\u001b[0m \u001b[38;5;124;03m    \"\"\"\u001b[39;00m\n\u001b[0;32m--> 563\u001b[0m     \u001b[38;5;28;01mreturn\u001b[39;00m [record\u001b[38;5;241m.\u001b[39mvalues(\u001b[38;5;241m*\u001b[39mkeys) \u001b[38;5;28;01mfor\u001b[39;00m record \u001b[38;5;129;01min\u001b[39;00m \u001b[38;5;28mself\u001b[39m]\n",
      "File \u001b[0;32m~/anaconda3/lib/python3.9/site-packages/neo4j/_sync/work/result.py:563\u001b[0m, in \u001b[0;36m<listcomp>\u001b[0;34m(.0)\u001b[0m\n\u001b[1;32m    545\u001b[0m \u001b[38;5;28;01mdef\u001b[39;00m \u001b[38;5;21mvalues\u001b[39m(\n\u001b[1;32m    546\u001b[0m     \u001b[38;5;28mself\u001b[39m, \u001b[38;5;241m*\u001b[39mkeys: _T_ResultKey\n\u001b[1;32m    547\u001b[0m ) \u001b[38;5;241m-\u001b[39m\u001b[38;5;241m>\u001b[39m t\u001b[38;5;241m.\u001b[39mList[t\u001b[38;5;241m.\u001b[39mList[t\u001b[38;5;241m.\u001b[39mAny]]:\n\u001b[1;32m    548\u001b[0m     \u001b[38;5;124;03m\"\"\"Helper function that return the remainder of the result as a list of values lists.\u001b[39;00m\n\u001b[1;32m    549\u001b[0m \n\u001b[1;32m    550\u001b[0m \u001b[38;5;124;03m    See :class:`neo4j.Record.values`\u001b[39;00m\n\u001b[0;32m   (...)\u001b[0m\n\u001b[1;32m    561\u001b[0m \u001b[38;5;124;03m        Can raise :exc:`ResultConsumedError`.\u001b[39;00m\n\u001b[1;32m    562\u001b[0m \u001b[38;5;124;03m    \"\"\"\u001b[39;00m\n\u001b[0;32m--> 563\u001b[0m     \u001b[38;5;28;01mreturn\u001b[39;00m [record\u001b[38;5;241m.\u001b[39mvalues(\u001b[38;5;241m*\u001b[39mkeys) \u001b[38;5;28;01mfor\u001b[39;00m record \u001b[38;5;129;01min\u001b[39;00m \u001b[38;5;28mself\u001b[39m]\n",
      "File \u001b[0;32m~/anaconda3/lib/python3.9/site-packages/neo4j/_sync/work/result.py:249\u001b[0m, in \u001b[0;36mResult.__iter__\u001b[0;34m(self)\u001b[0m\n\u001b[1;32m    247\u001b[0m     \u001b[38;5;28;01myield\u001b[39;00m \u001b[38;5;28mself\u001b[39m\u001b[38;5;241m.\u001b[39m_record_buffer\u001b[38;5;241m.\u001b[39mpopleft()\n\u001b[1;32m    248\u001b[0m \u001b[38;5;28;01melif\u001b[39;00m \u001b[38;5;28mself\u001b[39m\u001b[38;5;241m.\u001b[39m_streaming:\n\u001b[0;32m--> 249\u001b[0m     \u001b[38;5;28;43mself\u001b[39;49m\u001b[38;5;241;43m.\u001b[39;49m\u001b[43m_connection\u001b[49m\u001b[38;5;241;43m.\u001b[39;49m\u001b[43mfetch_message\u001b[49m\u001b[43m(\u001b[49m\u001b[43m)\u001b[49m\n\u001b[1;32m    250\u001b[0m \u001b[38;5;28;01melif\u001b[39;00m \u001b[38;5;28mself\u001b[39m\u001b[38;5;241m.\u001b[39m_discarding:\n\u001b[1;32m    251\u001b[0m     \u001b[38;5;28mself\u001b[39m\u001b[38;5;241m.\u001b[39m_discard()\n",
      "File \u001b[0;32m~/anaconda3/lib/python3.9/site-packages/neo4j/_sync/io/_common.py:178\u001b[0m, in \u001b[0;36mConnectionErrorHandler.__getattr__.<locals>.outer.<locals>.inner\u001b[0;34m(*args, **kwargs)\u001b[0m\n\u001b[1;32m    176\u001b[0m \u001b[38;5;28;01mdef\u001b[39;00m \u001b[38;5;21minner\u001b[39m(\u001b[38;5;241m*\u001b[39margs, \u001b[38;5;241m*\u001b[39m\u001b[38;5;241m*\u001b[39mkwargs):\n\u001b[1;32m    177\u001b[0m     \u001b[38;5;28;01mtry\u001b[39;00m:\n\u001b[0;32m--> 178\u001b[0m         \u001b[43mfunc\u001b[49m\u001b[43m(\u001b[49m\u001b[38;5;241;43m*\u001b[39;49m\u001b[43margs\u001b[49m\u001b[43m,\u001b[49m\u001b[43m \u001b[49m\u001b[38;5;241;43m*\u001b[39;49m\u001b[38;5;241;43m*\u001b[39;49m\u001b[43mkwargs\u001b[49m\u001b[43m)\u001b[49m\n\u001b[1;32m    179\u001b[0m     \u001b[38;5;28;01mexcept\u001b[39;00m (Neo4jError, ServiceUnavailable, SessionExpired) \u001b[38;5;28;01mas\u001b[39;00m exc:\n\u001b[1;32m    180\u001b[0m         \u001b[38;5;28;01massert\u001b[39;00m \u001b[38;5;129;01mnot\u001b[39;00m asyncio\u001b[38;5;241m.\u001b[39miscoroutinefunction(\u001b[38;5;28mself\u001b[39m\u001b[38;5;241m.\u001b[39m__on_error)\n",
      "File \u001b[0;32m~/anaconda3/lib/python3.9/site-packages/neo4j/_sync/io/_bolt.py:655\u001b[0m, in \u001b[0;36mBolt.fetch_message\u001b[0;34m(self)\u001b[0m\n\u001b[1;32m    651\u001b[0m \u001b[38;5;66;03m# Receive exactly one message\u001b[39;00m\n\u001b[1;32m    652\u001b[0m tag, fields \u001b[38;5;241m=\u001b[39m \u001b[38;5;28mself\u001b[39m\u001b[38;5;241m.\u001b[39minbox\u001b[38;5;241m.\u001b[39mpop(\n\u001b[1;32m    653\u001b[0m     hydration_hooks\u001b[38;5;241m=\u001b[39m\u001b[38;5;28mself\u001b[39m\u001b[38;5;241m.\u001b[39mresponses[\u001b[38;5;241m0\u001b[39m]\u001b[38;5;241m.\u001b[39mhydration_hooks\n\u001b[1;32m    654\u001b[0m )\n\u001b[0;32m--> 655\u001b[0m res \u001b[38;5;241m=\u001b[39m \u001b[38;5;28;43mself\u001b[39;49m\u001b[38;5;241;43m.\u001b[39;49m\u001b[43m_process_message\u001b[49m\u001b[43m(\u001b[49m\u001b[43mtag\u001b[49m\u001b[43m,\u001b[49m\u001b[43m \u001b[49m\u001b[43mfields\u001b[49m\u001b[43m)\u001b[49m\n\u001b[1;32m    656\u001b[0m \u001b[38;5;28mself\u001b[39m\u001b[38;5;241m.\u001b[39midle_since \u001b[38;5;241m=\u001b[39m perf_counter()\n\u001b[1;32m    657\u001b[0m \u001b[38;5;28;01mreturn\u001b[39;00m res\n",
      "File \u001b[0;32m~/anaconda3/lib/python3.9/site-packages/neo4j/_sync/io/_bolt4.py:326\u001b[0m, in \u001b[0;36mBolt4x0._process_message\u001b[0;34m(self, tag, fields)\u001b[0m\n\u001b[1;32m    324\u001b[0m \u001b[38;5;28mself\u001b[39m\u001b[38;5;241m.\u001b[39m_server_state_manager\u001b[38;5;241m.\u001b[39mstate \u001b[38;5;241m=\u001b[39m ServerStates\u001b[38;5;241m.\u001b[39mFAILED\n\u001b[1;32m    325\u001b[0m \u001b[38;5;28;01mtry\u001b[39;00m:\n\u001b[0;32m--> 326\u001b[0m     \u001b[43mresponse\u001b[49m\u001b[38;5;241;43m.\u001b[39;49m\u001b[43mon_failure\u001b[49m\u001b[43m(\u001b[49m\u001b[43msummary_metadata\u001b[49m\u001b[43m \u001b[49m\u001b[38;5;129;43;01mor\u001b[39;49;00m\u001b[43m \u001b[49m\u001b[43m{\u001b[49m\u001b[43m}\u001b[49m\u001b[43m)\u001b[49m\n\u001b[1;32m    327\u001b[0m \u001b[38;5;28;01mexcept\u001b[39;00m (ServiceUnavailable, DatabaseUnavailable):\n\u001b[1;32m    328\u001b[0m     \u001b[38;5;28;01mif\u001b[39;00m \u001b[38;5;28mself\u001b[39m\u001b[38;5;241m.\u001b[39mpool:\n",
      "File \u001b[0;32m~/anaconda3/lib/python3.9/site-packages/neo4j/_sync/io/_common.py:245\u001b[0m, in \u001b[0;36mResponse.on_failure\u001b[0;34m(self, metadata)\u001b[0m\n\u001b[1;32m    243\u001b[0m handler \u001b[38;5;241m=\u001b[39m \u001b[38;5;28mself\u001b[39m\u001b[38;5;241m.\u001b[39mhandlers\u001b[38;5;241m.\u001b[39mget(\u001b[38;5;124m\"\u001b[39m\u001b[38;5;124mon_summary\u001b[39m\u001b[38;5;124m\"\u001b[39m)\n\u001b[1;32m    244\u001b[0m Util\u001b[38;5;241m.\u001b[39mcallback(handler)\n\u001b[0;32m--> 245\u001b[0m \u001b[38;5;28;01mraise\u001b[39;00m Neo4jError\u001b[38;5;241m.\u001b[39mhydrate(\u001b[38;5;241m*\u001b[39m\u001b[38;5;241m*\u001b[39mmetadata)\n",
      "\u001b[0;31mClientError\u001b[0m: {code: Neo.ClientError.Procedure.ProcedureCallFailed} {message: Failed to invoke procedure `gds.graph.project`: Caused by: java.lang.IllegalArgumentException: A graph with name 'air-routes' already exists.}"
     ]
    }
   ],
   "source": [
    "\n",
    "\n",
    "G_routes, result = gds.graph.project(\n",
    "   \"air-routes\", \n",
    "   \"Airport\",                                   \n",
    "   {\"HAS_ROUTE\":\n",
    "      {\"orientation\":\"UNDIRECTED\", \n",
    "      \"aggregation\":\"MAX\"}\n",
    "   }, \n",
    "   relationshipProperties = [\"weight\", \"distance\", \"weightedRank\"],\n",
    "    nodeProperties = [\"latitude\", \"longitude\"]\n",
    ")\n",
    "\n",
    "routes_wcc = gds.wcc.stats(G_routes)\n",
    "routes_wcc['componentDistribution']\n",
    "\n",
    "gds.wcc.mutate(G_routes, mutateProperty = 'componentId')\n",
    "\n",
    "gds.graph.writeNodeProperties(G_routes, ['componentId'])\n",
    "\n",
    "gds.run_cypher(\"MATCH (a:Airport) RETURN a.componentId as componentId, count(*) as nodeCount ORDER BY count(*) DESC limit 1\")\n",
    "\n",
    "G_connected_airports, result = gds.beta.graph.project.subgraph(\"connected-airports\", G_routes, \"n.componentId = 0\", \"*\")"
   ]
  },
  {
   "cell_type": "code",
   "execution_count": 10,
   "id": "892af719-36f3-46a9-80a1-b340699bfeee",
   "metadata": {},
   "outputs": [],
   "source": [
    "def dijkstra_distance(source, destination):\n",
    "    return gds.run_cypher(\"\"\"\n",
    "MATCH (p1:Airport {iata:'\"\"\" + source +\"\"\"'}), (p2:Airport {iata:'\"\"\" + destination + \"\"\"'})\n",
    "\n",
    "CALL gds.shortestPath.dijkstra.stream('air-routes',{\n",
    "    sourceNode: p1,\n",
    "    targetNode: p2,\n",
    "    relationshipWeightProperty: 'distance'\n",
    "})\n",
    "YIELD index, sourceNode, targetNode, totalCost, nodeIds, costs, path\n",
    "RETURN\n",
    "    index,\n",
    "    gds.util.asNode(sourceNode).city AS sourceNodeName,\n",
    "    gds.util.asNode(targetNode).city AS targetNodeName,\n",
    "    totalCost,\n",
    "    [nodeId IN nodeIds | gds.util.asNode(nodeId).city] AS nodeNames,\n",
    "    [nodeId IN nodeIds | gds.util.asNode(nodeId).iata] AS nodeIATA,\n",
    "    costs,\n",
    "    nodes(path) as path\n",
    "ORDER BY index\n",
    "\"\"\")\n",
    "def astar_distance(source, destination):\n",
    "    return gds.run_cypher(\"\"\"\n",
    "MATCH (p1:Airport {iata:'\"\"\" + source + \"\"\"'}), (p2:Airport {iata:'\"\"\" + destination + \"\"\"'})\n",
    "\n",
    "CALL gds.shortestPath.astar.stream('air-routes',{\n",
    "    sourceNode: p1,\n",
    "    targetNode: p2,\n",
    "    latitudeProperty: 'latitude',\n",
    "    longitudeProperty: 'longitude',\n",
    "    relationshipWeightProperty: 'distance'\n",
    "})\n",
    "YIELD index, sourceNode, targetNode, totalCost, nodeIds, costs, path\n",
    "RETURN\n",
    "    index,\n",
    "    gds.util.asNode(sourceNode).city AS sourceNodeName,\n",
    "    gds.util.asNode(targetNode).city AS targetNodeName,\n",
    "    totalCost,\n",
    "    [nodeId IN nodeIds | gds.util.asNode(nodeId).city] AS nodeNames,\n",
    "    [nodeId IN nodeIds | gds.util.asNode(nodeId).iata] AS nodeIATA,\n",
    "    costs,\n",
    "    nodes(path) as path\n",
    "ORDER BY index\n",
    "\"\"\")\n",
    "def dijkstra_rank(source, destination):\n",
    "    return gds.run_cypher(\"\"\"\n",
    "MATCH (p1:Airport {iata:'\"\"\" + source + \"\"\"'}), (p2:Airport {iata:'\"\"\" + destination + \"\"\"'})\n",
    "\n",
    "CALL gds.shortestPath.dijkstra.stream('air-routes',{\n",
    "    sourceNode: p1,\n",
    "    targetNode: p2,\n",
    "    relationshipWeightProperty: 'weightedRank'\n",
    "})\n",
    "YIELD index, sourceNode, targetNode, totalCost, nodeIds, costs, path\n",
    "RETURN\n",
    "    index,\n",
    "    gds.util.asNode(sourceNode).city AS sourceNodeName,\n",
    "    gds.util.asNode(targetNode).city AS targetNodeName,\n",
    "    totalCost,\n",
    "    [nodeId IN nodeIds | gds.util.asNode(nodeId).city] AS nodeNames,\n",
    "    [nodeId IN nodeIds | gds.util.asNode(nodeId).iata] AS nodeIATA,\n",
    "    costs,\n",
    "    nodes(path) as path\n",
    "ORDER BY index\n",
    "\"\"\")"
   ]
  },
  {
   "cell_type": "code",
   "execution_count": 11,
   "id": "4d0ac454-1411-4676-88c7-ea9e0e1c99ae",
   "metadata": {},
   "outputs": [],
   "source": [
    "def setupContract():\n",
    "    nonce = w3.eth.getTransactionCount(my_address)\n",
    "    tx = SimpleStorage.constructor().buildTransaction(\n",
    "    {\n",
    "        \"chainId\": chain_id,\n",
    "        \"gasPrice\": w3.eth.gas_price,\n",
    "        \"from\": my_address,\n",
    "        \"nonce\": w3.eth.getTransactionCount(my_address),\n",
    "    }\n",
    "    )\n",
    "    signed_tx = w3.eth.account.signTransaction(tx, private_key=private_key)\n",
    "    tx_hash = w3.eth.send_raw_transaction(signed_tx.rawTransaction)\n",
    "    tx_receipt = w3.eth.wait_for_transaction_receipt(tx_hash)\n",
    "    print(f\"Contract deployed to {tx_receipt.contractAddress}\")\n",
    "    return tx_receipt.contractAddress"
   ]
  },
  {
   "cell_type": "code",
   "execution_count": 12,
   "id": "cc2614e2-3a0f-4158-a70b-c671d0bfc832",
   "metadata": {},
   "outputs": [],
   "source": [
    "def createSupplyNodeTransaction(itemID, itemName, itemICAO, stepID):\n",
    "    simple_storage = w3.eth.contract(address=contractAddress, abi=abi)\n",
    "    new_transaction = simple_storage.functions.create_store_event(itemID, itemName, itemICAO, stepID).buildTransaction(\n",
    "    {\n",
    "        \"chainId\": chain_id,\n",
    "        \"gasPrice\": w3.eth.gas_price,\n",
    "        \"from\": my_address,\n",
    "        \"nonce\": w3.eth.getTransactionCount(my_address),\n",
    "    }\n",
    "    )\n",
    "    signed_new_txn = w3.eth.account.sign_transaction(\n",
    "    new_transaction, private_key=private_key\n",
    "    )\n",
    "    tx_new_hash = w3.eth.send_raw_transaction(signed_new_txn.rawTransaction)\n",
    "    print(\"Creating a supply transaction for consignment ID: \" + str(itemID) + \", location: \" + itemICAO)\n",
    "    tx_new_receipt = w3.eth.wait_for_transaction_receipt(tx_new_hash)\n",
    "    print(tx_new_receipt)\n",
    "    \n",
    "    "
   ]
  },
  {
   "cell_type": "code",
   "execution_count": 80,
   "id": "19f8a688-8ffb-45f6-8556-4d47280b2380",
   "metadata": {},
   "outputs": [],
   "source": [
    "def printAllContractData():\n",
    "    simple_storage = w3.eth.contract(address=contractAddress, abi=abi)\n",
    "    list_el = simple_storage.functions.retrieveLog().call()\n",
    "    row = \"{name1:^20}|{name2:^20}|{name3:^20}|{name4:^20}\".format\n",
    "    print(row(name1=\"Consignment ID\", name2=\"Consignment Name\", name3=\"Location\", name4=\"PathID\"))\n",
    "\n",
    "    for tup in list_el:\n",
    "        print(row(name1=tup[0], name2=tup[1], name3=tup[2], name4=tup[3]))\n",
    "def printbyIDContractData(itemID):\n",
    "    simple_storage = w3.eth.contract(address=contractAddress, abi=abi)\n",
    "    list_el = simple_storage.functions.retrieveLog().call()\n",
    "    list_el_filtered = []\n",
    "    addresses = []\n",
    "    for i in list_el:\n",
    "        if i[0] == itemID:\n",
    "            addresses.append(i[2])\n",
    "            list_el_filtered.append(i)\n",
    "    row = \"{name1:^20}|{name2:^20}|{name3:^20}|{name4:^20}\".format\n",
    "    print(*addresses, sep=\" -----> \")\n",
    "    \n",
    "    print(row(name1=\"Consignment ID\", name2=\"Consignment Name\", name3=\"Location\", name4=\"PathID\"))\n",
    "\n",
    "    for tup in list_el_filtered:\n",
    "        print(row(name1=tup[0], name2=tup[1], name3=tup[2], name4=tup[3]))"
   ]
  },
  {
   "cell_type": "code",
   "execution_count": 59,
   "id": "b5348f59-7fbe-4096-b6f4-f81d7df1fe61",
   "metadata": {},
   "outputs": [],
   "source": [
    "with open(\n",
    "    \"/home/sahilarora/capstone-19BCE1366-2023/contract/SimpleStorageContract.sol\",\n",
    "    \"r\",\n",
    ") as file:\n",
    "    simple_storage_file = file.read()\n",
    "install_solc(\"0.6.0\")\n",
    "compiled_sol = compile_standard(\n",
    "    {\n",
    "        \"language\": \"Solidity\",\n",
    "        \"sources\": {\"SimpleStorageContract.sol\": {\"content\": simple_storage_file}},\n",
    "        \"settings\": {\n",
    "            \"outputSelection\": {\n",
    "                \"*\": {\n",
    "                    \"*\": [\"abi\", \"metadata\", \"evm.bytecode\", \"evm.bytecode.sourceMap\"]\n",
    "                }\n",
    "            }\n",
    "        },\n",
    "    },\n",
    "    solc_version=\"0.6.0\",\n",
    ")\n",
    "\n",
    "with open(\"compiled_code.json\", \"w\") as file:\n",
    "    json.dump(compiled_sol, file)\n",
    "    \n",
    "bytecode = compiled_sol[\"contracts\"][\"SimpleStorageContract.sol\"][\"SimpleStorage\"][\n",
    "    \"evm\"\n",
    "][\"bytecode\"][\"object\"]\n",
    "abi = json.loads(\n",
    "    compiled_sol[\"contracts\"][\"SimpleStorageContract.sol\"][\"SimpleStorage\"][\"metadata\"]\n",
    ")[\"output\"][\"abi\"]\n",
    "\n",
    "w3 = Web3(Web3.HTTPProvider(\"HTTP://127.0.0.1:8545\"))"
   ]
  },
  {
   "cell_type": "code",
   "execution_count": 60,
   "id": "5c7334e8-3a2d-4529-85ab-566465cd59f6",
   "metadata": {},
   "outputs": [],
   "source": [
    "chain_id = 1337\n",
    "my_address = \"0x944336C4b424450A20Bc12E529Fc4999395E88E3\"\n",
    "# private_key = os.getenv(\"PRIVATE_KEY\")\n",
    "private_key = \"0x4d147e223b4c47c5db41c204c85818192b1eb9b1fe12afe85903f990726838b9\""
   ]
  },
  {
   "cell_type": "code",
   "execution_count": 61,
   "id": "b5301dba-5165-4149-b7f7-8e69db64443e",
   "metadata": {},
   "outputs": [],
   "source": [
    "SimpleStorage = w3.eth.contract(abi=abi, bytecode=bytecode)"
   ]
  },
  {
   "cell_type": "code",
   "execution_count": 62,
   "id": "a6bdfb1f-f3fe-448e-b41f-6ac5c20f242d",
   "metadata": {},
   "outputs": [
    {
     "name": "stdout",
     "output_type": "stream",
     "text": [
      "Contract deployed to 0xdD178159eAb4DcBf017AB7A4b52FBb14D8c2cA14\n"
     ]
    }
   ],
   "source": [
    "contractAddress = setupContract()"
   ]
  },
  {
   "cell_type": "code",
   "execution_count": 63,
   "id": "396f68c9-b62c-4367-b1d2-266700ef7fc3",
   "metadata": {},
   "outputs": [],
   "source": [
    "def create_supply_route(source, destination, distance_algo, consignment_name):\n",
    "    ts = calendar.timegm(time.gmtime())\n",
    "    print(\"Consignment_id: \" + str(ts))\n",
    "    route = []\n",
    "    if distance_algo == \"d_distance\":\n",
    "        route = dijkstra_distance(source, destination)\n",
    "    elif distance_algo == \"a_distance\":\n",
    "        route = astar_distance(source, destination)\n",
    "    else:\n",
    "        route = dijkstra_rank(source, destination)\n",
    "    IATAroute = route[\"nodeIATA\"][0]\n",
    "    \n",
    "    for i in range(len(IATAroute)):\n",
    "        createSupplyNodeTransaction(ts, consignment_name, IATAroute[i] , i+1)\n",
    "    "
   ]
  },
  {
   "cell_type": "code",
   "execution_count": 64,
   "id": "a9f0f33c-88f4-4dc7-8fa4-191c4f615613",
   "metadata": {},
   "outputs": [
    {
     "name": "stdout",
     "output_type": "stream",
     "text": [
      "Consignment_id: 1670994510\n",
      "Creating a supply transaction for consignment ID: 1670994510, location: DEL\n",
      "AttributeDict({'transactionHash': HexBytes('0x5c703158583ec9e3e02407eb0311c6bf169202c62fe428130ec6f66b3d082dcf'), 'transactionIndex': 0, 'blockNumber': 45, 'blockHash': HexBytes('0xe43940b74a3ac709bb61fe5aebd3df5c4c89f5dc36281cf1d2164ddfdac892f8'), 'from': '0x944336C4b424450A20Bc12E529Fc4999395E88E3', 'to': '0xdD178159eAb4DcBf017AB7A4b52FBb14D8c2cA14', 'cumulativeGasUsed': 135395, 'gasUsed': 135395, 'contractAddress': None, 'logs': [], 'logsBloom': HexBytes('0x00000000000000000000000000000000000000000000000000000000000000000000000000000000000000000000000000000000000000000000000000000000000000000000000000000000000000000000000000000000000000000000000000000000000000000000000000000000000000000000000000000000000000000000000000000000000000000000000000000000000000000000000000000000000000000000000000000000000000000000000000000000000000000000000000000000000000000000000000000000000000000000000000000000000000000000000000000000000000000000000000000000000000000000000000000000'), 'status': 1, 'effectiveGasPrice': 2000000000, 'type': '0x0'})\n",
      "Creating a supply transaction for consignment ID: 1670994510, location: KEF\n",
      "AttributeDict({'transactionHash': HexBytes('0x0c71e2f10a0afa8a4c44e2c695332bf9e70d018879607e354d5087957ca0f969'), 'transactionIndex': 0, 'blockNumber': 46, 'blockHash': HexBytes('0x6cd5e2e03feea51bde051af2a0dc8036427fcd812a6c390072bbadb6c405a6a0'), 'from': '0x944336C4b424450A20Bc12E529Fc4999395E88E3', 'to': '0xdD178159eAb4DcBf017AB7A4b52FBb14D8c2cA14', 'cumulativeGasUsed': 118295, 'gasUsed': 118295, 'contractAddress': None, 'logs': [], 'logsBloom': HexBytes('0x00000000000000000000000000000000000000000000000000000000000000000000000000000000000000000000000000000000000000000000000000000000000000000000000000000000000000000000000000000000000000000000000000000000000000000000000000000000000000000000000000000000000000000000000000000000000000000000000000000000000000000000000000000000000000000000000000000000000000000000000000000000000000000000000000000000000000000000000000000000000000000000000000000000000000000000000000000000000000000000000000000000000000000000000000000000'), 'status': 1, 'effectiveGasPrice': 2000000000, 'type': '0x0'})\n",
      "Creating a supply transaction for consignment ID: 1670994510, location: BOS\n",
      "AttributeDict({'transactionHash': HexBytes('0x070b4d541f6963428e3d4270adbdd35f04b5a43e379d39c7a3671f97206febbb'), 'transactionIndex': 0, 'blockNumber': 47, 'blockHash': HexBytes('0xff6b7b62eb9b4ba020520171a49c8b7cf4205f896368b6253ff49a4218c48236'), 'from': '0x944336C4b424450A20Bc12E529Fc4999395E88E3', 'to': '0xdD178159eAb4DcBf017AB7A4b52FBb14D8c2cA14', 'cumulativeGasUsed': 118295, 'gasUsed': 118295, 'contractAddress': None, 'logs': [], 'logsBloom': HexBytes('0x00000000000000000000000000000000000000000000000000000000000000000000000000000000000000000000000000000000000000000000000000000000000000000000000000000000000000000000000000000000000000000000000000000000000000000000000000000000000000000000000000000000000000000000000000000000000000000000000000000000000000000000000000000000000000000000000000000000000000000000000000000000000000000000000000000000000000000000000000000000000000000000000000000000000000000000000000000000000000000000000000000000000000000000000000000000'), 'status': 1, 'effectiveGasPrice': 2000000000, 'type': '0x0'})\n",
      "Creating a supply transaction for consignment ID: 1670994510, location: HPN\n",
      "AttributeDict({'transactionHash': HexBytes('0x31fbca3e632337d5495e359ae958ddbc6a5d7d2b074a000469db6535d8188647'), 'transactionIndex': 0, 'blockNumber': 48, 'blockHash': HexBytes('0x6f126d8a45ea0e65bb0f9f8fa353a4e0cbf22635427f8cedbe0b472a1ac145f4'), 'from': '0x944336C4b424450A20Bc12E529Fc4999395E88E3', 'to': '0xdD178159eAb4DcBf017AB7A4b52FBb14D8c2cA14', 'cumulativeGasUsed': 118295, 'gasUsed': 118295, 'contractAddress': None, 'logs': [], 'logsBloom': HexBytes('0x00000000000000000000000000000000000000000000000000000000000000000000000000000000000000000000000000000000000000000000000000000000000000000000000000000000000000000000000000000000000000000000000000000000000000000000000000000000000000000000000000000000000000000000000000000000000000000000000000000000000000000000000000000000000000000000000000000000000000000000000000000000000000000000000000000000000000000000000000000000000000000000000000000000000000000000000000000000000000000000000000000000000000000000000000000000'), 'status': 1, 'effectiveGasPrice': 2000000000, 'type': '0x0'})\n"
     ]
    }
   ],
   "source": [
    "create_supply_route(\"DEL\", \"HPN\", \"d_distance\", \"p1\")"
   ]
  },
  {
   "cell_type": "code",
   "execution_count": 65,
   "id": "fa66a1cf-e164-4501-bb4d-fa83ccd34efc",
   "metadata": {},
   "outputs": [
    {
     "name": "stdout",
     "output_type": "stream",
     "text": [
      "Consignment_id: 1670994512\n",
      "Creating a supply transaction for consignment ID: 1670994512, location: DEL\n",
      "AttributeDict({'transactionHash': HexBytes('0x46d5cd5d4020dc3be2ecec513664caa02bc27bc75fa64a8c5a60f912ad9b97ea'), 'transactionIndex': 0, 'blockNumber': 49, 'blockHash': HexBytes('0x1f8be9da65bca2eec4b0f6cdbd21cca424f8077edcb820c851cdf141ffb1cc95'), 'from': '0x944336C4b424450A20Bc12E529Fc4999395E88E3', 'to': '0xdD178159eAb4DcBf017AB7A4b52FBb14D8c2cA14', 'cumulativeGasUsed': 118295, 'gasUsed': 118295, 'contractAddress': None, 'logs': [], 'logsBloom': HexBytes('0x00000000000000000000000000000000000000000000000000000000000000000000000000000000000000000000000000000000000000000000000000000000000000000000000000000000000000000000000000000000000000000000000000000000000000000000000000000000000000000000000000000000000000000000000000000000000000000000000000000000000000000000000000000000000000000000000000000000000000000000000000000000000000000000000000000000000000000000000000000000000000000000000000000000000000000000000000000000000000000000000000000000000000000000000000000000'), 'status': 1, 'effectiveGasPrice': 2000000000, 'type': '0x0'})\n",
      "Creating a supply transaction for consignment ID: 1670994512, location: ORD\n",
      "AttributeDict({'transactionHash': HexBytes('0x432d1fca3a0e8a9d800f79fbc21fce5b24f8db585ab756cb040828a43261a5e5'), 'transactionIndex': 0, 'blockNumber': 50, 'blockHash': HexBytes('0x5ad5818247640c3b8d49b4ec2e738fdf5ba1ad8ef6318bcd051a26591662656f'), 'from': '0x944336C4b424450A20Bc12E529Fc4999395E88E3', 'to': '0xdD178159eAb4DcBf017AB7A4b52FBb14D8c2cA14', 'cumulativeGasUsed': 118295, 'gasUsed': 118295, 'contractAddress': None, 'logs': [], 'logsBloom': HexBytes('0x00000000000000000000000000000000000000000000000000000000000000000000000000000000000000000000000000000000000000000000000000000000000000000000000000000000000000000000000000000000000000000000000000000000000000000000000000000000000000000000000000000000000000000000000000000000000000000000000000000000000000000000000000000000000000000000000000000000000000000000000000000000000000000000000000000000000000000000000000000000000000000000000000000000000000000000000000000000000000000000000000000000000000000000000000000000'), 'status': 1, 'effectiveGasPrice': 2000000000, 'type': '0x0'})\n",
      "Creating a supply transaction for consignment ID: 1670994512, location: HPN\n",
      "AttributeDict({'transactionHash': HexBytes('0x1286c7f35d4e6b50b1113dd0cffdfe0fce13e9db1b1de7eeccb482f5a19b4839'), 'transactionIndex': 0, 'blockNumber': 51, 'blockHash': HexBytes('0xcac4bfa5946b6355c1fe75f8e99f6f3a25ab068dce253908586d1b26d683af97'), 'from': '0x944336C4b424450A20Bc12E529Fc4999395E88E3', 'to': '0xdD178159eAb4DcBf017AB7A4b52FBb14D8c2cA14', 'cumulativeGasUsed': 118295, 'gasUsed': 118295, 'contractAddress': None, 'logs': [], 'logsBloom': HexBytes('0x00000000000000000000000000000000000000000000000000000000000000000000000000000000000000000000000000000000000000000000000000000000000000000000000000000000000000000000000000000000000000000000000000000000000000000000000000000000000000000000000000000000000000000000000000000000000000000000000000000000000000000000000000000000000000000000000000000000000000000000000000000000000000000000000000000000000000000000000000000000000000000000000000000000000000000000000000000000000000000000000000000000000000000000000000000000'), 'status': 1, 'effectiveGasPrice': 2000000000, 'type': '0x0'})\n"
     ]
    }
   ],
   "source": [
    "create_supply_route(\"DEL\", \"HPN\", \"djikstra_rank\", \"p1\")"
   ]
  },
  {
   "cell_type": "code",
   "execution_count": 78,
   "id": "b09bfdb9-5191-4290-9e2f-32a7819790a7",
   "metadata": {},
   "outputs": [
    {
     "name": "stdout",
     "output_type": "stream",
     "text": [
      "   Consignment ID   |  Consignment Name  |      Location      |       PathID       \n",
      "     1670994510     |         p1         |        DEL         |         1          \n",
      "     1670994510     |         p1         |        KEF         |         2          \n",
      "     1670994510     |         p1         |        BOS         |         3          \n",
      "     1670994510     |         p1         |        HPN         |         4          \n",
      "     1670994512     |         p1         |        DEL         |         1          \n",
      "     1670994512     |         p1         |        ORD         |         2          \n",
      "     1670994512     |         p1         |        HPN         |         3          \n"
     ]
    }
   ],
   "source": [
    "printAllContractData()"
   ]
  },
  {
   "cell_type": "code",
   "execution_count": 81,
   "id": "f5d23ace-5320-4cd6-bc9e-f468f80bce4b",
   "metadata": {},
   "outputs": [
    {
     "name": "stdout",
     "output_type": "stream",
     "text": [
      "DEL -----> ORD -----> HPN\n",
      "   Consignment ID   |  Consignment Name  |      Location      |       PathID       \n",
      "     1670994512     |         p1         |        DEL         |         1          \n",
      "     1670994512     |         p1         |        ORD         |         2          \n",
      "     1670994512     |         p1         |        HPN         |         3          \n"
     ]
    }
   ],
   "source": [
    "printbyIDContractData(1670994512)"
   ]
  }
 ],
 "metadata": {
  "kernelspec": {
   "display_name": "Python 3 (ipykernel)",
   "language": "python",
   "name": "python3"
  },
  "language_info": {
   "codemirror_mode": {
    "name": "ipython",
    "version": 3
   },
   "file_extension": ".py",
   "mimetype": "text/x-python",
   "name": "python",
   "nbconvert_exporter": "python",
   "pygments_lexer": "ipython3",
   "version": "3.9.12"
  }
 },
 "nbformat": 4,
 "nbformat_minor": 5
}
