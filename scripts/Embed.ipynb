{
 "cells": [
  {
   "cell_type": "code",
   "execution_count": 1,
   "id": "c9fa05b6",
   "metadata": {},
   "outputs": [],
   "source": [
    "from graphdatascience import GraphDataScience\n",
    "import emblaze\n",
    "import numpy as np\n",
    "import pandas as pd"
   ]
  },
  {
   "cell_type": "code",
   "execution_count": 2,
   "id": "a81d6167",
   "metadata": {},
   "outputs": [],
   "source": [
    "gds = GraphDataScience(\"neo4j://localhost:7687\", auth=(\"neo4j\", \"1234567890\"), database=\"neo4j\")"
   ]
  },
  {
   "cell_type": "code",
   "execution_count": 3,
   "id": "49ffe544",
   "metadata": {},
   "outputs": [
    {
     "name": "stdout",
     "output_type": "stream",
     "text": [
      "2.0.3\n"
     ]
    }
   ],
   "source": [
    "print(gds.version())\n",
    "assert gds.version()"
   ]
  },
  {
   "cell_type": "code",
   "execution_count": 4,
   "id": "aa3bf30d",
   "metadata": {},
   "outputs": [],
   "source": [
    "using_enterprise = gds.is_licensed()"
   ]
  },
  {
   "cell_type": "code",
   "execution_count": 5,
   "id": "4fc08cb4",
   "metadata": {},
   "outputs": [
    {
     "data": {
      "text/html": [
       "<div>\n",
       "<style scoped>\n",
       "    .dataframe tbody tr th:only-of-type {\n",
       "        vertical-align: middle;\n",
       "    }\n",
       "\n",
       "    .dataframe tbody tr th {\n",
       "        vertical-align: top;\n",
       "    }\n",
       "\n",
       "    .dataframe thead th {\n",
       "        text-align: right;\n",
       "    }\n",
       "</style>\n",
       "<table border=\"1\" class=\"dataframe\">\n",
       "  <thead>\n",
       "    <tr style=\"text-align: right;\">\n",
       "      <th></th>\n",
       "    </tr>\n",
       "  </thead>\n",
       "  <tbody>\n",
       "  </tbody>\n",
       "</table>\n",
       "</div>"
      ],
      "text/plain": [
       "Empty DataFrame\n",
       "Columns: []\n",
       "Index: []"
      ]
     },
     "execution_count": 5,
     "metadata": {},
     "output_type": "execute_result"
    }
   ],
   "source": [
    "gds.run_cypher(\"\"\"\n",
    "match (:Airport)-[r:HAS_ROUTE]->(:Airport)\n",
    "with collect(r) as routes, max(r.distance) as maxDistance\n",
    "foreach(route in routes | set route.weight = maxDistance + 1 - route.distance)\n",
    "\"\"\")"
   ]
  },
  {
   "cell_type": "code",
   "execution_count": 7,
   "id": "a46bf9ab",
   "metadata": {},
   "outputs": [],
   "source": [
    "G_routes, result = gds.graph.project(\n",
    "   \"air-routes\", \n",
    "   \"Airport\",                                   \n",
    "   {\"HAS_ROUTE\":\n",
    "      {\"orientation\":\"UNDIRECTED\", \n",
    "      \"aggregation\":\"MAX\"}\n",
    "   }, \n",
    "   relationshipProperties = \"weight\")"
   ]
  },
  {
   "cell_type": "code",
   "execution_count": 8,
   "id": "acecf690",
   "metadata": {},
   "outputs": [
    {
     "data": {
      "text/plain": [
       "{'p99': 1,\n",
       " 'min': 1,\n",
       " 'max': 3292,\n",
       " 'mean': 16.52358490566038,\n",
       " 'p90': 1,\n",
       " 'p50': 1,\n",
       " 'p999': 3292,\n",
       " 'p95': 1,\n",
       " 'p75': 1}"
      ]
     },
     "execution_count": 8,
     "metadata": {},
     "output_type": "execute_result"
    }
   ],
   "source": [
    "routes_wcc = gds.wcc.stats(G_routes)\n",
    "routes_wcc['componentDistribution']"
   ]
  },
  {
   "cell_type": "code",
   "execution_count": 9,
   "id": "005c0764",
   "metadata": {},
   "outputs": [
    {
     "data": {
      "text/plain": [
       "mutateMillis                                                             0\n",
       "nodePropertiesWritten                                                 3503\n",
       "componentCount                                                         212\n",
       "componentDistribution    {'p99': 1, 'min': 1, 'max': 3292, 'mean': 16.5...\n",
       "postProcessingMillis                                                     3\n",
       "preProcessingMillis                                                      0\n",
       "computeMillis                                                            3\n",
       "configuration            {'seedProperty': None, 'consecutiveIds': False...\n",
       "Name: 0, dtype: object"
      ]
     },
     "execution_count": 9,
     "metadata": {},
     "output_type": "execute_result"
    }
   ],
   "source": [
    "gds.wcc.mutate(G_routes, mutateProperty = 'componentId')"
   ]
  },
  {
   "cell_type": "code",
   "execution_count": 10,
   "id": "41167583",
   "metadata": {},
   "outputs": [
    {
     "data": {
      "text/plain": [
       "writeMillis                      5\n",
       "graphName               air-routes\n",
       "nodeProperties       [componentId]\n",
       "propertiesWritten             3503\n",
       "Name: 0, dtype: object"
      ]
     },
     "execution_count": 10,
     "metadata": {},
     "output_type": "execute_result"
    }
   ],
   "source": [
    "gds.graph.writeNodeProperties(G_routes, ['componentId'])"
   ]
  },
  {
   "cell_type": "code",
   "execution_count": 11,
   "id": "9a1c6ef6",
   "metadata": {},
   "outputs": [
    {
     "data": {
      "text/html": [
       "<div>\n",
       "<style scoped>\n",
       "    .dataframe tbody tr th:only-of-type {\n",
       "        vertical-align: middle;\n",
       "    }\n",
       "\n",
       "    .dataframe tbody tr th {\n",
       "        vertical-align: top;\n",
       "    }\n",
       "\n",
       "    .dataframe thead th {\n",
       "        text-align: right;\n",
       "    }\n",
       "</style>\n",
       "<table border=\"1\" class=\"dataframe\">\n",
       "  <thead>\n",
       "    <tr style=\"text-align: right;\">\n",
       "      <th></th>\n",
       "      <th>componentId</th>\n",
       "      <th>nodeCount</th>\n",
       "    </tr>\n",
       "  </thead>\n",
       "  <tbody>\n",
       "    <tr>\n",
       "      <th>0</th>\n",
       "      <td>0</td>\n",
       "      <td>3292</td>\n",
       "    </tr>\n",
       "  </tbody>\n",
       "</table>\n",
       "</div>"
      ],
      "text/plain": [
       "   componentId  nodeCount\n",
       "0            0       3292"
      ]
     },
     "execution_count": 11,
     "metadata": {},
     "output_type": "execute_result"
    }
   ],
   "source": [
    "gds.run_cypher(\"MATCH (a:Airport) RETURN a.componentId as componentId, count(*) as nodeCount ORDER BY count(*) DESC limit 1\")"
   ]
  },
  {
   "cell_type": "code",
   "execution_count": 12,
   "id": "64ed3ad2",
   "metadata": {},
   "outputs": [],
   "source": [
    "G_connected_airports, result = gds.beta.graph.project.subgraph(\"connected-airports\", G_routes, \"n.componentId = 0\", \"*\")"
   ]
  },
  {
   "cell_type": "code",
   "execution_count": 13,
   "id": "a36470b7",
   "metadata": {},
   "outputs": [],
   "source": [
    "def train_fast_rp(graph, config):\n",
    "    result = gds.fastRP.mutate(\n",
    "        graph,\n",
    "        embeddingDimension = 64,\n",
    "        randomSeed = 45,\n",
    "        **config\n",
    "    )\n",
    "    return result"
   ]
  },
  {
   "cell_type": "code",
   "execution_count": 14,
   "id": "a6682c97",
   "metadata": {},
   "outputs": [],
   "source": [
    "configs = [{\"iterationWeights\": [1.0, 1.0], \n",
    "            \"mutateProperty\": \"shallowUnweighted\"},\n",
    "           {\"iterationWeights\": [0.0, 1.0, 1.0], \n",
    "            \"mutateProperty\": \"mediumUnweighted\"},\n",
    "           {\"iterationWeights\": [1.0, 1.0, 1.0, 1.0], \n",
    "            \"mutateProperty\": \"deepUnweighted\"},\n",
    "           {\"iterationWeights\": [1.0, 1.0], \n",
    "            \"relationshipWeightProperty\": \"weight\", \n",
    "            \"mutateProperty\": \"shallowWeighted\"},\n",
    "           {\"iterationWeights\": [0.0, 1.0, 1.0], \n",
    "            \"relationshipWeightProperty\": \"weight\", \n",
    "            \"mutateProperty\": \"mediumWeighted\"},\n",
    "           {\"iterationWeights\": [1.0, 1.0, 1.0, 1.0], \n",
    "            \"relationshipWeightProperty\": \"weight\", \n",
    "            \"mutateProperty\": \"deepWeighted\"}]"
   ]
  },
  {
   "cell_type": "code",
   "execution_count": 15,
   "id": "0cf83ed7",
   "metadata": {},
   "outputs": [],
   "source": [
    "embedding_results = [train_fast_rp(G_connected_airports, config) for config in configs]"
   ]
  },
  {
   "cell_type": "code",
   "execution_count": 16,
   "id": "67f74064",
   "metadata": {},
   "outputs": [
    {
     "data": {
      "text/html": [
       "<div>\n",
       "<style scoped>\n",
       "    .dataframe tbody tr th:only-of-type {\n",
       "        vertical-align: middle;\n",
       "    }\n",
       "\n",
       "    .dataframe tbody tr th {\n",
       "        vertical-align: top;\n",
       "    }\n",
       "\n",
       "    .dataframe thead th {\n",
       "        text-align: right;\n",
       "    }\n",
       "</style>\n",
       "<table border=\"1\" class=\"dataframe\">\n",
       "  <thead>\n",
       "    <tr style=\"text-align: right;\">\n",
       "      <th></th>\n",
       "      <th>nodePropertiesWritten</th>\n",
       "      <th>mutateMillis</th>\n",
       "      <th>nodeCount</th>\n",
       "      <th>preProcessingMillis</th>\n",
       "      <th>computeMillis</th>\n",
       "      <th>configuration</th>\n",
       "    </tr>\n",
       "  </thead>\n",
       "  <tbody>\n",
       "    <tr>\n",
       "      <th>0</th>\n",
       "      <td>3292</td>\n",
       "      <td>0</td>\n",
       "      <td>3292</td>\n",
       "      <td>0</td>\n",
       "      <td>11</td>\n",
       "      <td>{'nodeSelfInfluence': 0, 'relationshipWeightPr...</td>\n",
       "    </tr>\n",
       "    <tr>\n",
       "      <th>0</th>\n",
       "      <td>3292</td>\n",
       "      <td>0</td>\n",
       "      <td>3292</td>\n",
       "      <td>0</td>\n",
       "      <td>10</td>\n",
       "      <td>{'nodeSelfInfluence': 0, 'relationshipWeightPr...</td>\n",
       "    </tr>\n",
       "    <tr>\n",
       "      <th>0</th>\n",
       "      <td>3292</td>\n",
       "      <td>0</td>\n",
       "      <td>3292</td>\n",
       "      <td>0</td>\n",
       "      <td>12</td>\n",
       "      <td>{'nodeSelfInfluence': 0, 'relationshipWeightPr...</td>\n",
       "    </tr>\n",
       "    <tr>\n",
       "      <th>0</th>\n",
       "      <td>3292</td>\n",
       "      <td>0</td>\n",
       "      <td>3292</td>\n",
       "      <td>0</td>\n",
       "      <td>10</td>\n",
       "      <td>{'nodeSelfInfluence': 0, 'relationshipWeightPr...</td>\n",
       "    </tr>\n",
       "    <tr>\n",
       "      <th>0</th>\n",
       "      <td>3292</td>\n",
       "      <td>0</td>\n",
       "      <td>3292</td>\n",
       "      <td>0</td>\n",
       "      <td>19</td>\n",
       "      <td>{'nodeSelfInfluence': 0, 'relationshipWeightPr...</td>\n",
       "    </tr>\n",
       "    <tr>\n",
       "      <th>0</th>\n",
       "      <td>3292</td>\n",
       "      <td>0</td>\n",
       "      <td>3292</td>\n",
       "      <td>0</td>\n",
       "      <td>29</td>\n",
       "      <td>{'nodeSelfInfluence': 0, 'relationshipWeightPr...</td>\n",
       "    </tr>\n",
       "  </tbody>\n",
       "</table>\n",
       "</div>"
      ],
      "text/plain": [
       "   nodePropertiesWritten  mutateMillis  nodeCount  preProcessingMillis  \\\n",
       "0                   3292             0       3292                    0   \n",
       "0                   3292             0       3292                    0   \n",
       "0                   3292             0       3292                    0   \n",
       "0                   3292             0       3292                    0   \n",
       "0                   3292             0       3292                    0   \n",
       "0                   3292             0       3292                    0   \n",
       "\n",
       "   computeMillis                                      configuration  \n",
       "0             11  {'nodeSelfInfluence': 0, 'relationshipWeightPr...  \n",
       "0             10  {'nodeSelfInfluence': 0, 'relationshipWeightPr...  \n",
       "0             12  {'nodeSelfInfluence': 0, 'relationshipWeightPr...  \n",
       "0             10  {'nodeSelfInfluence': 0, 'relationshipWeightPr...  \n",
       "0             19  {'nodeSelfInfluence': 0, 'relationshipWeightPr...  \n",
       "0             29  {'nodeSelfInfluence': 0, 'relationshipWeightPr...  "
      ]
     },
     "execution_count": 16,
     "metadata": {},
     "output_type": "execute_result"
    }
   ],
   "source": [
    "pd.DataFrame(embedding_results)"
   ]
  },
  {
   "cell_type": "code",
   "execution_count": 17,
   "id": "8da39f83",
   "metadata": {},
   "outputs": [],
   "source": [
    "embedding_df = gds.run_cypher(\"\"\"\n",
    "    call gds.graph.streamNodeProperties(\"connected-airports\", \n",
    "        [\"shallowUnweighted\", \n",
    "         \"mediumUnweighted\", \n",
    "         \"deepUnweighted\", \n",
    "         \"shallowWeighted\", \n",
    "         \"mediumWeighted\", \n",
    "         \"deepWeighted\"]) \n",
    "    yield nodeId, nodeProperty, propertyValue\n",
    "    WITH gds.util.asNode(nodeId) as a,\n",
    "    MAX(case when nodeProperty = \"shallowUnweighted\" then       \n",
    "           propertyValue end) as shallowUnweighted,\n",
    "    MAX(case when nodeProperty = \"mediumUnweighted\" then \n",
    "           propertyValue end) as mediumUnweighted,\n",
    "    MAX(case when nodeProperty = \"deepUnweighted\" then \n",
    "           propertyValue end) as deepUnweighted,\n",
    "    MAX(case when nodeProperty = \"shallowWeighted\" then \n",
    "           propertyValue end) as shallowWeighted,\n",
    "    MAX(case when nodeProperty = \"mediumWeighted\" then \n",
    "           propertyValue end) as mediumWeighted,\n",
    "    MAX(case when nodeProperty = \"deepWeighted\" then \n",
    "           propertyValue end) as deepWeighted\n",
    "    MATCH (a)-[:ON_CONTINENT]->(c:Continent)\n",
    "    RETURN\n",
    "    a.descr as airport_name, \n",
    "    a.iata as airport_code, \n",
    "    c.name as continent,\n",
    "    shallowUnweighted,\n",
    "    mediumUnweighted,\n",
    "    deepUnweighted,\n",
    "    shallowWeighted,\n",
    "    mediumWeighted,\n",
    "    deepWeighted\n",
    "    ORDER BY size([(a)-[:HAS_ROUTE]-() | a]) DESC\n",
    "    LIMIT 900\n",
    "    \"\"\")"
   ]
  },
  {
   "cell_type": "code",
   "execution_count": 18,
   "id": "13a7d197",
   "metadata": {},
   "outputs": [
    {
     "data": {
      "text/html": [
       "<div>\n",
       "<style scoped>\n",
       "    .dataframe tbody tr th:only-of-type {\n",
       "        vertical-align: middle;\n",
       "    }\n",
       "\n",
       "    .dataframe tbody tr th {\n",
       "        vertical-align: top;\n",
       "    }\n",
       "\n",
       "    .dataframe thead th {\n",
       "        text-align: right;\n",
       "    }\n",
       "</style>\n",
       "<table border=\"1\" class=\"dataframe\">\n",
       "  <thead>\n",
       "    <tr style=\"text-align: right;\">\n",
       "      <th></th>\n",
       "      <th>airport_name</th>\n",
       "      <th>airport_code</th>\n",
       "      <th>continent</th>\n",
       "      <th>shallowUnweighted</th>\n",
       "      <th>mediumUnweighted</th>\n",
       "      <th>deepUnweighted</th>\n",
       "      <th>shallowWeighted</th>\n",
       "      <th>mediumWeighted</th>\n",
       "      <th>deepWeighted</th>\n",
       "    </tr>\n",
       "  </thead>\n",
       "  <tbody>\n",
       "    <tr>\n",
       "      <th>0</th>\n",
       "      <td>Frankfurt am Main</td>\n",
       "      <td>FRA</td>\n",
       "      <td>EU</td>\n",
       "      <td>[-0.07399057596921921, 0.2620871663093567, 0.1...</td>\n",
       "      <td>[-0.11316736042499542, 0.24514061212539673, 0....</td>\n",
       "      <td>[-0.15192122757434845, 0.5060424208641052, 0.2...</td>\n",
       "      <td>[-0.19411295652389526, 0.2675624191761017, 0.2...</td>\n",
       "      <td>[-0.1977788209915161, 0.2508077621459961, 0.13...</td>\n",
       "      <td>[-0.36135566234588623, 0.5160863399505615, 0.3...</td>\n",
       "    </tr>\n",
       "    <tr>\n",
       "      <th>1</th>\n",
       "      <td>Paris Charles de Gaulle</td>\n",
       "      <td>CDG</td>\n",
       "      <td>EU</td>\n",
       "      <td>[-0.06564060598611832, 0.055160876363515854, 0...</td>\n",
       "      <td>[-0.11409448832273483, 0.21923694014549255, 0....</td>\n",
       "      <td>[-0.15566448867321014, 0.28849947452545166, 0....</td>\n",
       "      <td>[-0.15881961584091187, 0.0621316060423851, 0.2...</td>\n",
       "      <td>[-0.20260721445083618, 0.22906702756881714, 0....</td>\n",
       "      <td>[-0.3372170031070709, 0.30104851722717285, 0.3...</td>\n",
       "    </tr>\n",
       "    <tr>\n",
       "      <th>2</th>\n",
       "      <td>Istanbul International Airport</td>\n",
       "      <td>IST</td>\n",
       "      <td>EU</td>\n",
       "      <td>[0.026787318289279938, 0.2438107430934906, 0.1...</td>\n",
       "      <td>[-0.025942979380488396, 0.2735888957977295, 0....</td>\n",
       "      <td>[-0.0012168977409601212, 0.5254808664321899, 0...</td>\n",
       "      <td>[-0.0003005862236022949, 0.26281487941741943, ...</td>\n",
       "      <td>[-0.06701691448688507, 0.2827916741371155, 0.1...</td>\n",
       "      <td>[-0.07971426844596863, 0.5542945861816406, 0.3...</td>\n",
       "    </tr>\n",
       "    <tr>\n",
       "      <th>3</th>\n",
       "      <td>Amsterdam Airport Schiphol</td>\n",
       "      <td>AMS</td>\n",
       "      <td>EU</td>\n",
       "      <td>[-0.1855502426624298, 0.16803550720214844, 0.1...</td>\n",
       "      <td>[-0.16270774602890015, 0.2214188426733017, 0.1...</td>\n",
       "      <td>[-0.297057569026947, 0.40379035472869873, 0.24...</td>\n",
       "      <td>[-0.28153276443481445, 0.19925662875175476, 0....</td>\n",
       "      <td>[-0.2414441704750061, 0.22703152894973755, 0.1...</td>\n",
       "      <td>[-0.47922539710998535, 0.43863940238952637, 0....</td>\n",
       "    </tr>\n",
       "    <tr>\n",
       "      <th>4</th>\n",
       "      <td>Munich International Airport</td>\n",
       "      <td>MUC</td>\n",
       "      <td>EU</td>\n",
       "      <td>[-0.20580337941646576, 0.11519283056259155, 0....</td>\n",
       "      <td>[-0.16538169980049133, 0.2382025420665741, 0.1...</td>\n",
       "      <td>[-0.3348800837993622, 0.3535888195037842, 0.32...</td>\n",
       "      <td>[-0.29063165187835693, 0.13292333483695984, 0....</td>\n",
       "      <td>[-0.233033686876297, 0.24436715245246887, 0.15...</td>\n",
       "      <td>[-0.4940841495990753, 0.37679851055145264, 0.3...</td>\n",
       "    </tr>\n",
       "    <tr>\n",
       "      <th>...</th>\n",
       "      <td>...</td>\n",
       "      <td>...</td>\n",
       "      <td>...</td>\n",
       "      <td>...</td>\n",
       "      <td>...</td>\n",
       "      <td>...</td>\n",
       "      <td>...</td>\n",
       "      <td>...</td>\n",
       "      <td>...</td>\n",
       "    </tr>\n",
       "    <tr>\n",
       "      <th>895</th>\n",
       "      <td>Nanping Wuyishan Airport</td>\n",
       "      <td>WUS</td>\n",
       "      <td>AS</td>\n",
       "      <td>[-0.15465746819972992, -0.29468223452568054, -...</td>\n",
       "      <td>[-0.16766786575317383, -0.05741892755031586, -...</td>\n",
       "      <td>[-0.28116992115974426, -0.25400516390800476, -...</td>\n",
       "      <td>[-0.16491110622882843, -0.310563325881958, -0....</td>\n",
       "      <td>[-0.19777408242225647, -0.0949367955327034, -0...</td>\n",
       "      <td>[-0.33032694458961487, -0.3239209055900574, -0...</td>\n",
       "    </tr>\n",
       "    <tr>\n",
       "      <th>896</th>\n",
       "      <td>Scott AFB/Midamerica Airport</td>\n",
       "      <td>BLV</td>\n",
       "      <td>NA</td>\n",
       "      <td>[0.3646937608718872, 0.18155963718891144, -0.1...</td>\n",
       "      <td>[0.38825953006744385, 0.09397226572036743, -0....</td>\n",
       "      <td>[0.6421867609024048, 0.2155066579580307, -0.12...</td>\n",
       "      <td>[0.3598550856113434, 0.179595947265625, -0.126...</td>\n",
       "      <td>[0.38907772302627563, 0.08189046382904053, -0....</td>\n",
       "      <td>[0.6340279579162598, 0.1816011667251587, -0.09...</td>\n",
       "    </tr>\n",
       "    <tr>\n",
       "      <th>897</th>\n",
       "      <td>Canberra International Airport</td>\n",
       "      <td>CBR</td>\n",
       "      <td>OC</td>\n",
       "      <td>[0.0862639844417572, 0.5978029370307922, 0.028...</td>\n",
       "      <td>[0.18571466207504272, 0.6202242374420166, 0.07...</td>\n",
       "      <td>[0.1772807538509369, 1.2233781814575195, 0.106...</td>\n",
       "      <td>[0.04642222821712494, 0.528540849685669, 0.041...</td>\n",
       "      <td>[0.12939876317977905, 0.6064460277557373, 0.09...</td>\n",
       "      <td>[0.1165374219417572, 1.1702359914779663, 0.154...</td>\n",
       "    </tr>\n",
       "    <tr>\n",
       "      <th>898</th>\n",
       "      <td>Mangalore International Airport</td>\n",
       "      <td>IXE</td>\n",
       "      <td>AS</td>\n",
       "      <td>[0.0036581531167030334, 0.37329620122909546, 0...</td>\n",
       "      <td>[0.11747836321592331, 0.337380051612854, 0.131...</td>\n",
       "      <td>[0.08971487730741501, 0.7435741424560547, 0.12...</td>\n",
       "      <td>[-0.029092632234096527, 0.34626173973083496, 0...</td>\n",
       "      <td>[0.06642842292785645, 0.3237442374229431, 0.11...</td>\n",
       "      <td>[0.023804744705557823, 0.7144446969032288, 0.1...</td>\n",
       "    </tr>\n",
       "    <tr>\n",
       "      <th>899</th>\n",
       "      <td>Cherry Capital Airport</td>\n",
       "      <td>TVC</td>\n",
       "      <td>NA</td>\n",
       "      <td>[0.14239120483398438, 0.07686980068683624, 0.2...</td>\n",
       "      <td>[0.2795731723308563, 0.05664905160665512, 0.08...</td>\n",
       "      <td>[0.36861124634742737, 0.10893549770116806, 0.2...</td>\n",
       "      <td>[0.13504764437675476, 0.0393684059381485, 0.25...</td>\n",
       "      <td>[0.26504385471343994, 0.01004377193748951, 0.1...</td>\n",
       "      <td>[0.35544389486312866, 0.029853176325559616, 0....</td>\n",
       "    </tr>\n",
       "  </tbody>\n",
       "</table>\n",
       "<p>900 rows × 9 columns</p>\n",
       "</div>"
      ],
      "text/plain": [
       "                        airport_name airport_code continent  \\\n",
       "0                  Frankfurt am Main          FRA        EU   \n",
       "1            Paris Charles de Gaulle          CDG        EU   \n",
       "2     Istanbul International Airport          IST        EU   \n",
       "3         Amsterdam Airport Schiphol          AMS        EU   \n",
       "4       Munich International Airport          MUC        EU   \n",
       "..                               ...          ...       ...   \n",
       "895         Nanping Wuyishan Airport          WUS        AS   \n",
       "896     Scott AFB/Midamerica Airport          BLV        NA   \n",
       "897   Canberra International Airport          CBR        OC   \n",
       "898  Mangalore International Airport          IXE        AS   \n",
       "899           Cherry Capital Airport          TVC        NA   \n",
       "\n",
       "                                     shallowUnweighted  \\\n",
       "0    [-0.07399057596921921, 0.2620871663093567, 0.1...   \n",
       "1    [-0.06564060598611832, 0.055160876363515854, 0...   \n",
       "2    [0.026787318289279938, 0.2438107430934906, 0.1...   \n",
       "3    [-0.1855502426624298, 0.16803550720214844, 0.1...   \n",
       "4    [-0.20580337941646576, 0.11519283056259155, 0....   \n",
       "..                                                 ...   \n",
       "895  [-0.15465746819972992, -0.29468223452568054, -...   \n",
       "896  [0.3646937608718872, 0.18155963718891144, -0.1...   \n",
       "897  [0.0862639844417572, 0.5978029370307922, 0.028...   \n",
       "898  [0.0036581531167030334, 0.37329620122909546, 0...   \n",
       "899  [0.14239120483398438, 0.07686980068683624, 0.2...   \n",
       "\n",
       "                                      mediumUnweighted  \\\n",
       "0    [-0.11316736042499542, 0.24514061212539673, 0....   \n",
       "1    [-0.11409448832273483, 0.21923694014549255, 0....   \n",
       "2    [-0.025942979380488396, 0.2735888957977295, 0....   \n",
       "3    [-0.16270774602890015, 0.2214188426733017, 0.1...   \n",
       "4    [-0.16538169980049133, 0.2382025420665741, 0.1...   \n",
       "..                                                 ...   \n",
       "895  [-0.16766786575317383, -0.05741892755031586, -...   \n",
       "896  [0.38825953006744385, 0.09397226572036743, -0....   \n",
       "897  [0.18571466207504272, 0.6202242374420166, 0.07...   \n",
       "898  [0.11747836321592331, 0.337380051612854, 0.131...   \n",
       "899  [0.2795731723308563, 0.05664905160665512, 0.08...   \n",
       "\n",
       "                                        deepUnweighted  \\\n",
       "0    [-0.15192122757434845, 0.5060424208641052, 0.2...   \n",
       "1    [-0.15566448867321014, 0.28849947452545166, 0....   \n",
       "2    [-0.0012168977409601212, 0.5254808664321899, 0...   \n",
       "3    [-0.297057569026947, 0.40379035472869873, 0.24...   \n",
       "4    [-0.3348800837993622, 0.3535888195037842, 0.32...   \n",
       "..                                                 ...   \n",
       "895  [-0.28116992115974426, -0.25400516390800476, -...   \n",
       "896  [0.6421867609024048, 0.2155066579580307, -0.12...   \n",
       "897  [0.1772807538509369, 1.2233781814575195, 0.106...   \n",
       "898  [0.08971487730741501, 0.7435741424560547, 0.12...   \n",
       "899  [0.36861124634742737, 0.10893549770116806, 0.2...   \n",
       "\n",
       "                                       shallowWeighted  \\\n",
       "0    [-0.19411295652389526, 0.2675624191761017, 0.2...   \n",
       "1    [-0.15881961584091187, 0.0621316060423851, 0.2...   \n",
       "2    [-0.0003005862236022949, 0.26281487941741943, ...   \n",
       "3    [-0.28153276443481445, 0.19925662875175476, 0....   \n",
       "4    [-0.29063165187835693, 0.13292333483695984, 0....   \n",
       "..                                                 ...   \n",
       "895  [-0.16491110622882843, -0.310563325881958, -0....   \n",
       "896  [0.3598550856113434, 0.179595947265625, -0.126...   \n",
       "897  [0.04642222821712494, 0.528540849685669, 0.041...   \n",
       "898  [-0.029092632234096527, 0.34626173973083496, 0...   \n",
       "899  [0.13504764437675476, 0.0393684059381485, 0.25...   \n",
       "\n",
       "                                        mediumWeighted  \\\n",
       "0    [-0.1977788209915161, 0.2508077621459961, 0.13...   \n",
       "1    [-0.20260721445083618, 0.22906702756881714, 0....   \n",
       "2    [-0.06701691448688507, 0.2827916741371155, 0.1...   \n",
       "3    [-0.2414441704750061, 0.22703152894973755, 0.1...   \n",
       "4    [-0.233033686876297, 0.24436715245246887, 0.15...   \n",
       "..                                                 ...   \n",
       "895  [-0.19777408242225647, -0.0949367955327034, -0...   \n",
       "896  [0.38907772302627563, 0.08189046382904053, -0....   \n",
       "897  [0.12939876317977905, 0.6064460277557373, 0.09...   \n",
       "898  [0.06642842292785645, 0.3237442374229431, 0.11...   \n",
       "899  [0.26504385471343994, 0.01004377193748951, 0.1...   \n",
       "\n",
       "                                          deepWeighted  \n",
       "0    [-0.36135566234588623, 0.5160863399505615, 0.3...  \n",
       "1    [-0.3372170031070709, 0.30104851722717285, 0.3...  \n",
       "2    [-0.07971426844596863, 0.5542945861816406, 0.3...  \n",
       "3    [-0.47922539710998535, 0.43863940238952637, 0....  \n",
       "4    [-0.4940841495990753, 0.37679851055145264, 0.3...  \n",
       "..                                                 ...  \n",
       "895  [-0.33032694458961487, -0.3239209055900574, -0...  \n",
       "896  [0.6340279579162598, 0.1816011667251587, -0.09...  \n",
       "897  [0.1165374219417572, 1.1702359914779663, 0.154...  \n",
       "898  [0.023804744705557823, 0.7144446969032288, 0.1...  \n",
       "899  [0.35544389486312866, 0.029853176325559616, 0....  \n",
       "\n",
       "[900 rows x 9 columns]"
      ]
     },
     "execution_count": 18,
     "metadata": {},
     "output_type": "execute_result"
    }
   ],
   "source": [
    "embedding_df"
   ]
  },
  {
   "cell_type": "code",
   "execution_count": 19,
   "id": "0ef8267a",
   "metadata": {},
   "outputs": [],
   "source": [
    "def create_emblaze_embedding(embedding_df, column):\n",
    "    emb = emblaze.Embedding({\n",
    "             emblaze.Field.POSITION: np.array(list(embedding_df[column])),\n",
    "             emblaze.Field.COLOR: embedding_df['continent']}, \n",
    "             n_neighbors = 10,\n",
    "             label=column, \n",
    "             metric='cosine')\n",
    "    emb.compute_neighbors()\n",
    "    return emb.project()"
   ]
  },
  {
   "cell_type": "code",
   "execution_count": 20,
   "id": "61520bf7",
   "metadata": {},
   "outputs": [],
   "source": [
    "emblaze_embeddings = [create_emblaze_embedding(embedding_df, column)    \n",
    "   for column in embedding_df.columns[3:]]"
   ]
  },
  {
   "cell_type": "code",
   "execution_count": null,
   "id": "567f3a3f",
   "metadata": {},
   "outputs": [],
   "source": []
  },
  {
   "cell_type": "code",
   "execution_count": 21,
   "id": "4739a20e",
   "metadata": {},
   "outputs": [],
   "source": [
    "variants = emblaze.EmbeddingSet(emblaze_embeddings)"
   ]
  },
  {
   "cell_type": "code",
   "execution_count": 22,
   "id": "ead84947",
   "metadata": {},
   "outputs": [],
   "source": [
    "thumbnails = emblaze.TextThumbnails(embedding_df['airport_name'] + \n",
    "   \" (\" + embedding_df['airport_code'] + \")\")"
   ]
  },
  {
   "cell_type": "code",
   "execution_count": 23,
   "id": "4c51c2b2",
   "metadata": {},
   "outputs": [
    {
     "name": "stderr",
     "output_type": "stream",
     "text": [
      "/home/sahilarora/anaconda3/lib/python3.9/site-packages/numpy/core/fromnumeric.py:3440: RuntimeWarning: Mean of empty slice.\n",
      "  return _methods._mean(a, axis=axis, dtype=dtype,\n",
      "/home/sahilarora/anaconda3/lib/python3.9/site-packages/numpy/core/_methods.py:189: RuntimeWarning: invalid value encountered in double_scalars\n",
      "  ret = ret.dtype.type(ret / rcount)\n",
      "/home/sahilarora/anaconda3/lib/python3.9/site-packages/numpy/core/fromnumeric.py:3440: RuntimeWarning: Mean of empty slice.\n",
      "  return _methods._mean(a, axis=axis, dtype=dtype,\n",
      "/home/sahilarora/anaconda3/lib/python3.9/site-packages/numpy/core/_methods.py:189: RuntimeWarning: invalid value encountered in double_scalars\n",
      "  ret = ret.dtype.type(ret / rcount)\n"
     ]
    }
   ],
   "source": [
    "w = emblaze.Viewer(embeddings = variants, thumbnails = thumbnails)"
   ]
  },
  {
   "cell_type": "code",
   "execution_count": 24,
   "id": "22db3a07",
   "metadata": {},
   "outputs": [
    {
     "data": {
      "application/vnd.jupyter.widget-view+json": {
       "model_id": "3b97fd0ade014b63b13db41ede283709",
       "version_major": 2,
       "version_minor": 0
      },
      "text/plain": [
       "Viewer(colorScheme='tableau', data={'data': [{'_format': 'compressed', '_idtype': 'u2', '_length': 900, 'ids':…"
      ]
     },
     "metadata": {},
     "output_type": "display_data"
    }
   ],
   "source": [
    "w"
   ]
  },
  {
   "cell_type": "code",
   "execution_count": 25,
   "id": "bf226cb7-9136-4a47-9d4b-5d45c8ae8096",
   "metadata": {},
   "outputs": [
    {
     "data": {
      "text/plain": [
       "graphName                                                   air-routes\n",
       "database                                                         neo4j\n",
       "memoryUsage                                                           \n",
       "sizeInBytes                                                         -1\n",
       "nodeCount                                                         3503\n",
       "relationshipCount                                                49476\n",
       "configuration                                                       {}\n",
       "density                                                       0.004033\n",
       "creationTime                       2022-10-19T12:17:48.275232000+05:30\n",
       "modificationTime                   2022-10-19T12:17:50.891201000+05:30\n",
       "schema               {'relationships': {'HAS_ROUTE': {'weight': 'Fl...\n",
       "Name: 0, dtype: object"
      ]
     },
     "execution_count": 25,
     "metadata": {},
     "output_type": "execute_result"
    }
   ],
   "source": [
    "G_connected_airports.drop()\n",
    "G_routes.drop()"
   ]
  },
  {
   "cell_type": "code",
   "execution_count": null,
   "id": "e93a1b78-c84a-41ad-bb75-eeed31e87427",
   "metadata": {},
   "outputs": [],
   "source": []
  }
 ],
 "metadata": {
  "kernelspec": {
   "display_name": "Python 3 (ipykernel)",
   "language": "python",
   "name": "python3"
  },
  "language_info": {
   "codemirror_mode": {
    "name": "ipython",
    "version": 3
   },
   "file_extension": ".py",
   "mimetype": "text/x-python",
   "name": "python",
   "nbconvert_exporter": "python",
   "pygments_lexer": "ipython3",
   "version": "3.9.12"
  }
 },
 "nbformat": 4,
 "nbformat_minor": 5
}
