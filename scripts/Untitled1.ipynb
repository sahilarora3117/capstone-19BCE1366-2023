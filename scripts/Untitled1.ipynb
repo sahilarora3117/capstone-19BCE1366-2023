{
 "cells": [
  {
   "cell_type": "code",
   "execution_count": 19,
   "id": "01acb02b-ba33-4ec1-8651-e5a34667831a",
   "metadata": {},
   "outputs": [],
   "source": [
    "import tensorflow as tf "
   ]
  },
  {
   "cell_type": "code",
   "execution_count": 45,
   "id": "6cb187d2-b6ff-482d-a152-99e8715ce818",
   "metadata": {},
   "outputs": [],
   "source": [
    "import ampligraph\n",
    "import numpy as np\n",
    "import pandas as pd\n",
    "import tensorflow as tf\n",
    "from ampligraph.datasets import load_fb15k_237\n",
    "from ampligraph.evaluation import train_test_split_no_unseen, evaluate_performance, mr_score, mrr_score, hits_at_n_score\n",
    "from ampligraph.discovery import query_topn, discover_facts, find_clusters\n",
    "from ampligraph.latent_features import TransE, ComplEx, HolE, DistMult, ConvE, ConvKB\n",
    "from ampligraph.utils import save_model, restore_model\n",
    "from tqdm import tqdm"
   ]
  },
  {
   "cell_type": "code",
   "execution_count": 21,
   "id": "4091d892-9d04-4f24-be57-ec9c50326ca1",
   "metadata": {},
   "outputs": [
    {
     "name": "stdout",
     "output_type": "stream",
     "text": [
      "Ampligraph version: 1.4.0\n"
     ]
    }
   ],
   "source": [
    "def display_aggregate_metrics(ranks):\n",
    "    print('Mean Rank:', mr_score(ranks)) \n",
    "    print('Mean Reciprocal Rank:', mrr_score(ranks)) \n",
    "    print('Hits@1:', hits_at_n_score(ranks, 1))\n",
    "    print('Hits@10:', hits_at_n_score(ranks, 10))\n",
    "    print('Hits@100:', hits_at_n_score(ranks, 100))\n",
    "\n",
    "print('Ampligraph version: {}'.format(ampligraph.__version__))"
   ]
  },
  {
   "cell_type": "code",
   "execution_count": 26,
   "id": "9339e584-5da2-41c8-a9a4-5753fba930b8",
   "metadata": {},
   "outputs": [
    {
     "name": "stdout",
     "output_type": "stream",
     "text": [
      "Total triples: (73954, 3)\n",
      "Size of train: (70954, 3)\n",
      "Size of valid: (1000, 3)\n",
      "Size of test: (2000, 3)\n"
     ]
    }
   ],
   "source": [
    "dataset_new = pd.read_csv(\"../data/routes.csv\")\n",
    "dataset_new.columns = ['_start', '_end', '_type','_distance']\n",
    "dataset_new = dataset_new.reindex(columns=['_start', '_type', '_end', '_distance'])\n",
    "dataset_new.drop(dataset_new.index[dataset_new['_start'] == '_start'], inplace=True)\n",
    "dataset_new.drop(columns=['_distance'], inplace=True)\n",
    "# dataset_new = dataset_new.loc[dataset_new['_type'] != \"HAS_ROUTE\"]\n",
    "dataset_new.head(10)\n",
    "ent_to_id ,rel_to_idx = ampligraph.evaluation.create_mappings(dataset_new.to_numpy())\n",
    "dataset_new = ampligraph.evaluation.to_idx(dataset_new.to_numpy(), rel_to_idx, ent_to_id)\n",
    "test_train, X_valid = train_test_split_no_unseen(dataset_new, 1000, seed=0)\n",
    "\n",
    "X_train, X_test = train_test_split_no_unseen(test_train, 2000, seed=0)\n",
    "\n",
    "print('Total triples:', dataset_new.shape)\n",
    "print('Size of train:', X_train.shape)\n",
    "print('Size of valid:', X_valid.shape)\n",
    "print('Size of test:', X_test.shape)"
   ]
  },
  {
   "cell_type": "code",
   "execution_count": 27,
   "id": "06437e19-46a0-4e8f-99f3-724d68b06f8d",
   "metadata": {},
   "outputs": [
    {
     "data": {
      "text/plain": [
       "array([[1640,    4, 8622],\n",
       "       [ 203,    0, 1739],\n",
       "       [1473,    0,   66],\n",
       "       ...,\n",
       "       [  57,    0, 1173],\n",
       "       [1206,    4, 8625],\n",
       "       [ 693,    0,  903]])"
      ]
     },
     "execution_count": 27,
     "metadata": {},
     "output_type": "execute_result"
    }
   ],
   "source": [
    "X_train"
   ]
  },
  {
   "cell_type": "code",
   "execution_count": 28,
   "id": "b163b6b8-fe2f-4c51-9eed-49593de32b71",
   "metadata": {},
   "outputs": [
    {
     "name": "stderr",
     "output_type": "stream",
     "text": [
      "Average TransE Loss:   0.023726: 100%|████████████████████████████████████████████████████████████████████████████████| 300/300 [02:14<00:00,  2.24epoch/s]\n",
      "100%|██████████████████████████████████████████████████████████████████████████████████████████████████████████████████| 2000/2000 [00:24<00:00, 80.16it/s]\n"
     ]
    },
    {
     "name": "stdout",
     "output_type": "stream",
     "text": [
      "Mean Rank: 163.081\n",
      "Mean Reciprocal Rank: 0.18552176422303676\n",
      "Hits@1: 0.0005\n",
      "Hits@10: 0.542\n",
      "Hits@100: 0.8315\n"
     ]
    }
   ],
   "source": [
    "model = TransE(k=200,                                                             # embedding size\n",
    "               epochs=300,                                                        # Num of epochs\n",
    "               batches_count= 10,                                                 # Number of batches \n",
    "               eta=2,                                                             # number of corruptions to generate during training\n",
    "               loss='pairwise', loss_params={'margin': 1},                        # loss type and it's hyperparameters         \n",
    "               initializer='xavier', initializer_params={'uniform': False},       # initializer type and it's hyperparameters\n",
    "               regularizer='LP', regularizer_params= {'lambda': 0.001, 'p': 3},   # regularizer along with its hyperparameters\n",
    "               optimizer= 'adam', optimizer_params= {'lr': 0.001},                # optimizer to use along with its                \n",
    "               seed= 0, verbose=True)\n",
    "\n",
    "model.fit(X_train)\n",
    "\n",
    "X_filter = np.concatenate([X_train, X_valid, X_test], 0)\n",
    "\n",
    "ranks = evaluate_performance(X_test, \n",
    "                             model=model, \n",
    "                             filter_triples=X_filter, filter_unseen=True)\n",
    "\n",
    "save_model(model, 'test/TransE.pkl')\n",
    "display_aggregate_metrics(ranks)"
   ]
  },
  {
   "cell_type": "code",
   "execution_count": 77,
   "id": "13dec782-c949-431d-9e23-f72926491639",
   "metadata": {},
   "outputs": [
    {
     "name": "stdout",
     "output_type": "stream",
     "text": [
      "WARNING - All triples will be processed in the same batch (batches_count=1). When processing large graphs it is recommended to batch the input knowledge graph instead.\n"
     ]
    },
    {
     "name": "stderr",
     "output_type": "stream",
     "text": [
      "  0%|                                                                                                                           | 0/300 [00:00<?, ?epoch/s]2023-01-08 15:39:59.197072: W tensorflow/core/framework/cpu_allocator_impl.cc:81] Allocation of 113526400 exceeds 10% of system memory.\n",
      "2023-01-08 15:39:59.197197: W tensorflow/core/framework/cpu_allocator_impl.cc:81] Allocation of 113526400 exceeds 10% of system memory.\n",
      "2023-01-08 15:39:59.197217: W tensorflow/core/framework/cpu_allocator_impl.cc:81] Allocation of 113526400 exceeds 10% of system memory.\n",
      "2023-01-08 15:39:59.249474: W tensorflow/core/framework/cpu_allocator_impl.cc:81] Allocation of 113526400 exceeds 10% of system memory.\n",
      "2023-01-08 15:39:59.249788: W tensorflow/core/framework/cpu_allocator_impl.cc:81] Allocation of 113526400 exceeds 10% of system memory.\n",
      "Average ComplEx Loss:   0.110729: 100%|███████████████████████████████████████████████████████████████████████████████| 300/300 [09:56<00:00,  1.99s/epoch]\n",
      "100%|██████████████████████████████████████████████████████████████████████████████████████████████████████████████████| 2000/2000 [01:46<00:00, 18.70it/s]"
     ]
    },
    {
     "name": "stdout",
     "output_type": "stream",
     "text": [
      "Mean Rank: 213.251\n",
      "Mean Reciprocal Rank: 0.2387062421129227\n",
      "Hits@1: 0.1735\n",
      "Hits@10: 0.3635\n",
      "Hits@100: 0.67525\n"
     ]
    },
    {
     "name": "stderr",
     "output_type": "stream",
     "text": [
      "\n"
     ]
    }
   ],
   "source": [
    "model = ComplEx(k=200, epochs=300, eta=1, loss='multiclass_nll', \n",
    "                initializer='xavier', initializer_params={'uniform': False},\n",
    "                regularizer='LP', regularizer_params= {'lambda': 0.0001, 'p': 3},\n",
    "\n",
    "                \n",
    "                \n",
    "                \n",
    "                seed= 0, batches_count= 1, verbose=True)\n",
    "model.fit(X_train)\n",
    "\n",
    "X_filter = np.concatenate([X_train, X_valid, X_test], 0)\n",
    "\n",
    "ranks = evaluate_performance(X_test, \n",
    "                             model=model, \n",
    "                             filter_triples=X_filter)\n",
    "\n",
    "save_model(model, 'test/ComplEx.pkl')\n",
    "display_aggregate_metrics(ranks)\n"
   ]
  },
  {
   "cell_type": "code",
   "execution_count": 78,
   "id": "24da2296-905d-47f3-b4b8-fc613ca887ab",
   "metadata": {},
   "outputs": [
    {
     "name": "stdout",
     "output_type": "stream",
     "text": [
      "WARNING - All triples will be processed in the same batch (batches_count=1). When processing large graphs it is recommended to batch the input knowledge graph instead.\n"
     ]
    },
    {
     "name": "stderr",
     "output_type": "stream",
     "text": [
      "Average DistMult Loss:   0.202328: 100%|██████████████████████████████████████████████████████████████████████████████| 300/300 [02:03<00:00,  2.43epoch/s]\n",
      "100%|██████████████████████████████████████████████████████████████████████████████████████████████████████████████████| 2000/2000 [00:22<00:00, 88.22it/s]\n"
     ]
    },
    {
     "name": "stdout",
     "output_type": "stream",
     "text": [
      "Mean Rank: 230.1245\n",
      "Mean Reciprocal Rank: 0.2541328064527293\n",
      "Hits@1: 0.191\n",
      "Hits@10: 0.3725\n",
      "Hits@100: 0.65575\n"
     ]
    }
   ],
   "source": [
    "model = DistMult(k=200, epochs=300, eta=1, loss='multiclass_nll', \n",
    "                initializer='xavier', initializer_params={'uniform': False},\n",
    "                regularizer='LP', regularizer_params= {'lambda': 0.0001, 'p': 3},\n",
    "\n",
    "                \n",
    "                \n",
    "                \n",
    "                seed= 0, batches_count= 1, verbose=True)\n",
    "model.fit(X_train)\n",
    "\n",
    "X_filter = np.concatenate([X_train, X_valid, X_test], 0)\n",
    "\n",
    "ranks = evaluate_performance(X_test, \n",
    "                             model=model, \n",
    "                             filter_triples=X_filter)\n",
    "\n",
    "save_model(model, 'test/DistMult.pkl')\n",
    "display_aggregate_metrics(ranks)"
   ]
  },
  {
   "cell_type": "code",
   "execution_count": null,
   "id": "b9cb5401-712b-4a0f-ae0b-4cc5ce6d4777",
   "metadata": {},
   "outputs": [
    {
     "name": "stderr",
     "output_type": "stream",
     "text": [
      "Average ConvKB Loss:   0.031474: 100%|████████████████████████████████████████████████████████████████████████████████| 100/100 [17:21<00:00, 10.42s/epoch]\n",
      "100%|██████████████████████████████████████████████████████████████████████████████████████████████████████████████████| 2000/2000 [25:13<00:00,  1.32it/s]"
     ]
    },
    {
     "name": "stdout",
     "output_type": "stream",
     "text": [
      "Mean Rank: 236.736\n",
      "Mean Reciprocal Rank: 0.22788252786336363\n",
      "Hits@1: 0.13525\n",
      "Hits@10: 0.405\n",
      "Hits@100: 0.74075\n"
     ]
    },
    {
     "name": "stderr",
     "output_type": "stream",
     "text": [
      "\n"
     ]
    }
   ],
   "source": [
    "model = ConvKB(k=200, epochs=100, eta=1, loss='multiclass_nll', \n",
    "                initializer='xavier', initializer_params={'uniform': False},\n",
    "                regularizer='LP', regularizer_params= {'lambda': 0.0001, 'p': 3},\n",
    "                optimizer= 'adam', optimizer_params= {'lr': 0.001}, \n",
    "                seed= 0, \n",
    "                batches_count= 5, # Goes OOM (ResourceExhaustedError) if batch count is 1\n",
    "                verbose=True)\n",
    "model.fit(X_train)\n",
    "\n",
    "X_filter = np.concatenate([X_train, X_valid, X_test], 0)\n",
    "\n",
    "ranks = evaluate_performance(X_test, \n",
    "                             model=model, \n",
    "                             filter_triples=X_filter)\n",
    "\n",
    "save_model(model, 'test/ConvKB.pkl')\n",
    "display_aggregate_metrics(ranks)"
   ]
  },
  {
   "cell_type": "code",
   "execution_count": null,
   "id": "322aa594-2921-49d8-9c6a-79150aa7f6d5",
   "metadata": {},
   "outputs": [],
   "source": []
  },
  {
   "cell_type": "code",
   "execution_count": 86,
   "id": "2e869330-c334-4079-baa8-443350cce9a6",
   "metadata": {},
   "outputs": [],
   "source": [
    "def predict_scores_train(model_location):\n",
    "    model = restore_model(model_location)\n",
    "    data_to_test = pd.DataFrame(X_valid, columns = ['_start', '_type', '_end'])\n",
    "    uniuqe_predicate = data_to_test._type.unique()\n",
    "    score = 0\n",
    "    for i in tqdm(range(len(data_to_test))):\n",
    "        score +=  model.predict([data_to_test.loc[i,\"_start\"],data_to_test.loc[i,\"_type\"],data_to_test.loc[i,\"_end\"]])\n",
    "    print(score / len(data_to_test))"
   ]
  },
  {
   "cell_type": "code",
   "execution_count": 87,
   "id": "d64ade75-09d9-40ff-ac54-a75a90c57454",
   "metadata": {},
   "outputs": [],
   "source": [
    "def predict_scores(model_location):\n",
    "    model = restore_model(model_location)\n",
    "    data_to_test = pd.DataFrame(X_test, columns = ['_start', '_type', '_end'])\n",
    "    uniuqe_predicate = data_to_test._type.unique()\n",
    "    score = 0\n",
    "    for i in tqdm(range(len(data_to_test))):\n",
    "        score +=  model.predict([data_to_test.loc[i,\"_start\"],data_to_test.loc[i,\"_type\"],data_to_test.loc[i,\"_end\"]])\n",
    "    print(score / len(data_to_test))\n",
    "            \n",
    "                                                                                      \n",
    "\n"
   ]
  },
  {
   "cell_type": "code",
   "execution_count": 89,
   "id": "8cca827f-b73c-4653-b077-f178e36e5fbb",
   "metadata": {},
   "outputs": [
    {
     "name": "stderr",
     "output_type": "stream",
     "text": [
      "100%|██████████████████████████████████████████████████████████████████████████████████████████████████████████████████| 2000/2000 [01:35<00:00, 20.98it/s]\n"
     ]
    },
    {
     "name": "stdout",
     "output_type": "stream",
     "text": [
      "[-9.825143]\n",
      "train\n"
     ]
    },
    {
     "name": "stderr",
     "output_type": "stream",
     "text": [
      "100%|██████████████████████████████████████████████████████████████████████████████████████████████████████████████████| 1000/1000 [00:47<00:00, 21.26it/s]"
     ]
    },
    {
     "name": "stdout",
     "output_type": "stream",
     "text": [
      "[-9.8588705]\n"
     ]
    },
    {
     "name": "stderr",
     "output_type": "stream",
     "text": [
      "\n"
     ]
    }
   ],
   "source": [
    "predict_scores(\"test/TransE.pkl\")\n",
    "print(\"train\")\n",
    "predict_scores_train(\"test/TransE.pkl\")"
   ]
  },
  {
   "cell_type": "code",
   "execution_count": 90,
   "id": "de2bc888-f3c4-4ff1-a0b4-9fa5498f79c9",
   "metadata": {},
   "outputs": [
    {
     "name": "stdout",
     "output_type": "stream",
     "text": [
      "WARNING - All triples will be processed in the same batch (batches_count=1). When processing large graphs it is recommended to batch the input knowledge graph instead.\n"
     ]
    },
    {
     "name": "stderr",
     "output_type": "stream",
     "text": [
      "100%|██████████████████████████████████████████████████████████████████████████████████████████████████████████████████| 2000/2000 [02:27<00:00, 13.56it/s]"
     ]
    },
    {
     "name": "stdout",
     "output_type": "stream",
     "text": [
      "[1.8920759]\n",
      "train\n",
      "WARNING - All triples will be processed in the same batch (batches_count=1). When processing large graphs it is recommended to batch the input knowledge graph instead.\n"
     ]
    },
    {
     "name": "stderr",
     "output_type": "stream",
     "text": [
      "\n",
      "100%|██████████████████████████████████████████████████████████████████████████████████████████████████████████████████| 1000/1000 [01:13<00:00, 13.61it/s]"
     ]
    },
    {
     "name": "stdout",
     "output_type": "stream",
     "text": [
      "[1.8427835]\n"
     ]
    },
    {
     "name": "stderr",
     "output_type": "stream",
     "text": [
      "\n"
     ]
    }
   ],
   "source": [
    "predict_scores(\"test/ComplEx.pkl\")\n",
    "print(\"train\")\n",
    "predict_scores_train(\"test/ComplEx.pkl\")"
   ]
  },
  {
   "cell_type": "code",
   "execution_count": 91,
   "id": "994fddbe-8eff-40fa-a580-916ce7c94851",
   "metadata": {},
   "outputs": [
    {
     "name": "stdout",
     "output_type": "stream",
     "text": [
      "WARNING - All triples will be processed in the same batch (batches_count=1). When processing large graphs it is recommended to batch the input knowledge graph instead.\n"
     ]
    },
    {
     "name": "stderr",
     "output_type": "stream",
     "text": [
      "100%|██████████████████████████████████████████████████████████████████████████████████████████████████████████████████| 2000/2000 [01:30<00:00, 22.06it/s]"
     ]
    },
    {
     "name": "stdout",
     "output_type": "stream",
     "text": [
      "[1.3430394]\n",
      "train\n",
      "WARNING - All triples will be processed in the same batch (batches_count=1). When processing large graphs it is recommended to batch the input knowledge graph instead.\n"
     ]
    },
    {
     "name": "stderr",
     "output_type": "stream",
     "text": [
      "\n",
      "100%|██████████████████████████████████████████████████████████████████████████████████████████████████████████████████| 1000/1000 [00:45<00:00, 21.99it/s]"
     ]
    },
    {
     "name": "stdout",
     "output_type": "stream",
     "text": [
      "[1.321544]\n"
     ]
    },
    {
     "name": "stderr",
     "output_type": "stream",
     "text": [
      "\n"
     ]
    }
   ],
   "source": [
    "predict_scores(\"test/DistMult.pkl\")\n",
    "print(\"train\")\n",
    "predict_scores_train(\"test/DistMult.pkl\")"
   ]
  },
  {
   "cell_type": "code",
   "execution_count": 92,
   "id": "acbd4f94-941b-4907-9bdf-c944501c799c",
   "metadata": {},
   "outputs": [
    {
     "name": "stderr",
     "output_type": "stream",
     "text": [
      "100%|██████████████████████████████████████████████████████████████████████████████████████████████████████████████████| 2000/2000 [02:28<00:00, 13.45it/s]\n"
     ]
    },
    {
     "name": "stdout",
     "output_type": "stream",
     "text": [
      "6.132646740171127\n",
      "train\n"
     ]
    },
    {
     "name": "stderr",
     "output_type": "stream",
     "text": [
      "100%|██████████████████████████████████████████████████████████████████████████████████████████████████████████████████| 1000/1000 [01:14<00:00, 13.50it/s]"
     ]
    },
    {
     "name": "stdout",
     "output_type": "stream",
     "text": [
      "6.0166484672315415\n"
     ]
    },
    {
     "name": "stderr",
     "output_type": "stream",
     "text": [
      "\n"
     ]
    }
   ],
   "source": [
    "predict_scores(\"test/ConvKB.pkl\")\n",
    "print(\"train\")\n",
    "predict_scores_train(\"test/ConvKB.pkl\")"
   ]
  },
  {
   "cell_type": "code",
   "execution_count": null,
   "id": "3e310d89-beae-4030-a0bb-7aabe76f6d17",
   "metadata": {},
   "outputs": [],
   "source": []
  }
 ],
 "metadata": {
  "kernelspec": {
   "display_name": "Python 3 (ipykernel)",
   "language": "python",
   "name": "python3"
  },
  "language_info": {
   "codemirror_mode": {
    "name": "ipython",
    "version": 3
   },
   "file_extension": ".py",
   "mimetype": "text/x-python",
   "name": "python",
   "nbconvert_exporter": "python",
   "pygments_lexer": "ipython3",
   "version": "3.7.15"
  }
 },
 "nbformat": 4,
 "nbformat_minor": 5
}
